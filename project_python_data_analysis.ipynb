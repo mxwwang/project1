{
 "cells": [
  {
   "cell_type": "markdown",
   "id": "278ae947",
   "metadata": {},
   "source": [
    "# Locations, Industries and Years: A Deep Dive into Unicorn Companies\n",
    "\n",
    "\n",
    "**Project 1 - Python Data Analysis**\\\n",
    "**June 2022**"
   ]
  },
  {
   "cell_type": "markdown",
   "id": "39bfe6d1",
   "metadata": {},
   "source": [
    "A unicorn company is a private startup company valued at over US $1 billion. This exploratory analysis dives into features and trends of unicorns."
   ]
  },
  {
   "cell_type": "markdown",
   "id": "290ca81e",
   "metadata": {},
   "source": [
    "# *Data*\n",
    "* https://www.kaggle.com/datasets/deepcontractor/unicorn-companies-dataset\n",
    "* https://www.kaggle.com/datasets/mysarahmadbhat/unicorn-companies/code?select=Unicorn_Companies.csv"
   ]
  },
  {
   "cell_type": "markdown",
   "id": "78c76cbf",
   "metadata": {},
   "source": [
    "# *Code*"
   ]
  },
  {
   "cell_type": "code",
   "execution_count": 1,
   "id": "b7587b79",
   "metadata": {},
   "outputs": [],
   "source": [
    "import numpy as np\n",
    "import pandas as pd\n",
    "from matplotlib import pyplot as plt\n",
    "import seaborn as sns"
   ]
  },
  {
   "cell_type": "markdown",
   "id": "4301e47b",
   "metadata": {},
   "source": [
    "# Load data"
   ]
  },
  {
   "cell_type": "code",
   "execution_count": 2,
   "id": "977d8570",
   "metadata": {},
   "outputs": [],
   "source": [
    "raw_unicorn2022 = pd.read_csv('data/Unicorn_Companies.csv',na_values=['None','Unknown'])"
   ]
  },
  {
   "cell_type": "code",
   "execution_count": 3,
   "id": "14899981",
   "metadata": {},
   "outputs": [
    {
     "data": {
      "text/plain": [
       "(1074, 10)"
      ]
     },
     "execution_count": 3,
     "metadata": {},
     "output_type": "execute_result"
    }
   ],
   "source": [
    "raw_unicorn2022.shape #(1074, 10)"
   ]
  },
  {
   "cell_type": "code",
   "execution_count": 4,
   "id": "9ad30187",
   "metadata": {
    "scrolled": true
   },
   "outputs": [
    {
     "data": {
      "text/plain": [
       "Index(['Company', 'Valuation', 'Date Joined', 'Industry', 'City', 'Country',\n",
       "       'Continent', 'Year Founded', 'Funding', 'Select Investors'],\n",
       "      dtype='object')"
      ]
     },
     "execution_count": 4,
     "metadata": {},
     "output_type": "execute_result"
    }
   ],
   "source": [
    "raw_unicorn2022.columns"
   ]
  },
  {
   "cell_type": "code",
   "execution_count": 5,
   "id": "b765bb1f",
   "metadata": {},
   "outputs": [
    {
     "data": {
      "text/plain": [
       "Company             object\n",
       "Valuation           object\n",
       "Date Joined         object\n",
       "Industry            object\n",
       "City                object\n",
       "Country             object\n",
       "Continent           object\n",
       "Year Founded         int64\n",
       "Funding             object\n",
       "Select Investors    object\n",
       "dtype: object"
      ]
     },
     "execution_count": 5,
     "metadata": {},
     "output_type": "execute_result"
    }
   ],
   "source": [
    "raw_unicorn2022.dtypes"
   ]
  },
  {
   "cell_type": "code",
   "execution_count": 6,
   "id": "3626172a",
   "metadata": {},
   "outputs": [
    {
     "data": {
      "text/html": [
       "<div>\n",
       "<style scoped>\n",
       "    .dataframe tbody tr th:only-of-type {\n",
       "        vertical-align: middle;\n",
       "    }\n",
       "\n",
       "    .dataframe tbody tr th {\n",
       "        vertical-align: top;\n",
       "    }\n",
       "\n",
       "    .dataframe thead th {\n",
       "        text-align: right;\n",
       "    }\n",
       "</style>\n",
       "<table border=\"1\" class=\"dataframe\">\n",
       "  <thead>\n",
       "    <tr style=\"text-align: right;\">\n",
       "      <th></th>\n",
       "      <th>Company</th>\n",
       "      <th>Valuation</th>\n",
       "      <th>Date Joined</th>\n",
       "      <th>Industry</th>\n",
       "      <th>City</th>\n",
       "      <th>Country</th>\n",
       "      <th>Continent</th>\n",
       "      <th>Year Founded</th>\n",
       "      <th>Funding</th>\n",
       "      <th>Select Investors</th>\n",
       "    </tr>\n",
       "  </thead>\n",
       "  <tbody>\n",
       "    <tr>\n",
       "      <th>0</th>\n",
       "      <td>Bytedance</td>\n",
       "      <td>$180B</td>\n",
       "      <td>2017-04-07</td>\n",
       "      <td>Artificial intelligence</td>\n",
       "      <td>Beijing</td>\n",
       "      <td>China</td>\n",
       "      <td>Asia</td>\n",
       "      <td>2012</td>\n",
       "      <td>$8B</td>\n",
       "      <td>Sequoia Capital China, SIG Asia Investments, S...</td>\n",
       "    </tr>\n",
       "    <tr>\n",
       "      <th>1</th>\n",
       "      <td>SpaceX</td>\n",
       "      <td>$100B</td>\n",
       "      <td>2012-12-01</td>\n",
       "      <td>Other</td>\n",
       "      <td>Hawthorne</td>\n",
       "      <td>United States</td>\n",
       "      <td>North America</td>\n",
       "      <td>2002</td>\n",
       "      <td>$7B</td>\n",
       "      <td>Founders Fund, Draper Fisher Jurvetson, Rothen...</td>\n",
       "    </tr>\n",
       "    <tr>\n",
       "      <th>2</th>\n",
       "      <td>SHEIN</td>\n",
       "      <td>$100B</td>\n",
       "      <td>2018-07-03</td>\n",
       "      <td>E-commerce &amp; direct-to-consumer</td>\n",
       "      <td>Shenzhen</td>\n",
       "      <td>China</td>\n",
       "      <td>Asia</td>\n",
       "      <td>2008</td>\n",
       "      <td>$2B</td>\n",
       "      <td>Tiger Global Management, Sequoia Capital China...</td>\n",
       "    </tr>\n",
       "    <tr>\n",
       "      <th>3</th>\n",
       "      <td>Stripe</td>\n",
       "      <td>$95B</td>\n",
       "      <td>2014-01-23</td>\n",
       "      <td>Fintech</td>\n",
       "      <td>San Francisco</td>\n",
       "      <td>United States</td>\n",
       "      <td>North America</td>\n",
       "      <td>2010</td>\n",
       "      <td>$2B</td>\n",
       "      <td>Khosla Ventures, LowercaseCapital, capitalG</td>\n",
       "    </tr>\n",
       "    <tr>\n",
       "      <th>4</th>\n",
       "      <td>Klarna</td>\n",
       "      <td>$46B</td>\n",
       "      <td>2011-12-12</td>\n",
       "      <td>Fintech</td>\n",
       "      <td>Stockholm</td>\n",
       "      <td>Sweden</td>\n",
       "      <td>Europe</td>\n",
       "      <td>2005</td>\n",
       "      <td>$4B</td>\n",
       "      <td>Institutional Venture Partners, Sequoia Capita...</td>\n",
       "    </tr>\n",
       "  </tbody>\n",
       "</table>\n",
       "</div>"
      ],
      "text/plain": [
       "     Company Valuation Date Joined                         Industry  \\\n",
       "0  Bytedance     $180B  2017-04-07          Artificial intelligence   \n",
       "1     SpaceX     $100B  2012-12-01                            Other   \n",
       "2      SHEIN     $100B  2018-07-03  E-commerce & direct-to-consumer   \n",
       "3     Stripe      $95B  2014-01-23                          Fintech   \n",
       "4     Klarna      $46B  2011-12-12                          Fintech   \n",
       "\n",
       "            City        Country      Continent  Year Founded Funding  \\\n",
       "0        Beijing          China           Asia          2012     $8B   \n",
       "1      Hawthorne  United States  North America          2002     $7B   \n",
       "2       Shenzhen          China           Asia          2008     $2B   \n",
       "3  San Francisco  United States  North America          2010     $2B   \n",
       "4      Stockholm         Sweden         Europe          2005     $4B   \n",
       "\n",
       "                                    Select Investors  \n",
       "0  Sequoia Capital China, SIG Asia Investments, S...  \n",
       "1  Founders Fund, Draper Fisher Jurvetson, Rothen...  \n",
       "2  Tiger Global Management, Sequoia Capital China...  \n",
       "3        Khosla Ventures, LowercaseCapital, capitalG  \n",
       "4  Institutional Venture Partners, Sequoia Capita...  "
      ]
     },
     "execution_count": 6,
     "metadata": {},
     "output_type": "execute_result"
    }
   ],
   "source": [
    "raw_unicorn2022.head()"
   ]
  },
  {
   "cell_type": "code",
   "execution_count": 7,
   "id": "31995c58",
   "metadata": {},
   "outputs": [
    {
     "data": {
      "text/plain": [
       "Company              0\n",
       "Valuation            0\n",
       "Date Joined          0\n",
       "Industry             0\n",
       "City                16\n",
       "Country              0\n",
       "Continent            0\n",
       "Year Founded         0\n",
       "Funding             12\n",
       "Select Investors     1\n",
       "dtype: int64"
      ]
     },
     "execution_count": 7,
     "metadata": {},
     "output_type": "execute_result"
    }
   ],
   "source": [
    "pd.isnull(raw_unicorn2022).sum()"
   ]
  },
  {
   "cell_type": "code",
   "execution_count": 8,
   "id": "2aed237a",
   "metadata": {},
   "outputs": [],
   "source": [
    "# save a copy of original data\n",
    "unicorn2022 = raw_unicorn2022.copy()"
   ]
  },
  {
   "cell_type": "markdown",
   "id": "c38cf201",
   "metadata": {},
   "source": [
    "# Step 1: Preliminary check, pre-processing & data cleaning"
   ]
  },
  {
   "cell_type": "markdown",
   "id": "41f3fa53",
   "metadata": {},
   "source": [
    "**1. change column names:**"
   ]
  },
  {
   "cell_type": "code",
   "execution_count": 9,
   "id": "9f0812c0",
   "metadata": {},
   "outputs": [
    {
     "data": {
      "text/plain": [
       "Index(['Company', 'Valuation', 'Date Joined', 'Industry', 'City', 'Country',\n",
       "       'Continent', 'Year Founded', 'Funding', 'Select Investors'],\n",
       "      dtype='object')"
      ]
     },
     "execution_count": 9,
     "metadata": {},
     "output_type": "execute_result"
    }
   ],
   "source": [
    "unicorn2022.columns"
   ]
  },
  {
   "cell_type": "code",
   "execution_count": 10,
   "id": "7ea4c377",
   "metadata": {},
   "outputs": [
    {
     "data": {
      "text/plain": [
       "Index(['company', 'valuation', 'date_joined', 'industry', 'city', 'country',\n",
       "       'continent', 'year_founded', 'funding', 'select_investors'],\n",
       "      dtype='object')"
      ]
     },
     "execution_count": 10,
     "metadata": {},
     "output_type": "execute_result"
    }
   ],
   "source": [
    "unicorn2022.columns = unicorn2022.columns.str.lower().str.replace(' ', '_')\n",
    "unicorn2022.columns"
   ]
  },
  {
   "cell_type": "markdown",
   "id": "0d0eb7a7",
   "metadata": {},
   "source": [
    "**2. check and change data type:**"
   ]
  },
  {
   "cell_type": "code",
   "execution_count": 11,
   "id": "9a0c3bf0",
   "metadata": {
    "scrolled": true
   },
   "outputs": [
    {
     "data": {
      "text/plain": [
       "company             object\n",
       "valuation           object\n",
       "date_joined         object\n",
       "industry            object\n",
       "city                object\n",
       "country             object\n",
       "continent           object\n",
       "year_founded         int64\n",
       "funding             object\n",
       "select_investors    object\n",
       "dtype: object"
      ]
     },
     "execution_count": 11,
     "metadata": {},
     "output_type": "execute_result"
    }
   ],
   "source": [
    "unicorn2022.dtypes"
   ]
  },
  {
   "cell_type": "markdown",
   "id": "ae641253",
   "metadata": {},
   "source": [
    "**(1) date_joined**"
   ]
  },
  {
   "cell_type": "code",
   "execution_count": 12,
   "id": "dd325530",
   "metadata": {},
   "outputs": [
    {
     "data": {
      "text/html": [
       "<div>\n",
       "<style scoped>\n",
       "    .dataframe tbody tr th:only-of-type {\n",
       "        vertical-align: middle;\n",
       "    }\n",
       "\n",
       "    .dataframe tbody tr th {\n",
       "        vertical-align: top;\n",
       "    }\n",
       "\n",
       "    .dataframe thead th {\n",
       "        text-align: right;\n",
       "    }\n",
       "</style>\n",
       "<table border=\"1\" class=\"dataframe\">\n",
       "  <thead>\n",
       "    <tr style=\"text-align: right;\">\n",
       "      <th></th>\n",
       "      <th>company</th>\n",
       "      <th>valuation</th>\n",
       "      <th>date_joined</th>\n",
       "      <th>industry</th>\n",
       "      <th>city</th>\n",
       "      <th>country</th>\n",
       "      <th>continent</th>\n",
       "      <th>year_founded</th>\n",
       "      <th>funding</th>\n",
       "      <th>select_investors</th>\n",
       "    </tr>\n",
       "  </thead>\n",
       "  <tbody>\n",
       "    <tr>\n",
       "      <th>0</th>\n",
       "      <td>Bytedance</td>\n",
       "      <td>$180B</td>\n",
       "      <td>2017-04-07</td>\n",
       "      <td>Artificial intelligence</td>\n",
       "      <td>Beijing</td>\n",
       "      <td>China</td>\n",
       "      <td>Asia</td>\n",
       "      <td>2012</td>\n",
       "      <td>$8B</td>\n",
       "      <td>Sequoia Capital China, SIG Asia Investments, S...</td>\n",
       "    </tr>\n",
       "    <tr>\n",
       "      <th>1</th>\n",
       "      <td>SpaceX</td>\n",
       "      <td>$100B</td>\n",
       "      <td>2012-12-01</td>\n",
       "      <td>Other</td>\n",
       "      <td>Hawthorne</td>\n",
       "      <td>United States</td>\n",
       "      <td>North America</td>\n",
       "      <td>2002</td>\n",
       "      <td>$7B</td>\n",
       "      <td>Founders Fund, Draper Fisher Jurvetson, Rothen...</td>\n",
       "    </tr>\n",
       "  </tbody>\n",
       "</table>\n",
       "</div>"
      ],
      "text/plain": [
       "     company valuation date_joined                 industry       city  \\\n",
       "0  Bytedance     $180B  2017-04-07  Artificial intelligence    Beijing   \n",
       "1     SpaceX     $100B  2012-12-01                    Other  Hawthorne   \n",
       "\n",
       "         country      continent  year_founded funding  \\\n",
       "0          China           Asia          2012     $8B   \n",
       "1  United States  North America          2002     $7B   \n",
       "\n",
       "                                    select_investors  \n",
       "0  Sequoia Capital China, SIG Asia Investments, S...  \n",
       "1  Founders Fund, Draper Fisher Jurvetson, Rothen...  "
      ]
     },
     "execution_count": 12,
     "metadata": {},
     "output_type": "execute_result"
    }
   ],
   "source": [
    "unicorn2022.head(2)"
   ]
  },
  {
   "cell_type": "code",
   "execution_count": 13,
   "id": "9c4cf2d9",
   "metadata": {
    "scrolled": true
   },
   "outputs": [],
   "source": [
    "#unicorn2022.date_joined = raw_unicorn2022['Date Joined']"
   ]
  },
  {
   "cell_type": "code",
   "execution_count": 14,
   "id": "43c4d96c",
   "metadata": {},
   "outputs": [
    {
     "data": {
      "text/plain": [
       "0      2017-04-07\n",
       "1      2012-12-01\n",
       "2      2018-07-03\n",
       "3      2014-01-23\n",
       "4      2011-12-12\n",
       "          ...    \n",
       "1069   2017-06-29\n",
       "1070   2017-04-18\n",
       "1071   2021-05-06\n",
       "1072   2021-10-19\n",
       "1073   2020-09-16\n",
       "Name: date_joined, Length: 1074, dtype: datetime64[ns]"
      ]
     },
     "execution_count": 14,
     "metadata": {},
     "output_type": "execute_result"
    }
   ],
   "source": [
    "unicorn2022.date_joined = pd.to_datetime(unicorn2022.date_joined)\n",
    "unicorn2022.date_joined"
   ]
  },
  {
   "cell_type": "code",
   "execution_count": 15,
   "id": "fea9e6a0",
   "metadata": {},
   "outputs": [
    {
     "data": {
      "text/plain": [
       "company                     object\n",
       "valuation                   object\n",
       "date_joined         datetime64[ns]\n",
       "industry                    object\n",
       "city                        object\n",
       "country                     object\n",
       "continent                   object\n",
       "year_founded                 int64\n",
       "funding                     object\n",
       "select_investors            object\n",
       "dtype: object"
      ]
     },
     "execution_count": 15,
     "metadata": {},
     "output_type": "execute_result"
    }
   ],
   "source": [
    "unicorn2022.dtypes"
   ]
  },
  {
   "cell_type": "markdown",
   "id": "28bb01e9",
   "metadata": {},
   "source": [
    "**(2) valuation**"
   ]
  },
  {
   "cell_type": "code",
   "execution_count": 16,
   "id": "4a780acb",
   "metadata": {
    "scrolled": true
   },
   "outputs": [],
   "source": [
    "#unicorn2022.valuation = raw_unicorn2022.Valuation\n",
    "unicorn2022.valuation = unicorn2022.valuation.str.replace('$', '',regex=True).str.replace('B', '',regex=True).astype('int')"
   ]
  },
  {
   "cell_type": "code",
   "execution_count": 17,
   "id": "30b27b9d",
   "metadata": {},
   "outputs": [
    {
     "data": {
      "text/plain": [
       "company                     object\n",
       "valuation                    int64\n",
       "date_joined         datetime64[ns]\n",
       "industry                    object\n",
       "city                        object\n",
       "country                     object\n",
       "continent                   object\n",
       "year_founded                 int64\n",
       "funding                     object\n",
       "select_investors            object\n",
       "dtype: object"
      ]
     },
     "execution_count": 17,
     "metadata": {},
     "output_type": "execute_result"
    }
   ],
   "source": [
    "unicorn2022.dtypes"
   ]
  },
  {
   "cell_type": "markdown",
   "id": "d7f9ff9b",
   "metadata": {},
   "source": [
    "**(3) funding**"
   ]
  },
  {
   "cell_type": "code",
   "execution_count": 18,
   "id": "5d790d7b",
   "metadata": {},
   "outputs": [],
   "source": [
    "#unicorn2022.funding = raw_unicorn2022.Funding"
   ]
  },
  {
   "cell_type": "code",
   "execution_count": 19,
   "id": "8b75bb3e",
   "metadata": {},
   "outputs": [],
   "source": [
    "unicorn2022.funding = unicorn2022.funding.str.replace('$', '',regex=True).str.replace('B', '',regex=True)"
   ]
  },
  {
   "cell_type": "code",
   "execution_count": 20,
   "id": "a6b0cf5f",
   "metadata": {},
   "outputs": [
    {
     "data": {
      "text/plain": [
       "12"
      ]
     },
     "execution_count": 20,
     "metadata": {},
     "output_type": "execute_result"
    }
   ],
   "source": [
    "unicorn2022.funding.isna().sum() # this column has null values"
   ]
  },
  {
   "cell_type": "code",
   "execution_count": 21,
   "id": "ee61065a",
   "metadata": {},
   "outputs": [
    {
     "data": {
      "text/plain": [
       "True     948\n",
       "False    114\n",
       "Name: funding, dtype: int64"
      ]
     },
     "execution_count": 21,
     "metadata": {},
     "output_type": "execute_result"
    }
   ],
   "source": [
    "unicorn2022.funding.str.contains('M').value_counts()"
   ]
  },
  {
   "cell_type": "code",
   "execution_count": 22,
   "id": "3e1d10fb",
   "metadata": {
    "scrolled": true
   },
   "outputs": [
    {
     "data": {
      "text/plain": [
       "True     948\n",
       "False    126\n",
       "Name: funding, dtype: int64"
      ]
     },
     "execution_count": 22,
     "metadata": {},
     "output_type": "execute_result"
    }
   ],
   "source": [
    "unicorn2022.funding.str.contains('M',na=False).value_counts()"
   ]
  },
  {
   "cell_type": "code",
   "execution_count": 23,
   "id": "b776c2e7",
   "metadata": {
    "scrolled": true
   },
   "outputs": [],
   "source": [
    "unicorn2022.loc[unicorn2022.funding.str.contains('M',na=False),'funding'] = \\\n",
    "unicorn2022.funding.loc[unicorn2022.funding.str.contains('M',na=False)].str.replace('M', '',regex=True).astype('int')/1000"
   ]
  },
  {
   "cell_type": "code",
   "execution_count": 24,
   "id": "e476b8c5",
   "metadata": {},
   "outputs": [
    {
     "data": {
      "text/plain": [
       "company                     object\n",
       "valuation                    int64\n",
       "date_joined         datetime64[ns]\n",
       "industry                    object\n",
       "city                        object\n",
       "country                     object\n",
       "continent                   object\n",
       "year_founded                 int64\n",
       "funding                     object\n",
       "select_investors            object\n",
       "dtype: object"
      ]
     },
     "execution_count": 24,
     "metadata": {},
     "output_type": "execute_result"
    }
   ],
   "source": [
    "unicorn2022.dtypes"
   ]
  },
  {
   "cell_type": "code",
   "execution_count": 25,
   "id": "ba2a47d7",
   "metadata": {
    "scrolled": true
   },
   "outputs": [],
   "source": [
    "unicorn2022.funding = unicorn2022.funding.astype('float')"
   ]
  },
  {
   "cell_type": "code",
   "execution_count": 26,
   "id": "409da0b4",
   "metadata": {
    "scrolled": true
   },
   "outputs": [
    {
     "data": {
      "text/plain": [
       "company                     object\n",
       "valuation                    int64\n",
       "date_joined         datetime64[ns]\n",
       "industry                    object\n",
       "city                        object\n",
       "country                     object\n",
       "continent                   object\n",
       "year_founded                 int64\n",
       "funding                    float64\n",
       "select_investors            object\n",
       "dtype: object"
      ]
     },
     "execution_count": 26,
     "metadata": {},
     "output_type": "execute_result"
    }
   ],
   "source": [
    "unicorn2022.dtypes"
   ]
  },
  {
   "cell_type": "code",
   "execution_count": 27,
   "id": "9dd011b4",
   "metadata": {},
   "outputs": [
    {
     "data": {
      "text/plain": [
       "company              0\n",
       "valuation            0\n",
       "date_joined          0\n",
       "industry             0\n",
       "city                16\n",
       "country              0\n",
       "continent            0\n",
       "year_founded         0\n",
       "funding             12\n",
       "select_investors     1\n",
       "dtype: int64"
      ]
     },
     "execution_count": 27,
     "metadata": {},
     "output_type": "execute_result"
    }
   ],
   "source": [
    "pd.isnull(unicorn2022).sum()"
   ]
  },
  {
   "cell_type": "markdown",
   "id": "85157119",
   "metadata": {},
   "source": [
    "**3. look into each column**"
   ]
  },
  {
   "cell_type": "markdown",
   "id": "cbf1d5fa",
   "metadata": {},
   "source": [
    "**(1) date**"
   ]
  },
  {
   "cell_type": "code",
   "execution_count": 28,
   "id": "1e9c678a",
   "metadata": {
    "scrolled": true
   },
   "outputs": [
    {
     "data": {
      "text/plain": [
       "Index(['company', 'valuation', 'date_joined', 'industry', 'city', 'country',\n",
       "       'continent', 'year_founded', 'funding', 'select_investors'],\n",
       "      dtype='object')"
      ]
     },
     "execution_count": 28,
     "metadata": {},
     "output_type": "execute_result"
    }
   ],
   "source": [
    "unicorn2022.columns"
   ]
  },
  {
   "cell_type": "code",
   "execution_count": 29,
   "id": "7c598737",
   "metadata": {
    "scrolled": true
   },
   "outputs": [
    {
     "data": {
      "text/plain": [
       "0      2017-04-07\n",
       "1      2012-12-01\n",
       "2      2018-07-03\n",
       "3      2014-01-23\n",
       "4      2011-12-12\n",
       "          ...    \n",
       "1069   2017-06-29\n",
       "1070   2017-04-18\n",
       "1071   2021-05-06\n",
       "1072   2021-10-19\n",
       "1073   2020-09-16\n",
       "Name: date_joined, Length: 1074, dtype: datetime64[ns]"
      ]
     },
     "execution_count": 29,
     "metadata": {},
     "output_type": "execute_result"
    }
   ],
   "source": [
    "unicorn2022['date_joined']"
   ]
  },
  {
   "cell_type": "code",
   "execution_count": 30,
   "id": "1fd2fb32",
   "metadata": {
    "scrolled": true
   },
   "outputs": [
    {
     "data": {
      "text/plain": [
       "count                             1074\n",
       "mean     2020-05-19 15:35:51.955307264\n",
       "min                2007-07-02 00:00:00\n",
       "25%                2019-05-20 06:00:00\n",
       "50%                2021-03-29 00:00:00\n",
       "75%                2021-09-19 18:00:00\n",
       "max                2022-04-05 00:00:00\n",
       "Name: date_joined, dtype: object"
      ]
     },
     "execution_count": 30,
     "metadata": {},
     "output_type": "execute_result"
    }
   ],
   "source": [
    "unicorn2022.date_joined.describe(datetime_is_numeric=True)"
   ]
  },
  {
   "cell_type": "code",
   "execution_count": 31,
   "id": "481fca44",
   "metadata": {},
   "outputs": [
    {
     "data": {
      "text/plain": [
       "1"
      ]
     },
     "execution_count": 31,
     "metadata": {},
     "output_type": "execute_result"
    }
   ],
   "source": [
    "# check if year joined is no ealier than year_founded\n",
    "(unicorn2022.date_joined.dt.year < unicorn2022.year_founded).sum()"
   ]
  },
  {
   "cell_type": "code",
   "execution_count": 32,
   "id": "b24c1c3a",
   "metadata": {
    "scrolled": true
   },
   "outputs": [
    {
     "data": {
      "text/html": [
       "<div>\n",
       "<style scoped>\n",
       "    .dataframe tbody tr th:only-of-type {\n",
       "        vertical-align: middle;\n",
       "    }\n",
       "\n",
       "    .dataframe tbody tr th {\n",
       "        vertical-align: top;\n",
       "    }\n",
       "\n",
       "    .dataframe thead th {\n",
       "        text-align: right;\n",
       "    }\n",
       "</style>\n",
       "<table border=\"1\" class=\"dataframe\">\n",
       "  <thead>\n",
       "    <tr style=\"text-align: right;\">\n",
       "      <th></th>\n",
       "      <th>company</th>\n",
       "      <th>valuation</th>\n",
       "      <th>date_joined</th>\n",
       "      <th>industry</th>\n",
       "      <th>city</th>\n",
       "      <th>country</th>\n",
       "      <th>continent</th>\n",
       "      <th>year_founded</th>\n",
       "      <th>funding</th>\n",
       "      <th>select_investors</th>\n",
       "    </tr>\n",
       "  </thead>\n",
       "  <tbody>\n",
       "    <tr>\n",
       "      <th>714</th>\n",
       "      <td>Yidian Zixun</td>\n",
       "      <td>1</td>\n",
       "      <td>2017-10-17</td>\n",
       "      <td>Mobile &amp; telecommunications</td>\n",
       "      <td>Beijing</td>\n",
       "      <td>China</td>\n",
       "      <td>Asia</td>\n",
       "      <td>2021</td>\n",
       "      <td>0.151</td>\n",
       "      <td>Phoenix New Media, Tianjin Haihe Industry Fund</td>\n",
       "    </tr>\n",
       "  </tbody>\n",
       "</table>\n",
       "</div>"
      ],
      "text/plain": [
       "          company  valuation date_joined                     industry  \\\n",
       "714  Yidian Zixun          1  2017-10-17  Mobile & telecommunications   \n",
       "\n",
       "        city country continent  year_founded  funding  \\\n",
       "714  Beijing   China      Asia          2021    0.151   \n",
       "\n",
       "                                   select_investors  \n",
       "714  Phoenix New Media, Tianjin Haihe Industry Fund  "
      ]
     },
     "execution_count": 32,
     "metadata": {},
     "output_type": "execute_result"
    }
   ],
   "source": [
    "unicorn2022.loc[(unicorn2022.date_joined.dt.year < unicorn2022.year_founded)]"
   ]
  },
  {
   "cell_type": "code",
   "execution_count": 33,
   "id": "63b93172",
   "metadata": {},
   "outputs": [],
   "source": [
    "# by mannual check, this company is founded in in 2013, not 2021: correct the data\n",
    "unicorn2022.loc[(unicorn2022.date_joined.dt.year < unicorn2022.year_founded),'year_founded'] = 2013"
   ]
  },
  {
   "cell_type": "code",
   "execution_count": 34,
   "id": "68c4a728",
   "metadata": {},
   "outputs": [
    {
     "data": {
      "text/html": [
       "<div>\n",
       "<style scoped>\n",
       "    .dataframe tbody tr th:only-of-type {\n",
       "        vertical-align: middle;\n",
       "    }\n",
       "\n",
       "    .dataframe tbody tr th {\n",
       "        vertical-align: top;\n",
       "    }\n",
       "\n",
       "    .dataframe thead th {\n",
       "        text-align: right;\n",
       "    }\n",
       "</style>\n",
       "<table border=\"1\" class=\"dataframe\">\n",
       "  <thead>\n",
       "    <tr style=\"text-align: right;\">\n",
       "      <th></th>\n",
       "      <th>company</th>\n",
       "      <th>valuation</th>\n",
       "      <th>date_joined</th>\n",
       "      <th>industry</th>\n",
       "      <th>city</th>\n",
       "      <th>country</th>\n",
       "      <th>continent</th>\n",
       "      <th>year_founded</th>\n",
       "      <th>funding</th>\n",
       "      <th>select_investors</th>\n",
       "    </tr>\n",
       "  </thead>\n",
       "  <tbody>\n",
       "    <tr>\n",
       "      <th>714</th>\n",
       "      <td>Yidian Zixun</td>\n",
       "      <td>1</td>\n",
       "      <td>2017-10-17</td>\n",
       "      <td>Mobile &amp; telecommunications</td>\n",
       "      <td>Beijing</td>\n",
       "      <td>China</td>\n",
       "      <td>Asia</td>\n",
       "      <td>2013</td>\n",
       "      <td>0.151</td>\n",
       "      <td>Phoenix New Media, Tianjin Haihe Industry Fund</td>\n",
       "    </tr>\n",
       "  </tbody>\n",
       "</table>\n",
       "</div>"
      ],
      "text/plain": [
       "          company  valuation date_joined                     industry  \\\n",
       "714  Yidian Zixun          1  2017-10-17  Mobile & telecommunications   \n",
       "\n",
       "        city country continent  year_founded  funding  \\\n",
       "714  Beijing   China      Asia          2013    0.151   \n",
       "\n",
       "                                   select_investors  \n",
       "714  Phoenix New Media, Tianjin Haihe Industry Fund  "
      ]
     },
     "execution_count": 34,
     "metadata": {},
     "output_type": "execute_result"
    }
   ],
   "source": [
    "unicorn2022.loc[unicorn2022.company == 'Yidian Zixun']"
   ]
  },
  {
   "cell_type": "markdown",
   "id": "53245efc",
   "metadata": {},
   "source": [
    "**(2) numeric**"
   ]
  },
  {
   "cell_type": "code",
   "execution_count": 35,
   "id": "6894026e",
   "metadata": {
    "scrolled": true
   },
   "outputs": [
    {
     "data": {
      "text/html": [
       "<div>\n",
       "<style scoped>\n",
       "    .dataframe tbody tr th:only-of-type {\n",
       "        vertical-align: middle;\n",
       "    }\n",
       "\n",
       "    .dataframe tbody tr th {\n",
       "        vertical-align: top;\n",
       "    }\n",
       "\n",
       "    .dataframe thead th {\n",
       "        text-align: right;\n",
       "    }\n",
       "</style>\n",
       "<table border=\"1\" class=\"dataframe\">\n",
       "  <thead>\n",
       "    <tr style=\"text-align: right;\">\n",
       "      <th></th>\n",
       "      <th>valuation</th>\n",
       "      <th>year_founded</th>\n",
       "      <th>funding</th>\n",
       "    </tr>\n",
       "  </thead>\n",
       "  <tbody>\n",
       "    <tr>\n",
       "      <th>count</th>\n",
       "      <td>1074.000000</td>\n",
       "      <td>1074.000000</td>\n",
       "      <td>1062.000000</td>\n",
       "    </tr>\n",
       "    <tr>\n",
       "      <th>mean</th>\n",
       "      <td>3.455307</td>\n",
       "      <td>2012.888268</td>\n",
       "      <td>0.557269</td>\n",
       "    </tr>\n",
       "    <tr>\n",
       "      <th>std</th>\n",
       "      <td>8.547022</td>\n",
       "      <td>5.693196</td>\n",
       "      <td>0.810134</td>\n",
       "    </tr>\n",
       "    <tr>\n",
       "      <th>min</th>\n",
       "      <td>1.000000</td>\n",
       "      <td>1919.000000</td>\n",
       "      <td>0.000000</td>\n",
       "    </tr>\n",
       "    <tr>\n",
       "      <th>25%</th>\n",
       "      <td>1.000000</td>\n",
       "      <td>2011.000000</td>\n",
       "      <td>0.223000</td>\n",
       "    </tr>\n",
       "    <tr>\n",
       "      <th>50%</th>\n",
       "      <td>2.000000</td>\n",
       "      <td>2014.000000</td>\n",
       "      <td>0.370000</td>\n",
       "    </tr>\n",
       "    <tr>\n",
       "      <th>75%</th>\n",
       "      <td>3.000000</td>\n",
       "      <td>2016.000000</td>\n",
       "      <td>0.609250</td>\n",
       "    </tr>\n",
       "    <tr>\n",
       "      <th>max</th>\n",
       "      <td>180.000000</td>\n",
       "      <td>2021.000000</td>\n",
       "      <td>14.000000</td>\n",
       "    </tr>\n",
       "  </tbody>\n",
       "</table>\n",
       "</div>"
      ],
      "text/plain": [
       "         valuation  year_founded      funding\n",
       "count  1074.000000   1074.000000  1062.000000\n",
       "mean      3.455307   2012.888268     0.557269\n",
       "std       8.547022      5.693196     0.810134\n",
       "min       1.000000   1919.000000     0.000000\n",
       "25%       1.000000   2011.000000     0.223000\n",
       "50%       2.000000   2014.000000     0.370000\n",
       "75%       3.000000   2016.000000     0.609250\n",
       "max     180.000000   2021.000000    14.000000"
      ]
     },
     "execution_count": 35,
     "metadata": {},
     "output_type": "execute_result"
    }
   ],
   "source": [
    "unicorn2022.describe(include=[np.number])"
   ]
  },
  {
   "cell_type": "markdown",
   "id": "26967fe3",
   "metadata": {},
   "source": [
    "##### - valuation"
   ]
  },
  {
   "cell_type": "code",
   "execution_count": 36,
   "id": "20eebd58",
   "metadata": {
    "scrolled": true
   },
   "outputs": [
    {
     "data": {
      "text/plain": [
       "Text(0, 0.5, 'Valuation (B)')"
      ]
     },
     "execution_count": 36,
     "metadata": {},
     "output_type": "execute_result"
    },
    {
     "data": {
      "image/png": "[encoded data removed]",
      "text/plain": [
       "<Figure size 432x288 with 1 Axes>"
      ]
     },
     "metadata": {
      "needs_background": "light"
     },
     "output_type": "display_data"
    }
   ],
   "source": [
    "unicorn2022[['valuation']].boxplot()\n",
    "#plt.xlabel('')\n",
    "plt.ylabel('Valuation (B)')"
   ]
  },
  {
   "cell_type": "code",
   "execution_count": 37,
   "id": "919f4def",
   "metadata": {},
   "outputs": [
    {
     "data": {
      "text/html": [
       "<div>\n",
       "<style scoped>\n",
       "    .dataframe tbody tr th:only-of-type {\n",
       "        vertical-align: middle;\n",
       "    }\n",
       "\n",
       "    .dataframe tbody tr th {\n",
       "        vertical-align: top;\n",
       "    }\n",
       "\n",
       "    .dataframe thead th {\n",
       "        text-align: right;\n",
       "    }\n",
       "</style>\n",
       "<table border=\"1\" class=\"dataframe\">\n",
       "  <thead>\n",
       "    <tr style=\"text-align: right;\">\n",
       "      <th></th>\n",
       "      <th>company</th>\n",
       "      <th>valuation</th>\n",
       "      <th>date_joined</th>\n",
       "      <th>industry</th>\n",
       "      <th>city</th>\n",
       "      <th>country</th>\n",
       "      <th>continent</th>\n",
       "      <th>year_founded</th>\n",
       "      <th>funding</th>\n",
       "      <th>select_investors</th>\n",
       "    </tr>\n",
       "  </thead>\n",
       "  <tbody>\n",
       "    <tr>\n",
       "      <th>0</th>\n",
       "      <td>Bytedance</td>\n",
       "      <td>180</td>\n",
       "      <td>2017-04-07</td>\n",
       "      <td>Artificial intelligence</td>\n",
       "      <td>Beijing</td>\n",
       "      <td>China</td>\n",
       "      <td>Asia</td>\n",
       "      <td>2012</td>\n",
       "      <td>8.0</td>\n",
       "      <td>Sequoia Capital China, SIG Asia Investments, S...</td>\n",
       "    </tr>\n",
       "    <tr>\n",
       "      <th>1</th>\n",
       "      <td>SpaceX</td>\n",
       "      <td>100</td>\n",
       "      <td>2012-12-01</td>\n",
       "      <td>Other</td>\n",
       "      <td>Hawthorne</td>\n",
       "      <td>United States</td>\n",
       "      <td>North America</td>\n",
       "      <td>2002</td>\n",
       "      <td>7.0</td>\n",
       "      <td>Founders Fund, Draper Fisher Jurvetson, Rothen...</td>\n",
       "    </tr>\n",
       "    <tr>\n",
       "      <th>2</th>\n",
       "      <td>SHEIN</td>\n",
       "      <td>100</td>\n",
       "      <td>2018-07-03</td>\n",
       "      <td>E-commerce &amp; direct-to-consumer</td>\n",
       "      <td>Shenzhen</td>\n",
       "      <td>China</td>\n",
       "      <td>Asia</td>\n",
       "      <td>2008</td>\n",
       "      <td>2.0</td>\n",
       "      <td>Tiger Global Management, Sequoia Capital China...</td>\n",
       "    </tr>\n",
       "    <tr>\n",
       "      <th>3</th>\n",
       "      <td>Stripe</td>\n",
       "      <td>95</td>\n",
       "      <td>2014-01-23</td>\n",
       "      <td>Fintech</td>\n",
       "      <td>San Francisco</td>\n",
       "      <td>United States</td>\n",
       "      <td>North America</td>\n",
       "      <td>2010</td>\n",
       "      <td>2.0</td>\n",
       "      <td>Khosla Ventures, LowercaseCapital, capitalG</td>\n",
       "    </tr>\n",
       "    <tr>\n",
       "      <th>4</th>\n",
       "      <td>Klarna</td>\n",
       "      <td>46</td>\n",
       "      <td>2011-12-12</td>\n",
       "      <td>Fintech</td>\n",
       "      <td>Stockholm</td>\n",
       "      <td>Sweden</td>\n",
       "      <td>Europe</td>\n",
       "      <td>2005</td>\n",
       "      <td>4.0</td>\n",
       "      <td>Institutional Venture Partners, Sequoia Capita...</td>\n",
       "    </tr>\n",
       "  </tbody>\n",
       "</table>\n",
       "</div>"
      ],
      "text/plain": [
       "     company  valuation date_joined                         industry  \\\n",
       "0  Bytedance        180  2017-04-07          Artificial intelligence   \n",
       "1     SpaceX        100  2012-12-01                            Other   \n",
       "2      SHEIN        100  2018-07-03  E-commerce & direct-to-consumer   \n",
       "3     Stripe         95  2014-01-23                          Fintech   \n",
       "4     Klarna         46  2011-12-12                          Fintech   \n",
       "\n",
       "            city        country      continent  year_founded  funding  \\\n",
       "0        Beijing          China           Asia          2012      8.0   \n",
       "1      Hawthorne  United States  North America          2002      7.0   \n",
       "2       Shenzhen          China           Asia          2008      2.0   \n",
       "3  San Francisco  United States  North America          2010      2.0   \n",
       "4      Stockholm         Sweden         Europe          2005      4.0   \n",
       "\n",
       "                                    select_investors  \n",
       "0  Sequoia Capital China, SIG Asia Investments, S...  \n",
       "1  Founders Fund, Draper Fisher Jurvetson, Rothen...  \n",
       "2  Tiger Global Management, Sequoia Capital China...  \n",
       "3        Khosla Ventures, LowercaseCapital, capitalG  \n",
       "4  Institutional Venture Partners, Sequoia Capita...  "
      ]
     },
     "execution_count": 37,
     "metadata": {},
     "output_type": "execute_result"
    }
   ],
   "source": [
    "# Most of companies valued between 1B to 3B. \n",
    "# There're SOME outliers with very high valuations compared to others.\n",
    "\n",
    "unicorn2022.head(5)\n",
    "# By inspection, top companies on the list are indeed high-valued. Keep these outliers."
   ]
  },
  {
   "cell_type": "markdown",
   "id": "d4f89a27",
   "metadata": {},
   "source": [
    "##### - year_founded"
   ]
  },
  {
   "cell_type": "code",
   "execution_count": 38,
   "id": "2f749cbd",
   "metadata": {
    "scrolled": true
   },
   "outputs": [
    {
     "data": {
      "text/plain": [
       "Text(0, 0.5, 'Year Founded')"
      ]
     },
     "execution_count": 38,
     "metadata": {},
     "output_type": "execute_result"
    },
    {
     "data": {
      "image/png": "[encoded data removed]",
      "text/plain": [
       "<Figure size 432x288 with 1 Axes>"
      ]
     },
     "metadata": {
      "needs_background": "light"
     },
     "output_type": "display_data"
    }
   ],
   "source": [
    "unicorn2022[['year_founded']].boxplot()\n",
    "#plt.xlabel('')\n",
    "plt.ylabel('Year Founded')"
   ]
  },
  {
   "cell_type": "code",
   "execution_count": 39,
   "id": "57110617",
   "metadata": {},
   "outputs": [
    {
     "data": {
      "text/html": [
       "<div>\n",
       "<style scoped>\n",
       "    .dataframe tbody tr th:only-of-type {\n",
       "        vertical-align: middle;\n",
       "    }\n",
       "\n",
       "    .dataframe tbody tr th {\n",
       "        vertical-align: top;\n",
       "    }\n",
       "\n",
       "    .dataframe thead th {\n",
       "        text-align: right;\n",
       "    }\n",
       "</style>\n",
       "<table border=\"1\" class=\"dataframe\">\n",
       "  <thead>\n",
       "    <tr style=\"text-align: right;\">\n",
       "      <th></th>\n",
       "      <th>company</th>\n",
       "      <th>valuation</th>\n",
       "      <th>date_joined</th>\n",
       "      <th>industry</th>\n",
       "      <th>city</th>\n",
       "      <th>country</th>\n",
       "      <th>continent</th>\n",
       "      <th>year_founded</th>\n",
       "      <th>funding</th>\n",
       "      <th>select_investors</th>\n",
       "    </tr>\n",
       "  </thead>\n",
       "  <tbody>\n",
       "    <tr>\n",
       "      <th>189</th>\n",
       "      <td>Otto Bock HealthCare</td>\n",
       "      <td>4</td>\n",
       "      <td>2017-06-24</td>\n",
       "      <td>Health</td>\n",
       "      <td>Duderstadt</td>\n",
       "      <td>Germany</td>\n",
       "      <td>Europe</td>\n",
       "      <td>1919</td>\n",
       "      <td>0.0</td>\n",
       "      <td>EQT Partners</td>\n",
       "    </tr>\n",
       "  </tbody>\n",
       "</table>\n",
       "</div>"
      ],
      "text/plain": [
       "                  company  valuation date_joined industry        city  \\\n",
       "189  Otto Bock HealthCare          4  2017-06-24   Health  Duderstadt   \n",
       "\n",
       "     country continent  year_founded  funding select_investors  \n",
       "189  Germany    Europe          1919      0.0     EQT Partners  "
      ]
     },
     "execution_count": 39,
     "metadata": {},
     "output_type": "execute_result"
    }
   ],
   "source": [
    "unicorn2022.loc[unicorn2022['year_founded'] == 1919]\n",
    "# By inspection, this Germany company is founded in 1919. Keep it."
   ]
  },
  {
   "cell_type": "markdown",
   "id": "678e165c",
   "metadata": {},
   "source": [
    "##### - funding"
   ]
  },
  {
   "cell_type": "code",
   "execution_count": 40,
   "id": "87950618",
   "metadata": {},
   "outputs": [
    {
     "data": {
      "text/plain": [
       "Text(0, 0.5, 'Funding (B)')"
      ]
     },
     "execution_count": 40,
     "metadata": {},
     "output_type": "execute_result"
    },
    {
     "data": {
      "image/png": "[encoded data removed]",
      "text/plain": [
       "<Figure size 432x288 with 1 Axes>"
      ]
     },
     "metadata": {
      "needs_background": "light"
     },
     "output_type": "display_data"
    }
   ],
   "source": [
    "unicorn2022[['funding']].boxplot()\n",
    "#plt.xlabel('')\n",
    "plt.ylabel('Funding (B)')"
   ]
  },
  {
   "cell_type": "code",
   "execution_count": 41,
   "id": "60ffad94",
   "metadata": {
    "scrolled": true
   },
   "outputs": [
    {
     "data": {
      "text/html": [
       "<div>\n",
       "<style scoped>\n",
       "    .dataframe tbody tr th:only-of-type {\n",
       "        vertical-align: middle;\n",
       "    }\n",
       "\n",
       "    .dataframe tbody tr th {\n",
       "        vertical-align: top;\n",
       "    }\n",
       "\n",
       "    .dataframe thead th {\n",
       "        text-align: right;\n",
       "    }\n",
       "</style>\n",
       "<table border=\"1\" class=\"dataframe\">\n",
       "  <thead>\n",
       "    <tr style=\"text-align: right;\">\n",
       "      <th></th>\n",
       "      <th>company</th>\n",
       "      <th>valuation</th>\n",
       "      <th>date_joined</th>\n",
       "      <th>industry</th>\n",
       "      <th>city</th>\n",
       "      <th>country</th>\n",
       "      <th>continent</th>\n",
       "      <th>year_founded</th>\n",
       "      <th>funding</th>\n",
       "      <th>select_investors</th>\n",
       "    </tr>\n",
       "  </thead>\n",
       "  <tbody>\n",
       "    <tr>\n",
       "      <th>0</th>\n",
       "      <td>Bytedance</td>\n",
       "      <td>180</td>\n",
       "      <td>2017-04-07</td>\n",
       "      <td>Artificial intelligence</td>\n",
       "      <td>Beijing</td>\n",
       "      <td>China</td>\n",
       "      <td>Asia</td>\n",
       "      <td>2012</td>\n",
       "      <td>8.0</td>\n",
       "      <td>Sequoia Capital China, SIG Asia Investments, S...</td>\n",
       "    </tr>\n",
       "    <tr>\n",
       "      <th>1</th>\n",
       "      <td>SpaceX</td>\n",
       "      <td>100</td>\n",
       "      <td>2012-12-01</td>\n",
       "      <td>Other</td>\n",
       "      <td>Hawthorne</td>\n",
       "      <td>United States</td>\n",
       "      <td>North America</td>\n",
       "      <td>2002</td>\n",
       "      <td>7.0</td>\n",
       "      <td>Founders Fund, Draper Fisher Jurvetson, Rothen...</td>\n",
       "    </tr>\n",
       "    <tr>\n",
       "      <th>8</th>\n",
       "      <td>JUUL Labs</td>\n",
       "      <td>38</td>\n",
       "      <td>2017-12-20</td>\n",
       "      <td>Consumer &amp; retail</td>\n",
       "      <td>San Francisco</td>\n",
       "      <td>United States</td>\n",
       "      <td>North America</td>\n",
       "      <td>2015</td>\n",
       "      <td>14.0</td>\n",
       "      <td>Tiger Global Management</td>\n",
       "    </tr>\n",
       "    <tr>\n",
       "      <th>11</th>\n",
       "      <td>Epic Games</td>\n",
       "      <td>32</td>\n",
       "      <td>2018-10-26</td>\n",
       "      <td>Other</td>\n",
       "      <td>Cary</td>\n",
       "      <td>United States</td>\n",
       "      <td>North America</td>\n",
       "      <td>1991</td>\n",
       "      <td>7.0</td>\n",
       "      <td>Tencent Holdings, KKR, Smash Ventures</td>\n",
       "    </tr>\n",
       "    <tr>\n",
       "      <th>16</th>\n",
       "      <td>J&amp;T Express</td>\n",
       "      <td>20</td>\n",
       "      <td>2021-04-07</td>\n",
       "      <td>Supply chain, logistics, &amp; delivery</td>\n",
       "      <td>Jakarta</td>\n",
       "      <td>Indonesia</td>\n",
       "      <td>Asia</td>\n",
       "      <td>2015</td>\n",
       "      <td>5.0</td>\n",
       "      <td>Hillhouse Capital Management, Boyu Capital, Se...</td>\n",
       "    </tr>\n",
       "    <tr>\n",
       "      <th>38</th>\n",
       "      <td>Xingsheng Selected</td>\n",
       "      <td>12</td>\n",
       "      <td>2020-07-22</td>\n",
       "      <td>E-commerce &amp; direct-to-consumer</td>\n",
       "      <td>Changsha</td>\n",
       "      <td>China</td>\n",
       "      <td>Asia</td>\n",
       "      <td>2009</td>\n",
       "      <td>5.0</td>\n",
       "      <td>KKR, Tencent Holdings, Sequoia Capital China</td>\n",
       "    </tr>\n",
       "    <tr>\n",
       "      <th>41</th>\n",
       "      <td>Swiggy</td>\n",
       "      <td>11</td>\n",
       "      <td>2018-06-21</td>\n",
       "      <td>Supply chain, logistics, &amp; delivery</td>\n",
       "      <td>Bengaluru</td>\n",
       "      <td>India</td>\n",
       "      <td>Asia</td>\n",
       "      <td>2014</td>\n",
       "      <td>5.0</td>\n",
       "      <td>Accel India, SAIF Partners, Norwest Venture Pa...</td>\n",
       "    </tr>\n",
       "    <tr>\n",
       "      <th>43</th>\n",
       "      <td>Global Switch</td>\n",
       "      <td>11</td>\n",
       "      <td>2016-12-22</td>\n",
       "      <td>Hardware</td>\n",
       "      <td>London</td>\n",
       "      <td>United Kingdom</td>\n",
       "      <td>Europe</td>\n",
       "      <td>1998</td>\n",
       "      <td>5.0</td>\n",
       "      <td>Aviation Industry Corporation of China, Essenc...</td>\n",
       "    </tr>\n",
       "  </tbody>\n",
       "</table>\n",
       "</div>"
      ],
      "text/plain": [
       "               company  valuation date_joined  \\\n",
       "0            Bytedance        180  2017-04-07   \n",
       "1               SpaceX        100  2012-12-01   \n",
       "8            JUUL Labs         38  2017-12-20   \n",
       "11          Epic Games         32  2018-10-26   \n",
       "16         J&T Express         20  2021-04-07   \n",
       "38  Xingsheng Selected         12  2020-07-22   \n",
       "41              Swiggy         11  2018-06-21   \n",
       "43       Global Switch         11  2016-12-22   \n",
       "\n",
       "                               industry           city         country  \\\n",
       "0               Artificial intelligence        Beijing           China   \n",
       "1                                 Other      Hawthorne   United States   \n",
       "8                     Consumer & retail  San Francisco   United States   \n",
       "11                                Other           Cary   United States   \n",
       "16  Supply chain, logistics, & delivery        Jakarta       Indonesia   \n",
       "38      E-commerce & direct-to-consumer       Changsha           China   \n",
       "41  Supply chain, logistics, & delivery      Bengaluru           India   \n",
       "43                             Hardware         London  United Kingdom   \n",
       "\n",
       "        continent  year_founded  funding  \\\n",
       "0            Asia          2012      8.0   \n",
       "1   North America          2002      7.0   \n",
       "8   North America          2015     14.0   \n",
       "11  North America          1991      7.0   \n",
       "16           Asia          2015      5.0   \n",
       "38           Asia          2009      5.0   \n",
       "41           Asia          2014      5.0   \n",
       "43         Europe          1998      5.0   \n",
       "\n",
       "                                     select_investors  \n",
       "0   Sequoia Capital China, SIG Asia Investments, S...  \n",
       "1   Founders Fund, Draper Fisher Jurvetson, Rothen...  \n",
       "8                             Tiger Global Management  \n",
       "11              Tencent Holdings, KKR, Smash Ventures  \n",
       "16  Hillhouse Capital Management, Boyu Capital, Se...  \n",
       "38       KKR, Tencent Holdings, Sequoia Capital China  \n",
       "41  Accel India, SAIF Partners, Norwest Venture Pa...  \n",
       "43  Aviation Industry Corporation of China, Essenc...  "
      ]
     },
     "execution_count": 41,
     "metadata": {},
     "output_type": "execute_result"
    }
   ],
   "source": [
    "unicorn2022.loc[unicorn2022['funding'] > 4]\n",
    "\n",
    "# By inspection, no abnormals spotted."
   ]
  },
  {
   "cell_type": "code",
   "execution_count": 42,
   "id": "161b3294",
   "metadata": {},
   "outputs": [
    {
     "data": {
      "text/html": [
       "<div>\n",
       "<style scoped>\n",
       "    .dataframe tbody tr th:only-of-type {\n",
       "        vertical-align: middle;\n",
       "    }\n",
       "\n",
       "    .dataframe tbody tr th {\n",
       "        vertical-align: top;\n",
       "    }\n",
       "\n",
       "    .dataframe thead th {\n",
       "        text-align: right;\n",
       "    }\n",
       "</style>\n",
       "<table border=\"1\" class=\"dataframe\">\n",
       "  <thead>\n",
       "    <tr style=\"text-align: right;\">\n",
       "      <th></th>\n",
       "      <th>company</th>\n",
       "      <th>valuation</th>\n",
       "      <th>date_joined</th>\n",
       "      <th>industry</th>\n",
       "      <th>city</th>\n",
       "      <th>country</th>\n",
       "      <th>continent</th>\n",
       "      <th>year_founded</th>\n",
       "      <th>funding</th>\n",
       "      <th>select_investors</th>\n",
       "    </tr>\n",
       "  </thead>\n",
       "  <tbody>\n",
       "    <tr>\n",
       "      <th>189</th>\n",
       "      <td>Otto Bock HealthCare</td>\n",
       "      <td>4</td>\n",
       "      <td>2017-06-24</td>\n",
       "      <td>Health</td>\n",
       "      <td>Duderstadt</td>\n",
       "      <td>Germany</td>\n",
       "      <td>Europe</td>\n",
       "      <td>1919</td>\n",
       "      <td>0.0</td>\n",
       "      <td>EQT Partners</td>\n",
       "    </tr>\n",
       "  </tbody>\n",
       "</table>\n",
       "</div>"
      ],
      "text/plain": [
       "                  company  valuation date_joined industry        city  \\\n",
       "189  Otto Bock HealthCare          4  2017-06-24   Health  Duderstadt   \n",
       "\n",
       "     country continent  year_founded  funding select_investors  \n",
       "189  Germany    Europe          1919      0.0     EQT Partners  "
      ]
     },
     "execution_count": 42,
     "metadata": {},
     "output_type": "execute_result"
    }
   ],
   "source": [
    "unicorn2022.loc[unicorn2022['funding'] ==0]\n",
    "# Zero funding is  suspicious， but a unicorn company can be included without investor's funding event. Keep it."
   ]
  },
  {
   "cell_type": "markdown",
   "id": "af8dc2aa",
   "metadata": {},
   "source": [
    "**(3) object**"
   ]
  },
  {
   "cell_type": "code",
   "execution_count": 43,
   "id": "e0a2c510",
   "metadata": {
    "scrolled": true
   },
   "outputs": [
    {
     "data": {
      "text/html": [
       "<div>\n",
       "<style scoped>\n",
       "    .dataframe tbody tr th:only-of-type {\n",
       "        vertical-align: middle;\n",
       "    }\n",
       "\n",
       "    .dataframe tbody tr th {\n",
       "        vertical-align: top;\n",
       "    }\n",
       "\n",
       "    .dataframe thead th {\n",
       "        text-align: right;\n",
       "    }\n",
       "</style>\n",
       "<table border=\"1\" class=\"dataframe\">\n",
       "  <thead>\n",
       "    <tr style=\"text-align: right;\">\n",
       "      <th></th>\n",
       "      <th>company</th>\n",
       "      <th>industry</th>\n",
       "      <th>city</th>\n",
       "      <th>country</th>\n",
       "      <th>continent</th>\n",
       "      <th>select_investors</th>\n",
       "    </tr>\n",
       "  </thead>\n",
       "  <tbody>\n",
       "    <tr>\n",
       "      <th>count</th>\n",
       "      <td>1074</td>\n",
       "      <td>1074</td>\n",
       "      <td>1058</td>\n",
       "      <td>1074</td>\n",
       "      <td>1074</td>\n",
       "      <td>1073</td>\n",
       "    </tr>\n",
       "    <tr>\n",
       "      <th>unique</th>\n",
       "      <td>1073</td>\n",
       "      <td>16</td>\n",
       "      <td>256</td>\n",
       "      <td>46</td>\n",
       "      <td>6</td>\n",
       "      <td>1058</td>\n",
       "    </tr>\n",
       "    <tr>\n",
       "      <th>top</th>\n",
       "      <td>Bolt</td>\n",
       "      <td>Fintech</td>\n",
       "      <td>San Francisco</td>\n",
       "      <td>United States</td>\n",
       "      <td>North America</td>\n",
       "      <td>Sequoia Capital</td>\n",
       "    </tr>\n",
       "    <tr>\n",
       "      <th>freq</th>\n",
       "      <td>2</td>\n",
       "      <td>224</td>\n",
       "      <td>152</td>\n",
       "      <td>562</td>\n",
       "      <td>589</td>\n",
       "      <td>3</td>\n",
       "    </tr>\n",
       "  </tbody>\n",
       "</table>\n",
       "</div>"
      ],
      "text/plain": [
       "       company industry           city        country      continent  \\\n",
       "count     1074     1074           1058           1074           1074   \n",
       "unique    1073       16            256             46              6   \n",
       "top       Bolt  Fintech  San Francisco  United States  North America   \n",
       "freq         2      224            152            562            589   \n",
       "\n",
       "       select_investors  \n",
       "count              1073  \n",
       "unique             1058  \n",
       "top     Sequoia Capital  \n",
       "freq                  3  "
      ]
     },
     "execution_count": 43,
     "metadata": {},
     "output_type": "execute_result"
    }
   ],
   "source": [
    "unicorn2022.describe(include=[object])"
   ]
  },
  {
   "cell_type": "code",
   "execution_count": 44,
   "id": "c2917f3d",
   "metadata": {},
   "outputs": [],
   "source": [
    "#unicorn2022.apply(lambda x:sum(x.duplicated()))"
   ]
  },
  {
   "cell_type": "markdown",
   "id": "7ad3e0b8",
   "metadata": {},
   "source": [
    "##### - company"
   ]
  },
  {
   "cell_type": "code",
   "execution_count": 45,
   "id": "e43edb8c",
   "metadata": {
    "scrolled": true
   },
   "outputs": [
    {
     "data": {
      "text/plain": [
       "Bolt    2\n",
       "Name: company, dtype: int64"
      ]
     },
     "execution_count": 45,
     "metadata": {},
     "output_type": "execute_result"
    }
   ],
   "source": [
    "unicorn2022.company.value_counts().head(1) #Bolt "
   ]
  },
  {
   "cell_type": "code",
   "execution_count": 46,
   "id": "82da21ef",
   "metadata": {},
   "outputs": [
    {
     "data": {
      "text/plain": [
       "2"
      ]
     },
     "execution_count": 46,
     "metadata": {},
     "output_type": "execute_result"
    }
   ],
   "source": [
    "unicorn2022.company.str.lower().duplicated().sum()"
   ]
  },
  {
   "cell_type": "code",
   "execution_count": 47,
   "id": "1393db49",
   "metadata": {},
   "outputs": [
    {
     "data": {
      "text/plain": [
       "bolt          2\n",
       "fabric        2\n",
       "fair          1\n",
       "clearcover    1\n",
       "momo          1\n",
       "Name: company, dtype: int64"
      ]
     },
     "execution_count": 47,
     "metadata": {},
     "output_type": "execute_result"
    }
   ],
   "source": [
    "unicorn2022.company.str.lower().value_counts().head(5)"
   ]
  },
  {
   "cell_type": "code",
   "execution_count": 48,
   "id": "54689b8f",
   "metadata": {},
   "outputs": [],
   "source": [
    "# there's 2 duplicates in company names, need to further check them:"
   ]
  },
  {
   "cell_type": "code",
   "execution_count": 49,
   "id": "46828c63",
   "metadata": {
    "scrolled": true
   },
   "outputs": [],
   "source": [
    "# 1. Bolt:"
   ]
  },
  {
   "cell_type": "code",
   "execution_count": 50,
   "id": "9a5da5fb",
   "metadata": {
    "scrolled": false
   },
   "outputs": [
    {
     "data": {
      "text/html": [
       "<div>\n",
       "<style scoped>\n",
       "    .dataframe tbody tr th:only-of-type {\n",
       "        vertical-align: middle;\n",
       "    }\n",
       "\n",
       "    .dataframe tbody tr th {\n",
       "        vertical-align: top;\n",
       "    }\n",
       "\n",
       "    .dataframe thead th {\n",
       "        text-align: right;\n",
       "    }\n",
       "</style>\n",
       "<table border=\"1\" class=\"dataframe\">\n",
       "  <thead>\n",
       "    <tr style=\"text-align: right;\">\n",
       "      <th></th>\n",
       "      <th>company</th>\n",
       "      <th>valuation</th>\n",
       "      <th>date_joined</th>\n",
       "      <th>industry</th>\n",
       "      <th>city</th>\n",
       "      <th>country</th>\n",
       "      <th>continent</th>\n",
       "      <th>year_founded</th>\n",
       "      <th>funding</th>\n",
       "      <th>select_investors</th>\n",
       "    </tr>\n",
       "  </thead>\n",
       "  <tbody>\n",
       "    <tr>\n",
       "      <th>40</th>\n",
       "      <td>Bolt</td>\n",
       "      <td>11</td>\n",
       "      <td>2018-05-29</td>\n",
       "      <td>Auto &amp; transportation</td>\n",
       "      <td>Tallinn</td>\n",
       "      <td>Estonia</td>\n",
       "      <td>Europe</td>\n",
       "      <td>2013</td>\n",
       "      <td>1.0</td>\n",
       "      <td>Didi Chuxing, Diamler, TMT Investments</td>\n",
       "    </tr>\n",
       "    <tr>\n",
       "      <th>44</th>\n",
       "      <td>Bolt</td>\n",
       "      <td>11</td>\n",
       "      <td>2021-10-08</td>\n",
       "      <td>Fintech</td>\n",
       "      <td>San Francisco</td>\n",
       "      <td>United States</td>\n",
       "      <td>North America</td>\n",
       "      <td>2014</td>\n",
       "      <td>1.0</td>\n",
       "      <td>Activant Capital, Tribe Capital, General Atlantic</td>\n",
       "    </tr>\n",
       "  </tbody>\n",
       "</table>\n",
       "</div>"
      ],
      "text/plain": [
       "   company  valuation date_joined               industry           city  \\\n",
       "40    Bolt         11  2018-05-29  Auto & transportation        Tallinn   \n",
       "44    Bolt         11  2021-10-08                Fintech  San Francisco   \n",
       "\n",
       "          country      continent  year_founded  funding  \\\n",
       "40        Estonia         Europe          2013      1.0   \n",
       "44  United States  North America          2014      1.0   \n",
       "\n",
       "                                     select_investors  \n",
       "40             Didi Chuxing, Diamler, TMT Investments  \n",
       "44  Activant Capital, Tribe Capital, General Atlantic  "
      ]
     },
     "execution_count": 50,
     "metadata": {},
     "output_type": "execute_result"
    }
   ],
   "source": [
    "unicorn2022.loc[unicorn2022.company == 'Bolt'] # Two different companies with same name, no duplicates"
   ]
  },
  {
   "cell_type": "code",
   "execution_count": 51,
   "id": "296efd10",
   "metadata": {
    "scrolled": true
   },
   "outputs": [
    {
     "data": {
      "text/html": [
       "<div>\n",
       "<style scoped>\n",
       "    .dataframe tbody tr th:only-of-type {\n",
       "        vertical-align: middle;\n",
       "    }\n",
       "\n",
       "    .dataframe tbody tr th {\n",
       "        vertical-align: top;\n",
       "    }\n",
       "\n",
       "    .dataframe thead th {\n",
       "        text-align: right;\n",
       "    }\n",
       "</style>\n",
       "<table border=\"1\" class=\"dataframe\">\n",
       "  <thead>\n",
       "    <tr style=\"text-align: right;\">\n",
       "      <th></th>\n",
       "      <th>company</th>\n",
       "      <th>valuation</th>\n",
       "      <th>date_joined</th>\n",
       "      <th>industry</th>\n",
       "      <th>city</th>\n",
       "      <th>country</th>\n",
       "      <th>continent</th>\n",
       "      <th>year_founded</th>\n",
       "      <th>funding</th>\n",
       "      <th>select_investors</th>\n",
       "    </tr>\n",
       "  </thead>\n",
       "  <tbody>\n",
       "    <tr>\n",
       "      <th>671</th>\n",
       "      <td>fabric</td>\n",
       "      <td>1</td>\n",
       "      <td>2022-02-24</td>\n",
       "      <td>E-commerce &amp; direct-to-consumer</td>\n",
       "      <td>Bellevue</td>\n",
       "      <td>United States</td>\n",
       "      <td>North America</td>\n",
       "      <td>2017</td>\n",
       "      <td>0.294</td>\n",
       "      <td>Redpoint Ventures, Norwest Venture Partners, S...</td>\n",
       "    </tr>\n",
       "    <tr>\n",
       "      <th>912</th>\n",
       "      <td>Fabric</td>\n",
       "      <td>1</td>\n",
       "      <td>2021-10-26</td>\n",
       "      <td>Supply chain, logistics, &amp; delivery</td>\n",
       "      <td>New York</td>\n",
       "      <td>United States</td>\n",
       "      <td>North America</td>\n",
       "      <td>2015</td>\n",
       "      <td>0.294</td>\n",
       "      <td>Innovation Endeavors, Aleph, Temasek</td>\n",
       "    </tr>\n",
       "  </tbody>\n",
       "</table>\n",
       "</div>"
      ],
      "text/plain": [
       "    company  valuation date_joined                             industry  \\\n",
       "671  fabric          1  2022-02-24      E-commerce & direct-to-consumer   \n",
       "912  Fabric          1  2021-10-26  Supply chain, logistics, & delivery   \n",
       "\n",
       "         city        country      continent  year_founded  funding  \\\n",
       "671  Bellevue  United States  North America          2017    0.294   \n",
       "912  New York  United States  North America          2015    0.294   \n",
       "\n",
       "                                      select_investors  \n",
       "671  Redpoint Ventures, Norwest Venture Partners, S...  \n",
       "912               Innovation Endeavors, Aleph, Temasek  "
      ]
     },
     "execution_count": 51,
     "metadata": {},
     "output_type": "execute_result"
    }
   ],
   "source": [
    "# 2. Fabric\n",
    "unicorn2022.loc[unicorn2022.company.str.lower() == 'fabric']"
   ]
  },
  {
   "cell_type": "code",
   "execution_count": 52,
   "id": "cfb0c523",
   "metadata": {},
   "outputs": [],
   "source": [
    "# They are different companies, so keep them."
   ]
  },
  {
   "cell_type": "markdown",
   "id": "00dd72d2",
   "metadata": {},
   "source": [
    "##### - industry"
   ]
  },
  {
   "cell_type": "code",
   "execution_count": 53,
   "id": "0c3482eb",
   "metadata": {
    "scrolled": true
   },
   "outputs": [
    {
     "data": {
      "text/plain": [
       "array(['Artificial Intelligence', 'Artificial intelligence',\n",
       "       'Auto & transportation', 'Consumer & retail', 'Cybersecurity',\n",
       "       'Data management & analytics', 'E-commerce & direct-to-consumer',\n",
       "       'Edtech', 'Fintech', 'Hardware', 'Health',\n",
       "       'Internet software & services', 'Mobile & telecommunications',\n",
       "       'Other', 'Supply chain, logistics, & delivery', 'Travel'],\n",
       "      dtype=object)"
      ]
     },
     "execution_count": 53,
     "metadata": {},
     "output_type": "execute_result"
    }
   ],
   "source": [
    "np.sort(unicorn2022['industry'].unique())"
   ]
  },
  {
   "cell_type": "code",
   "execution_count": 54,
   "id": "dc8b51a9",
   "metadata": {
    "scrolled": true
   },
   "outputs": [
    {
     "name": "stdout",
     "output_type": "stream",
     "text": [
      "16\n",
      "15\n"
     ]
    }
   ],
   "source": [
    "print(len(np.sort(unicorn2022['industry'].unique())))\n",
    "print(len(np.sort(unicorn2022['industry'].str.lower().unique())))"
   ]
  },
  {
   "cell_type": "code",
   "execution_count": 55,
   "id": "b4f0922d",
   "metadata": {},
   "outputs": [
    {
     "data": {
      "text/plain": [
       "artificial intelligence                2\n",
       "other                                  1\n",
       "fintech                                1\n",
       "internet software & services           1\n",
       "consumer & retail                      1\n",
       "e-commerce & direct-to-consumer        1\n",
       "hardware                               1\n",
       "cybersecurity                          1\n",
       "edtech                                 1\n",
       "health                                 1\n",
       "mobile & telecommunications            1\n",
       "data management & analytics            1\n",
       "supply chain, logistics, & delivery    1\n",
       "travel                                 1\n",
       "auto & transportation                  1\n",
       "dtype: int64"
      ]
     },
     "execution_count": 55,
     "metadata": {},
     "output_type": "execute_result"
    }
   ],
   "source": [
    "pd.Series(unicorn2022['industry'].unique()).str.lower().value_counts()"
   ]
  },
  {
   "cell_type": "code",
   "execution_count": 56,
   "id": "cd00e215",
   "metadata": {},
   "outputs": [],
   "source": [
    "# Artificial intelligence & Artificial Intelligence"
   ]
  },
  {
   "cell_type": "code",
   "execution_count": 57,
   "id": "ae6f444f",
   "metadata": {
    "scrolled": true
   },
   "outputs": [
    {
     "data": {
      "text/html": [
       "<div>\n",
       "<style scoped>\n",
       "    .dataframe tbody tr th:only-of-type {\n",
       "        vertical-align: middle;\n",
       "    }\n",
       "\n",
       "    .dataframe tbody tr th {\n",
       "        vertical-align: top;\n",
       "    }\n",
       "\n",
       "    .dataframe thead th {\n",
       "        text-align: right;\n",
       "    }\n",
       "</style>\n",
       "<table border=\"1\" class=\"dataframe\">\n",
       "  <thead>\n",
       "    <tr style=\"text-align: right;\">\n",
       "      <th></th>\n",
       "      <th>company</th>\n",
       "      <th>valuation</th>\n",
       "      <th>date_joined</th>\n",
       "      <th>industry</th>\n",
       "      <th>city</th>\n",
       "      <th>country</th>\n",
       "      <th>continent</th>\n",
       "      <th>year_founded</th>\n",
       "      <th>funding</th>\n",
       "      <th>select_investors</th>\n",
       "    </tr>\n",
       "  </thead>\n",
       "  <tbody>\n",
       "    <tr>\n",
       "      <th>270</th>\n",
       "      <td>Uniphore</td>\n",
       "      <td>3</td>\n",
       "      <td>2022-02-16</td>\n",
       "      <td>Artificial Intelligence</td>\n",
       "      <td>Palo Alto</td>\n",
       "      <td>United States</td>\n",
       "      <td>North America</td>\n",
       "      <td>2008</td>\n",
       "      <td>0.607</td>\n",
       "      <td>Chiratae Ventures, March Capital Partners, Nat...</td>\n",
       "    </tr>\n",
       "    <tr>\n",
       "      <th>412</th>\n",
       "      <td>NotCo</td>\n",
       "      <td>2</td>\n",
       "      <td>2021-07-26</td>\n",
       "      <td>Artificial Intelligence</td>\n",
       "      <td>Santiago</td>\n",
       "      <td>Chile</td>\n",
       "      <td>South America</td>\n",
       "      <td>2015</td>\n",
       "      <td>0.370</td>\n",
       "      <td>Kaszek Ventures, SOSV, Tiger Global Management</td>\n",
       "    </tr>\n",
       "    <tr>\n",
       "      <th>443</th>\n",
       "      <td>Cresta</td>\n",
       "      <td>2</td>\n",
       "      <td>2022-03-17</td>\n",
       "      <td>Artificial Intelligence</td>\n",
       "      <td>San Francisco</td>\n",
       "      <td>United States</td>\n",
       "      <td>North America</td>\n",
       "      <td>2017</td>\n",
       "      <td>0.151</td>\n",
       "      <td>Andreessen Horowitz, Greylock Partners, Sequoi...</td>\n",
       "    </tr>\n",
       "    <tr>\n",
       "      <th>523</th>\n",
       "      <td>ConcertAI</td>\n",
       "      <td>2</td>\n",
       "      <td>2022-03-29</td>\n",
       "      <td>Artificial Intelligence</td>\n",
       "      <td>Boston</td>\n",
       "      <td>United States</td>\n",
       "      <td>North America</td>\n",
       "      <td>2018</td>\n",
       "      <td>0.300</td>\n",
       "      <td>Sixth Street Partners, Declaration Partners, M...</td>\n",
       "    </tr>\n",
       "    <tr>\n",
       "      <th>637</th>\n",
       "      <td>Shukun Technology</td>\n",
       "      <td>1</td>\n",
       "      <td>2021-08-16</td>\n",
       "      <td>Artificial Intelligence</td>\n",
       "      <td>Beijing</td>\n",
       "      <td>China</td>\n",
       "      <td>Asia</td>\n",
       "      <td>2017</td>\n",
       "      <td>0.211</td>\n",
       "      <td>Marathon Venture Partners, Huagai Capital, Chi...</td>\n",
       "    </tr>\n",
       "    <tr>\n",
       "      <th>643</th>\n",
       "      <td>TUNGEE</td>\n",
       "      <td>1</td>\n",
       "      <td>2021-12-15</td>\n",
       "      <td>Artificial Intelligence</td>\n",
       "      <td>Guangzhou</td>\n",
       "      <td>China</td>\n",
       "      <td>Asia</td>\n",
       "      <td>2016</td>\n",
       "      <td>0.171</td>\n",
       "      <td>UNITY VENTURES, Qiming Venture Partners, GGV C...</td>\n",
       "    </tr>\n",
       "    <tr>\n",
       "      <th>789</th>\n",
       "      <td>SmartMore</td>\n",
       "      <td>1</td>\n",
       "      <td>2021-06-24</td>\n",
       "      <td>Artificial Intelligence</td>\n",
       "      <td>Shenzhen</td>\n",
       "      <td>China</td>\n",
       "      <td>Asia</td>\n",
       "      <td>2019</td>\n",
       "      <td>0.300</td>\n",
       "      <td>IDG Capital, ZhenFund, Sequoia Capital China</td>\n",
       "    </tr>\n",
       "    <tr>\n",
       "      <th>863</th>\n",
       "      <td>Anyscale</td>\n",
       "      <td>1</td>\n",
       "      <td>2021-12-07</td>\n",
       "      <td>Artificial Intelligence</td>\n",
       "      <td>Berkeley</td>\n",
       "      <td>United States</td>\n",
       "      <td>North America</td>\n",
       "      <td>2019</td>\n",
       "      <td>0.160</td>\n",
       "      <td>Andreessen Horowitz, Intel Capital, Foundation...</td>\n",
       "    </tr>\n",
       "    <tr>\n",
       "      <th>896</th>\n",
       "      <td>CommerceIQ</td>\n",
       "      <td>1</td>\n",
       "      <td>2022-03-21</td>\n",
       "      <td>Artificial Intelligence</td>\n",
       "      <td>Palo Alto</td>\n",
       "      <td>United States</td>\n",
       "      <td>North America</td>\n",
       "      <td>2012</td>\n",
       "      <td>0.196</td>\n",
       "      <td>Trinity Ventures, Madrona Venture Group, Shast...</td>\n",
       "    </tr>\n",
       "    <tr>\n",
       "      <th>929</th>\n",
       "      <td>Haomao.AI</td>\n",
       "      <td>1</td>\n",
       "      <td>2021-12-22</td>\n",
       "      <td>Artificial Intelligence</td>\n",
       "      <td>Beijing</td>\n",
       "      <td>China</td>\n",
       "      <td>Asia</td>\n",
       "      <td>2019</td>\n",
       "      <td>0.157</td>\n",
       "      <td>Qualcomm Ventures, Nine Intelligence Capital, ...</td>\n",
       "    </tr>\n",
       "    <tr>\n",
       "      <th>991</th>\n",
       "      <td>Owkin</td>\n",
       "      <td>1</td>\n",
       "      <td>2021-11-18</td>\n",
       "      <td>Artificial Intelligence</td>\n",
       "      <td>New York</td>\n",
       "      <td>United States</td>\n",
       "      <td>North America</td>\n",
       "      <td>2016</td>\n",
       "      <td>0.254</td>\n",
       "      <td>Google Ventures, Cathay Innovation, NJF Capital</td>\n",
       "    </tr>\n",
       "  </tbody>\n",
       "</table>\n",
       "</div>"
      ],
      "text/plain": [
       "               company  valuation date_joined                 industry  \\\n",
       "270           Uniphore          3  2022-02-16  Artificial Intelligence   \n",
       "412              NotCo          2  2021-07-26  Artificial Intelligence   \n",
       "443             Cresta          2  2022-03-17  Artificial Intelligence   \n",
       "523          ConcertAI          2  2022-03-29  Artificial Intelligence   \n",
       "637  Shukun Technology          1  2021-08-16  Artificial Intelligence   \n",
       "643             TUNGEE          1  2021-12-15  Artificial Intelligence   \n",
       "789          SmartMore          1  2021-06-24  Artificial Intelligence   \n",
       "863           Anyscale          1  2021-12-07  Artificial Intelligence   \n",
       "896         CommerceIQ          1  2022-03-21  Artificial Intelligence   \n",
       "929          Haomao.AI          1  2021-12-22  Artificial Intelligence   \n",
       "991              Owkin          1  2021-11-18  Artificial Intelligence   \n",
       "\n",
       "              city        country      continent  year_founded  funding  \\\n",
       "270      Palo Alto  United States  North America          2008    0.607   \n",
       "412       Santiago          Chile  South America          2015    0.370   \n",
       "443  San Francisco  United States  North America          2017    0.151   \n",
       "523         Boston  United States  North America          2018    0.300   \n",
       "637        Beijing          China           Asia          2017    0.211   \n",
       "643      Guangzhou          China           Asia          2016    0.171   \n",
       "789       Shenzhen          China           Asia          2019    0.300   \n",
       "863       Berkeley  United States  North America          2019    0.160   \n",
       "896      Palo Alto  United States  North America          2012    0.196   \n",
       "929        Beijing          China           Asia          2019    0.157   \n",
       "991       New York  United States  North America          2016    0.254   \n",
       "\n",
       "                                      select_investors  \n",
       "270  Chiratae Ventures, March Capital Partners, Nat...  \n",
       "412     Kaszek Ventures, SOSV, Tiger Global Management  \n",
       "443  Andreessen Horowitz, Greylock Partners, Sequoi...  \n",
       "523  Sixth Street Partners, Declaration Partners, M...  \n",
       "637  Marathon Venture Partners, Huagai Capital, Chi...  \n",
       "643  UNITY VENTURES, Qiming Venture Partners, GGV C...  \n",
       "789       IDG Capital, ZhenFund, Sequoia Capital China  \n",
       "863  Andreessen Horowitz, Intel Capital, Foundation...  \n",
       "896  Trinity Ventures, Madrona Venture Group, Shast...  \n",
       "929  Qualcomm Ventures, Nine Intelligence Capital, ...  \n",
       "991    Google Ventures, Cathay Innovation, NJF Capital  "
      ]
     },
     "execution_count": 57,
     "metadata": {},
     "output_type": "execute_result"
    }
   ],
   "source": [
    "unicorn2022.loc[unicorn2022.industry == 'Artificial Intelligence']"
   ]
  },
  {
   "cell_type": "code",
   "execution_count": 58,
   "id": "923118ea",
   "metadata": {},
   "outputs": [
    {
     "data": {
      "text/plain": [
       "array(['Artificial intelligence', 'Auto & transportation',\n",
       "       'Consumer & retail', 'Cybersecurity',\n",
       "       'Data management & analytics', 'E-commerce & direct-to-consumer',\n",
       "       'Edtech', 'Fintech', 'Hardware', 'Health',\n",
       "       'Internet software & services', 'Mobile & telecommunications',\n",
       "       'Other', 'Supply chain, logistics, & delivery', 'Travel'],\n",
       "      dtype=object)"
      ]
     },
     "execution_count": 58,
     "metadata": {},
     "output_type": "execute_result"
    }
   ],
   "source": [
    "unicorn2022.loc[unicorn2022.industry == 'Artificial Intelligence', 'industry'] = 'Artificial intelligence'\n",
    "np.sort(unicorn2022['industry'].unique())"
   ]
  },
  {
   "cell_type": "markdown",
   "id": "cc205362",
   "metadata": {},
   "source": [
    "##### - city"
   ]
  },
  {
   "cell_type": "code",
   "execution_count": 59,
   "id": "3453a3b3",
   "metadata": {},
   "outputs": [
    {
     "data": {
      "text/plain": [
       "company                     object\n",
       "valuation                    int64\n",
       "date_joined         datetime64[ns]\n",
       "industry                    object\n",
       "city                        object\n",
       "country                     object\n",
       "continent                   object\n",
       "year_founded                 int64\n",
       "funding                    float64\n",
       "select_investors            object\n",
       "dtype: object"
      ]
     },
     "execution_count": 59,
     "metadata": {},
     "output_type": "execute_result"
    }
   ],
   "source": [
    "unicorn2022.dtypes"
   ]
  },
  {
   "cell_type": "code",
   "execution_count": 60,
   "id": "d3d17442",
   "metadata": {},
   "outputs": [],
   "source": [
    "#np.sort(unicorn2022['city'].unique()) # TypeError because there're nan, will check and fix it in the nest step"
   ]
  },
  {
   "cell_type": "code",
   "execution_count": 61,
   "id": "f743ba25",
   "metadata": {
    "scrolled": true
   },
   "outputs": [
    {
     "data": {
      "text/plain": [
       "array(['Aarhus', 'Aberdeen', 'Alameda', 'Alexandria', 'Altrincham',\n",
       "       'Ambler', 'Amsterdam', 'Andheri', 'Arlington', 'Atlanta', 'Austin',\n",
       "       'Bangalore', 'Bangkok', 'Barcelona', 'Beijing', 'Bellevue',\n",
       "       'Bellingham', 'Bend', 'Bengaluru', 'Berkeley', 'Berkeley Heights',\n",
       "       'Berlin', 'Bethesda', 'Boca Raton', 'Bogota', 'Boise', 'Boston',\n",
       "       'Boulder', 'Brisbane', 'Bristol', 'Brooklyn', 'Bruchsal',\n",
       "       'Brussels', 'Bryanston', 'Buenos Aires', 'Burlingame',\n",
       "       'Burlington', 'Burnaby', 'Cambridge', 'Campinas', 'Carlsbad',\n",
       "       'Carson City', 'Cary', 'Cedar Park', 'Central', 'Changsha',\n",
       "       'Changzhou', 'Charlotte', 'Chatham', 'Chemnitz', 'Chengdu',\n",
       "       'Chennai', 'Cheung Sha Wan', 'Chicago', 'Chongqing', 'Cincinnati',\n",
       "       'Colchester', 'Colorado Springs', 'Columbus', 'Copenhagen',\n",
       "       'Crewe', 'Croix', 'Culver City', 'Curitiba', 'Dakar', 'Dallas',\n",
       "       'Denver', 'Detroit', 'Dongguan', 'Draper', 'Dubai', 'Dublin',\n",
       "       'Duderstadt', 'Eden Prairie', 'El Segundo', 'Encinitas',\n",
       "       'Englewood', 'Englewood Cliffs', 'Espoo', 'Evry', 'Faridabad',\n",
       "       'Fort Lee', 'Fort Mill', 'Foster City', 'Framingham', 'Fremont',\n",
       "       'Ghent', \"Giv'atayim\", 'Glendale', 'Goleta', 'Guangzhou',\n",
       "       'Guiyang', 'Gurgaon', 'Gurugram', 'Hamilton', 'Hangzhou',\n",
       "       'Hanover', 'Hawthorne', 'Hayward', 'Hefei', 'Helsinki', 'Herndon',\n",
       "       'Herzliya', 'Ho Chi Minh City', 'Hoboken', 'Houston', 'Hunan',\n",
       "       'Hyderabad', 'Inglewood', 'Irvine', 'Irving', 'Islandia',\n",
       "       'Istanbul', 'Jacksonville', 'Jaipur', 'Jakarta', 'Jeju-do',\n",
       "       'Jersey City', 'Jerusalem', 'Jiangsu', 'Kirkland', 'Kitchener',\n",
       "       'Kowloon', 'La Plaine Saint-Denis', 'Lagos', 'Lausanne', 'Leawood',\n",
       "       'Lehi', 'Lerma de Villada', 'Leudelange', 'Lincoln', 'London',\n",
       "       'Long Beach', 'Los Altos', 'Los Angeles', 'Louisville',\n",
       "       'Louvain-la-Neuve', 'Luohe', 'Lysaker', 'Madison', 'Madrid',\n",
       "       'Maharashtra', 'Manila', 'Marina del Rey', 'McLean', 'Melbourne',\n",
       "       'Menlo Park', 'Mexico City', 'Miami', 'Midrand', 'Milan',\n",
       "       'Milpitas', 'Mississauga', 'Montpellier', 'Montreal',\n",
       "       'Mountain View', 'Mumbai', 'Munich', 'Nanjing', 'Nashville',\n",
       "       'Netanya', 'New Delhi', 'New York', 'Noida', 'Norfolk',\n",
       "       'Northbrook', 'Oakland', 'Orlando', 'Osasco', 'Oslo', 'Ottawa',\n",
       "       'Oulu', 'Palo Alto', 'Parana', 'Paris', 'Pennsauken',\n",
       "       'Petah Tikva', 'Peterborough', 'Philadelphia', 'Pittsburgh',\n",
       "       'Plantation', 'Pleasanton', 'Portland', 'Portola Valley', 'Prague',\n",
       "       'Prilly', 'Princeton', 'Pune', 'Qingdao', \"Ra'anana\", 'Raleigh',\n",
       "       'Ramat Gan', 'Redwood City', 'Richmond', 'Roseville', 'Roubaix',\n",
       "       'Sacramento', 'Salt Lake City', 'San Carlos', 'San Diego',\n",
       "       'San Francisco', 'San Jose', 'San Mateo', 'San Ramon',\n",
       "       'Santa Barbara', 'Santa Clara', 'Santa Monica', 'Santiago',\n",
       "       'Sao Paulo', 'Schaffhausen', 'Scottsdale', 'Seattle', 'Selangor',\n",
       "       'Seongnam-Si', 'Seoul', 'Shanghai', 'Shenzhen', 'Sherman Oaks',\n",
       "       'Solihull', 'Somerville', 'South Jordan', 'South San Francisco',\n",
       "       'Stockholm', 'Sunnyvale', 'Surry Hills', 'Suzhou', 'Sydney',\n",
       "       'Taguig City', 'Tallinn', 'Tampa', 'Tel Aviv', 'Thane', 'Tianjin',\n",
       "       'Tirat Carmel', 'Tokyo', 'Toronto', 'Tsuruoka', 'Tustin',\n",
       "       'Unterfoehring', 'Vancouver', 'Vienna', 'Vilnius', 'Vodnjan',\n",
       "       'Walnut', 'Walpole', 'Waltham', 'Washington', 'Washington DC',\n",
       "       'Waterloo', 'Westerville', 'Wilmington', 'Wuhan', 'Wuxi',\n",
       "       'Zephyr Cove', 'Zhuhai', 'Zurich'], dtype=object)"
      ]
     },
     "execution_count": 61,
     "metadata": {},
     "output_type": "execute_result"
    }
   ],
   "source": [
    "np.sort(unicorn2022['city'].dropna().unique())"
   ]
  },
  {
   "cell_type": "markdown",
   "id": "27fc99ff",
   "metadata": {},
   "source": [
    "##### - country"
   ]
  },
  {
   "cell_type": "code",
   "execution_count": 62,
   "id": "335ec342",
   "metadata": {},
   "outputs": [
    {
     "data": {
      "text/plain": [
       "array(['Argentina', 'Australia', 'Austria', 'Bahamas', 'Belgium',\n",
       "       'Bermuda', 'Brazil', 'Canada', 'Chile', 'China', 'Colombia',\n",
       "       'Croatia', 'Czech Republic', 'Denmark', 'Estonia', 'Finland',\n",
       "       'France', 'Germany', 'Hong Kong', 'India', 'Indonesia', 'Ireland',\n",
       "       'Israel', 'Italy', 'Japan', 'Lithuania', 'Luxembourg', 'Malaysia',\n",
       "       'Mexico', 'Netherlands', 'Nigeria', 'Norway', 'Philippines',\n",
       "       'Senegal', 'Singapore', 'South Africa', 'South Korea', 'Spain',\n",
       "       'Sweden', 'Switzerland', 'Thailand', 'Turkey',\n",
       "       'United Arab Emirates', 'United Kingdom', 'United States',\n",
       "       'Vietnam'], dtype=object)"
      ]
     },
     "execution_count": 62,
     "metadata": {},
     "output_type": "execute_result"
    }
   ],
   "source": [
    "np.sort(unicorn2022['country'].unique())"
   ]
  },
  {
   "cell_type": "markdown",
   "id": "c47272d5",
   "metadata": {},
   "source": [
    "##### - continent"
   ]
  },
  {
   "cell_type": "code",
   "execution_count": 63,
   "id": "06afaf85",
   "metadata": {},
   "outputs": [
    {
     "data": {
      "text/plain": [
       "array(['Africa', 'Asia', 'Europe', 'North America', 'Oceania',\n",
       "       'South America'], dtype=object)"
      ]
     },
     "execution_count": 63,
     "metadata": {},
     "output_type": "execute_result"
    }
   ],
   "source": [
    "np.sort(unicorn2022['continent'].unique())"
   ]
  },
  {
   "cell_type": "markdown",
   "id": "a1a57091",
   "metadata": {},
   "source": [
    "##### - select_investors"
   ]
  },
  {
   "cell_type": "code",
   "execution_count": 64,
   "id": "c5c738f4",
   "metadata": {
    "scrolled": true
   },
   "outputs": [
    {
     "data": {
      "text/plain": [
       "Sequoia Capital                                                                                3\n",
       "Insight Partners, Sequoia Capital, Index Ventures                                              2\n",
       "Tiger Global Management, Sequoia Capital India, Ribbit Capital                                 2\n",
       "Global Founders Capital, Shea Ventures, Greycroft                                              2\n",
       "SoftBank Group                                                                                 2\n",
       "General Atlantic                                                                               2\n",
       "Two Sigma Ventures, Flint Capital, Commerce Ventures                                           2\n",
       "Undisclosed                                                                                    2\n",
       "Greylock Partners, Google Ventures, BlackRock                                                  2\n",
       "Pelion Venture Partners, Foundation Capital, Thoma Bravo                                       2\n",
       "Sequoia Capital China, Qiming Venture Partners, Tencent Holdings                               2\n",
       "Speedinvest, Valar Ventures, Uniqa Ventures                                                    2\n",
       "Qualcomm Ventures, Accel, Canaan Partners                                                      2\n",
       "Shunwei Capital Partners, China Media Group, Guangzhou Huiyin Aofeng Equity Investment Fund    2\n",
       "Fabric Ventures, AirTree Ventures, Temasek                                                     1\n",
       "Sequoia Capital India, Kae Capital, Accel                                                      1\n",
       "IMM Investment, NXC                                                                            1\n",
       "Brighton Park Capital, Blue Cloud Ventures, Workday Ventures                                   1\n",
       "Info Edge, Softbank Capital                                                                    1\n",
       "Blackrock, capitalG, World Lab Innovation                                                      1\n",
       "Name: select_investors, dtype: int64"
      ]
     },
     "execution_count": 64,
     "metadata": {},
     "output_type": "execute_result"
    }
   ],
   "source": [
    "unicorn2022['select_investors'].value_counts().head(20)"
   ]
  },
  {
   "cell_type": "markdown",
   "id": "e2674645",
   "metadata": {},
   "source": [
    "**4. check null**"
   ]
  },
  {
   "cell_type": "code",
   "execution_count": 65,
   "id": "f893f7f0",
   "metadata": {
    "scrolled": true
   },
   "outputs": [
    {
     "data": {
      "text/plain": [
       "company              0\n",
       "valuation            0\n",
       "date_joined          0\n",
       "industry             0\n",
       "city                16\n",
       "country              0\n",
       "continent            0\n",
       "year_founded         0\n",
       "funding             12\n",
       "select_investors     1\n",
       "dtype: int64"
      ]
     },
     "execution_count": 65,
     "metadata": {},
     "output_type": "execute_result"
    }
   ],
   "source": [
    "pd.isnull(unicorn2022).sum() "
   ]
  },
  {
   "cell_type": "markdown",
   "id": "e272c8b8",
   "metadata": {},
   "source": [
    "##### - city"
   ]
  },
  {
   "cell_type": "code",
   "execution_count": 66,
   "id": "74b0cbe5",
   "metadata": {
    "scrolled": true
   },
   "outputs": [
    {
     "name": "stdout",
     "output_type": "stream",
     "text": [
      "(16, 10)\n"
     ]
    },
    {
     "data": {
      "text/html": [
       "<div>\n",
       "<style scoped>\n",
       "    .dataframe tbody tr th:only-of-type {\n",
       "        vertical-align: middle;\n",
       "    }\n",
       "\n",
       "    .dataframe tbody tr th {\n",
       "        vertical-align: top;\n",
       "    }\n",
       "\n",
       "    .dataframe thead th {\n",
       "        text-align: right;\n",
       "    }\n",
       "</style>\n",
       "<table border=\"1\" class=\"dataframe\">\n",
       "  <thead>\n",
       "    <tr style=\"text-align: right;\">\n",
       "      <th></th>\n",
       "      <th>company</th>\n",
       "      <th>valuation</th>\n",
       "      <th>date_joined</th>\n",
       "      <th>industry</th>\n",
       "      <th>city</th>\n",
       "      <th>country</th>\n",
       "      <th>continent</th>\n",
       "      <th>year_founded</th>\n",
       "      <th>funding</th>\n",
       "      <th>select_investors</th>\n",
       "    </tr>\n",
       "  </thead>\n",
       "  <tbody>\n",
       "    <tr>\n",
       "      <th>12</th>\n",
       "      <td>FTX</td>\n",
       "      <td>32</td>\n",
       "      <td>2021-07-20</td>\n",
       "      <td>Fintech</td>\n",
       "      <td>NaN</td>\n",
       "      <td>Bahamas</td>\n",
       "      <td>North America</td>\n",
       "      <td>2018</td>\n",
       "      <td>2.000</td>\n",
       "      <td>Sequoia Capital, Thoma Bravo, Softbank</td>\n",
       "    </tr>\n",
       "    <tr>\n",
       "      <th>170</th>\n",
       "      <td>HyalRoute</td>\n",
       "      <td>4</td>\n",
       "      <td>2020-05-26</td>\n",
       "      <td>Mobile &amp; telecommunications</td>\n",
       "      <td>NaN</td>\n",
       "      <td>Singapore</td>\n",
       "      <td>Asia</td>\n",
       "      <td>2015</td>\n",
       "      <td>0.263</td>\n",
       "      <td>Kuang-Chi</td>\n",
       "    </tr>\n",
       "    <tr>\n",
       "      <th>242</th>\n",
       "      <td>Moglix</td>\n",
       "      <td>3</td>\n",
       "      <td>2021-05-17</td>\n",
       "      <td>E-commerce &amp; direct-to-consumer</td>\n",
       "      <td>NaN</td>\n",
       "      <td>Singapore</td>\n",
       "      <td>Asia</td>\n",
       "      <td>2015</td>\n",
       "      <td>0.471</td>\n",
       "      <td>Jungle Ventures, Accel, Venture Highway</td>\n",
       "    </tr>\n",
       "    <tr>\n",
       "      <th>251</th>\n",
       "      <td>Trax</td>\n",
       "      <td>3</td>\n",
       "      <td>2019-07-22</td>\n",
       "      <td>Artificial intelligence</td>\n",
       "      <td>NaN</td>\n",
       "      <td>Singapore</td>\n",
       "      <td>Asia</td>\n",
       "      <td>2010</td>\n",
       "      <td>1.000</td>\n",
       "      <td>Hopu Investment Management, Boyu Capital, DC T...</td>\n",
       "    </tr>\n",
       "    <tr>\n",
       "      <th>325</th>\n",
       "      <td>Amber Group</td>\n",
       "      <td>3</td>\n",
       "      <td>2021-06-21</td>\n",
       "      <td>Fintech</td>\n",
       "      <td>NaN</td>\n",
       "      <td>Hong Kong</td>\n",
       "      <td>Asia</td>\n",
       "      <td>2015</td>\n",
       "      <td>0.328</td>\n",
       "      <td>Tiger Global Management, Tiger Brokers, DCM Ve...</td>\n",
       "    </tr>\n",
       "    <tr>\n",
       "      <th>382</th>\n",
       "      <td>Ninja Van</td>\n",
       "      <td>2</td>\n",
       "      <td>2021-09-27</td>\n",
       "      <td>Supply chain, logistics, &amp; delivery</td>\n",
       "      <td>NaN</td>\n",
       "      <td>Singapore</td>\n",
       "      <td>Asia</td>\n",
       "      <td>2014</td>\n",
       "      <td>0.975</td>\n",
       "      <td>B Capital Group, Monk's Hill Ventures, Dynamic...</td>\n",
       "    </tr>\n",
       "    <tr>\n",
       "      <th>541</th>\n",
       "      <td>Advance Intelligence Group</td>\n",
       "      <td>2</td>\n",
       "      <td>2021-09-23</td>\n",
       "      <td>Artificial intelligence</td>\n",
       "      <td>NaN</td>\n",
       "      <td>Singapore</td>\n",
       "      <td>Asia</td>\n",
       "      <td>2016</td>\n",
       "      <td>0.536</td>\n",
       "      <td>Vision Plus Capital, GSR Ventures, ZhenFund</td>\n",
       "    </tr>\n",
       "    <tr>\n",
       "      <th>811</th>\n",
       "      <td>Carousell</td>\n",
       "      <td>1</td>\n",
       "      <td>2021-09-15</td>\n",
       "      <td>E-commerce &amp; direct-to-consumer</td>\n",
       "      <td>NaN</td>\n",
       "      <td>Singapore</td>\n",
       "      <td>Asia</td>\n",
       "      <td>2012</td>\n",
       "      <td>0.288</td>\n",
       "      <td>500 Global, Rakuten Ventures, Golden Gate Vent...</td>\n",
       "    </tr>\n",
       "    <tr>\n",
       "      <th>848</th>\n",
       "      <td>Matrixport</td>\n",
       "      <td>1</td>\n",
       "      <td>2021-06-01</td>\n",
       "      <td>Fintech</td>\n",
       "      <td>NaN</td>\n",
       "      <td>Singapore</td>\n",
       "      <td>Asia</td>\n",
       "      <td>2019</td>\n",
       "      <td>0.100</td>\n",
       "      <td>Dragonfly Captial, Qiming Venture Partners, DS...</td>\n",
       "    </tr>\n",
       "    <tr>\n",
       "      <th>880</th>\n",
       "      <td>bolttech</td>\n",
       "      <td>1</td>\n",
       "      <td>2021-07-01</td>\n",
       "      <td>Fintech</td>\n",
       "      <td>NaN</td>\n",
       "      <td>Singapore</td>\n",
       "      <td>Asia</td>\n",
       "      <td>2018</td>\n",
       "      <td>0.210</td>\n",
       "      <td>Mundi Ventures, Doqling Capital Partners, Acti...</td>\n",
       "    </tr>\n",
       "    <tr>\n",
       "      <th>889</th>\n",
       "      <td>Carro</td>\n",
       "      <td>1</td>\n",
       "      <td>2021-06-14</td>\n",
       "      <td>E-commerce &amp; direct-to-consumer</td>\n",
       "      <td>NaN</td>\n",
       "      <td>Singapore</td>\n",
       "      <td>Asia</td>\n",
       "      <td>2015</td>\n",
       "      <td>0.595</td>\n",
       "      <td>SingTel Innov8, Alpha JWC Ventures, Golden Gat...</td>\n",
       "    </tr>\n",
       "    <tr>\n",
       "      <th>893</th>\n",
       "      <td>Cider</td>\n",
       "      <td>1</td>\n",
       "      <td>2021-09-02</td>\n",
       "      <td>E-commerce &amp; direct-to-consumer</td>\n",
       "      <td>NaN</td>\n",
       "      <td>Hong Kong</td>\n",
       "      <td>Asia</td>\n",
       "      <td>2020</td>\n",
       "      <td>0.140</td>\n",
       "      <td>Andreessen Horowitz, DST Global, IDG Capital</td>\n",
       "    </tr>\n",
       "    <tr>\n",
       "      <th>980</th>\n",
       "      <td>NIUM</td>\n",
       "      <td>1</td>\n",
       "      <td>2021-07-13</td>\n",
       "      <td>Fintech</td>\n",
       "      <td>NaN</td>\n",
       "      <td>Singapore</td>\n",
       "      <td>Asia</td>\n",
       "      <td>2014</td>\n",
       "      <td>0.285</td>\n",
       "      <td>Vertex Ventures SE Asia, Global Founders Capit...</td>\n",
       "    </tr>\n",
       "    <tr>\n",
       "      <th>986</th>\n",
       "      <td>ONE</td>\n",
       "      <td>1</td>\n",
       "      <td>2021-12-08</td>\n",
       "      <td>Internet software &amp; services</td>\n",
       "      <td>NaN</td>\n",
       "      <td>Singapore</td>\n",
       "      <td>Asia</td>\n",
       "      <td>2011</td>\n",
       "      <td>0.515</td>\n",
       "      <td>Temasek, Guggenheim Investments, Qatar Investm...</td>\n",
       "    </tr>\n",
       "    <tr>\n",
       "      <th>994</th>\n",
       "      <td>PatSnap</td>\n",
       "      <td>1</td>\n",
       "      <td>2021-03-16</td>\n",
       "      <td>Internet software &amp; services</td>\n",
       "      <td>NaN</td>\n",
       "      <td>Singapore</td>\n",
       "      <td>Asia</td>\n",
       "      <td>2007</td>\n",
       "      <td>0.352</td>\n",
       "      <td>Sequoia Capital China, Shunwei Capital Partner...</td>\n",
       "    </tr>\n",
       "    <tr>\n",
       "      <th>1061</th>\n",
       "      <td>WeLab</td>\n",
       "      <td>1</td>\n",
       "      <td>2017-11-08</td>\n",
       "      <td>Fintech</td>\n",
       "      <td>NaN</td>\n",
       "      <td>Hong Kong</td>\n",
       "      <td>Asia</td>\n",
       "      <td>2013</td>\n",
       "      <td>0.871</td>\n",
       "      <td>Sequoia Capital China, ING, Alibaba Entreprene...</td>\n",
       "    </tr>\n",
       "  </tbody>\n",
       "</table>\n",
       "</div>"
      ],
      "text/plain": [
       "                         company  valuation date_joined  \\\n",
       "12                           FTX         32  2021-07-20   \n",
       "170                    HyalRoute          4  2020-05-26   \n",
       "242                       Moglix          3  2021-05-17   \n",
       "251                         Trax          3  2019-07-22   \n",
       "325                  Amber Group          3  2021-06-21   \n",
       "382                    Ninja Van          2  2021-09-27   \n",
       "541   Advance Intelligence Group          2  2021-09-23   \n",
       "811                    Carousell          1  2021-09-15   \n",
       "848                   Matrixport          1  2021-06-01   \n",
       "880                     bolttech          1  2021-07-01   \n",
       "889                        Carro          1  2021-06-14   \n",
       "893                        Cider          1  2021-09-02   \n",
       "980                         NIUM          1  2021-07-13   \n",
       "986                          ONE          1  2021-12-08   \n",
       "994                      PatSnap          1  2021-03-16   \n",
       "1061                       WeLab          1  2017-11-08   \n",
       "\n",
       "                                 industry city    country      continent  \\\n",
       "12                                Fintech  NaN    Bahamas  North America   \n",
       "170           Mobile & telecommunications  NaN  Singapore           Asia   \n",
       "242       E-commerce & direct-to-consumer  NaN  Singapore           Asia   \n",
       "251               Artificial intelligence  NaN  Singapore           Asia   \n",
       "325                               Fintech  NaN  Hong Kong           Asia   \n",
       "382   Supply chain, logistics, & delivery  NaN  Singapore           Asia   \n",
       "541               Artificial intelligence  NaN  Singapore           Asia   \n",
       "811       E-commerce & direct-to-consumer  NaN  Singapore           Asia   \n",
       "848                               Fintech  NaN  Singapore           Asia   \n",
       "880                               Fintech  NaN  Singapore           Asia   \n",
       "889       E-commerce & direct-to-consumer  NaN  Singapore           Asia   \n",
       "893       E-commerce & direct-to-consumer  NaN  Hong Kong           Asia   \n",
       "980                               Fintech  NaN  Singapore           Asia   \n",
       "986          Internet software & services  NaN  Singapore           Asia   \n",
       "994          Internet software & services  NaN  Singapore           Asia   \n",
       "1061                              Fintech  NaN  Hong Kong           Asia   \n",
       "\n",
       "      year_founded  funding                                   select_investors  \n",
       "12            2018    2.000             Sequoia Capital, Thoma Bravo, Softbank  \n",
       "170           2015    0.263                                          Kuang-Chi  \n",
       "242           2015    0.471            Jungle Ventures, Accel, Venture Highway  \n",
       "251           2010    1.000  Hopu Investment Management, Boyu Capital, DC T...  \n",
       "325           2015    0.328  Tiger Global Management, Tiger Brokers, DCM Ve...  \n",
       "382           2014    0.975  B Capital Group, Monk's Hill Ventures, Dynamic...  \n",
       "541           2016    0.536        Vision Plus Capital, GSR Ventures, ZhenFund  \n",
       "811           2012    0.288  500 Global, Rakuten Ventures, Golden Gate Vent...  \n",
       "848           2019    0.100  Dragonfly Captial, Qiming Venture Partners, DS...  \n",
       "880           2018    0.210  Mundi Ventures, Doqling Capital Partners, Acti...  \n",
       "889           2015    0.595  SingTel Innov8, Alpha JWC Ventures, Golden Gat...  \n",
       "893           2020    0.140       Andreessen Horowitz, DST Global, IDG Capital  \n",
       "980           2014    0.285  Vertex Ventures SE Asia, Global Founders Capit...  \n",
       "986           2011    0.515  Temasek, Guggenheim Investments, Qatar Investm...  \n",
       "994           2007    0.352  Sequoia Capital China, Shunwei Capital Partner...  \n",
       "1061          2013    0.871  Sequoia Capital China, ING, Alibaba Entreprene...  "
      ]
     },
     "execution_count": 66,
     "metadata": {},
     "output_type": "execute_result"
    }
   ],
   "source": [
    "no_city_df = unicorn2022.loc[pd.isnull(unicorn2022.city)]\n",
    "print(no_city_df.shape) #(16, 10)\n",
    "no_city_df"
   ]
  },
  {
   "cell_type": "code",
   "execution_count": 67,
   "id": "975d7afe",
   "metadata": {},
   "outputs": [
    {
     "data": {
      "text/plain": [
       "array(['Bahamas', 'Singapore', 'Hong Kong'], dtype=object)"
      ]
     },
     "execution_count": 67,
     "metadata": {},
     "output_type": "execute_result"
    }
   ],
   "source": [
    "ctry_no_city = unicorn2022.loc[pd.isnull(unicorn2022.city)].country.unique()\n",
    "ctry_no_city"
   ]
  },
  {
   "cell_type": "code",
   "execution_count": 68,
   "id": "a184b6d7",
   "metadata": {
    "scrolled": true
   },
   "outputs": [
    {
     "data": {
      "text/html": [
       "<div>\n",
       "<style scoped>\n",
       "    .dataframe tbody tr th:only-of-type {\n",
       "        vertical-align: middle;\n",
       "    }\n",
       "\n",
       "    .dataframe tbody tr th {\n",
       "        vertical-align: top;\n",
       "    }\n",
       "\n",
       "    .dataframe thead th {\n",
       "        text-align: right;\n",
       "    }\n",
       "</style>\n",
       "<table border=\"1\" class=\"dataframe\">\n",
       "  <thead>\n",
       "    <tr style=\"text-align: right;\">\n",
       "      <th></th>\n",
       "      <th>company</th>\n",
       "      <th>valuation</th>\n",
       "      <th>date_joined</th>\n",
       "      <th>industry</th>\n",
       "      <th>city</th>\n",
       "      <th>country</th>\n",
       "      <th>continent</th>\n",
       "      <th>year_founded</th>\n",
       "      <th>funding</th>\n",
       "      <th>select_investors</th>\n",
       "    </tr>\n",
       "  </thead>\n",
       "  <tbody>\n",
       "    <tr>\n",
       "      <th>12</th>\n",
       "      <td>FTX</td>\n",
       "      <td>32</td>\n",
       "      <td>2021-07-20</td>\n",
       "      <td>Fintech</td>\n",
       "      <td>NaN</td>\n",
       "      <td>Bahamas</td>\n",
       "      <td>North America</td>\n",
       "      <td>2018</td>\n",
       "      <td>2.000</td>\n",
       "      <td>Sequoia Capital, Thoma Bravo, Softbank</td>\n",
       "    </tr>\n",
       "    <tr>\n",
       "      <th>56</th>\n",
       "      <td>Lalamove</td>\n",
       "      <td>10</td>\n",
       "      <td>2019-02-21</td>\n",
       "      <td>Supply chain, logistics, &amp; delivery</td>\n",
       "      <td>Cheung Sha Wan</td>\n",
       "      <td>Hong Kong</td>\n",
       "      <td>Asia</td>\n",
       "      <td>2013</td>\n",
       "      <td>2.000</td>\n",
       "      <td>MindWorks Ventures, Shunwei Capital Partners, ...</td>\n",
       "    </tr>\n",
       "    <tr>\n",
       "      <th>170</th>\n",
       "      <td>HyalRoute</td>\n",
       "      <td>4</td>\n",
       "      <td>2020-05-26</td>\n",
       "      <td>Mobile &amp; telecommunications</td>\n",
       "      <td>NaN</td>\n",
       "      <td>Singapore</td>\n",
       "      <td>Asia</td>\n",
       "      <td>2015</td>\n",
       "      <td>0.263</td>\n",
       "      <td>Kuang-Chi</td>\n",
       "    </tr>\n",
       "    <tr>\n",
       "      <th>242</th>\n",
       "      <td>Moglix</td>\n",
       "      <td>3</td>\n",
       "      <td>2021-05-17</td>\n",
       "      <td>E-commerce &amp; direct-to-consumer</td>\n",
       "      <td>NaN</td>\n",
       "      <td>Singapore</td>\n",
       "      <td>Asia</td>\n",
       "      <td>2015</td>\n",
       "      <td>0.471</td>\n",
       "      <td>Jungle Ventures, Accel, Venture Highway</td>\n",
       "    </tr>\n",
       "    <tr>\n",
       "      <th>251</th>\n",
       "      <td>Trax</td>\n",
       "      <td>3</td>\n",
       "      <td>2019-07-22</td>\n",
       "      <td>Artificial intelligence</td>\n",
       "      <td>NaN</td>\n",
       "      <td>Singapore</td>\n",
       "      <td>Asia</td>\n",
       "      <td>2010</td>\n",
       "      <td>1.000</td>\n",
       "      <td>Hopu Investment Management, Boyu Capital, DC T...</td>\n",
       "    </tr>\n",
       "    <tr>\n",
       "      <th>325</th>\n",
       "      <td>Amber Group</td>\n",
       "      <td>3</td>\n",
       "      <td>2021-06-21</td>\n",
       "      <td>Fintech</td>\n",
       "      <td>NaN</td>\n",
       "      <td>Hong Kong</td>\n",
       "      <td>Asia</td>\n",
       "      <td>2015</td>\n",
       "      <td>0.328</td>\n",
       "      <td>Tiger Global Management, Tiger Brokers, DCM Ve...</td>\n",
       "    </tr>\n",
       "    <tr>\n",
       "      <th>382</th>\n",
       "      <td>Ninja Van</td>\n",
       "      <td>2</td>\n",
       "      <td>2021-09-27</td>\n",
       "      <td>Supply chain, logistics, &amp; delivery</td>\n",
       "      <td>NaN</td>\n",
       "      <td>Singapore</td>\n",
       "      <td>Asia</td>\n",
       "      <td>2014</td>\n",
       "      <td>0.975</td>\n",
       "      <td>B Capital Group, Monk's Hill Ventures, Dynamic...</td>\n",
       "    </tr>\n",
       "    <tr>\n",
       "      <th>541</th>\n",
       "      <td>Advance Intelligence Group</td>\n",
       "      <td>2</td>\n",
       "      <td>2021-09-23</td>\n",
       "      <td>Artificial intelligence</td>\n",
       "      <td>NaN</td>\n",
       "      <td>Singapore</td>\n",
       "      <td>Asia</td>\n",
       "      <td>2016</td>\n",
       "      <td>0.536</td>\n",
       "      <td>Vision Plus Capital, GSR Ventures, ZhenFund</td>\n",
       "    </tr>\n",
       "    <tr>\n",
       "      <th>595</th>\n",
       "      <td>Trendy Group International</td>\n",
       "      <td>2</td>\n",
       "      <td>2012-02-13</td>\n",
       "      <td>Consumer &amp; retail</td>\n",
       "      <td>Kowloon</td>\n",
       "      <td>Hong Kong</td>\n",
       "      <td>Asia</td>\n",
       "      <td>1999</td>\n",
       "      <td>0.200</td>\n",
       "      <td>L Capital Partners</td>\n",
       "    </tr>\n",
       "    <tr>\n",
       "      <th>720</th>\n",
       "      <td>Klook</td>\n",
       "      <td>1</td>\n",
       "      <td>2018-08-07</td>\n",
       "      <td>Travel</td>\n",
       "      <td>Central</td>\n",
       "      <td>Hong Kong</td>\n",
       "      <td>Asia</td>\n",
       "      <td>2014</td>\n",
       "      <td>0.722</td>\n",
       "      <td>Sequoia Capital China, Goldman Sachs, Matrix P...</td>\n",
       "    </tr>\n",
       "    <tr>\n",
       "      <th>811</th>\n",
       "      <td>Carousell</td>\n",
       "      <td>1</td>\n",
       "      <td>2021-09-15</td>\n",
       "      <td>E-commerce &amp; direct-to-consumer</td>\n",
       "      <td>NaN</td>\n",
       "      <td>Singapore</td>\n",
       "      <td>Asia</td>\n",
       "      <td>2012</td>\n",
       "      <td>0.288</td>\n",
       "      <td>500 Global, Rakuten Ventures, Golden Gate Vent...</td>\n",
       "    </tr>\n",
       "    <tr>\n",
       "      <th>848</th>\n",
       "      <td>Matrixport</td>\n",
       "      <td>1</td>\n",
       "      <td>2021-06-01</td>\n",
       "      <td>Fintech</td>\n",
       "      <td>NaN</td>\n",
       "      <td>Singapore</td>\n",
       "      <td>Asia</td>\n",
       "      <td>2019</td>\n",
       "      <td>0.100</td>\n",
       "      <td>Dragonfly Captial, Qiming Venture Partners, DS...</td>\n",
       "    </tr>\n",
       "    <tr>\n",
       "      <th>880</th>\n",
       "      <td>bolttech</td>\n",
       "      <td>1</td>\n",
       "      <td>2021-07-01</td>\n",
       "      <td>Fintech</td>\n",
       "      <td>NaN</td>\n",
       "      <td>Singapore</td>\n",
       "      <td>Asia</td>\n",
       "      <td>2018</td>\n",
       "      <td>0.210</td>\n",
       "      <td>Mundi Ventures, Doqling Capital Partners, Acti...</td>\n",
       "    </tr>\n",
       "    <tr>\n",
       "      <th>889</th>\n",
       "      <td>Carro</td>\n",
       "      <td>1</td>\n",
       "      <td>2021-06-14</td>\n",
       "      <td>E-commerce &amp; direct-to-consumer</td>\n",
       "      <td>NaN</td>\n",
       "      <td>Singapore</td>\n",
       "      <td>Asia</td>\n",
       "      <td>2015</td>\n",
       "      <td>0.595</td>\n",
       "      <td>SingTel Innov8, Alpha JWC Ventures, Golden Gat...</td>\n",
       "    </tr>\n",
       "    <tr>\n",
       "      <th>893</th>\n",
       "      <td>Cider</td>\n",
       "      <td>1</td>\n",
       "      <td>2021-09-02</td>\n",
       "      <td>E-commerce &amp; direct-to-consumer</td>\n",
       "      <td>NaN</td>\n",
       "      <td>Hong Kong</td>\n",
       "      <td>Asia</td>\n",
       "      <td>2020</td>\n",
       "      <td>0.140</td>\n",
       "      <td>Andreessen Horowitz, DST Global, IDG Capital</td>\n",
       "    </tr>\n",
       "    <tr>\n",
       "      <th>980</th>\n",
       "      <td>NIUM</td>\n",
       "      <td>1</td>\n",
       "      <td>2021-07-13</td>\n",
       "      <td>Fintech</td>\n",
       "      <td>NaN</td>\n",
       "      <td>Singapore</td>\n",
       "      <td>Asia</td>\n",
       "      <td>2014</td>\n",
       "      <td>0.285</td>\n",
       "      <td>Vertex Ventures SE Asia, Global Founders Capit...</td>\n",
       "    </tr>\n",
       "    <tr>\n",
       "      <th>986</th>\n",
       "      <td>ONE</td>\n",
       "      <td>1</td>\n",
       "      <td>2021-12-08</td>\n",
       "      <td>Internet software &amp; services</td>\n",
       "      <td>NaN</td>\n",
       "      <td>Singapore</td>\n",
       "      <td>Asia</td>\n",
       "      <td>2011</td>\n",
       "      <td>0.515</td>\n",
       "      <td>Temasek, Guggenheim Investments, Qatar Investm...</td>\n",
       "    </tr>\n",
       "    <tr>\n",
       "      <th>994</th>\n",
       "      <td>PatSnap</td>\n",
       "      <td>1</td>\n",
       "      <td>2021-03-16</td>\n",
       "      <td>Internet software &amp; services</td>\n",
       "      <td>NaN</td>\n",
       "      <td>Singapore</td>\n",
       "      <td>Asia</td>\n",
       "      <td>2007</td>\n",
       "      <td>0.352</td>\n",
       "      <td>Sequoia Capital China, Shunwei Capital Partner...</td>\n",
       "    </tr>\n",
       "    <tr>\n",
       "      <th>1061</th>\n",
       "      <td>WeLab</td>\n",
       "      <td>1</td>\n",
       "      <td>2017-11-08</td>\n",
       "      <td>Fintech</td>\n",
       "      <td>NaN</td>\n",
       "      <td>Hong Kong</td>\n",
       "      <td>Asia</td>\n",
       "      <td>2013</td>\n",
       "      <td>0.871</td>\n",
       "      <td>Sequoia Capital China, ING, Alibaba Entreprene...</td>\n",
       "    </tr>\n",
       "  </tbody>\n",
       "</table>\n",
       "</div>"
      ],
      "text/plain": [
       "                         company  valuation date_joined  \\\n",
       "12                           FTX         32  2021-07-20   \n",
       "56                      Lalamove         10  2019-02-21   \n",
       "170                    HyalRoute          4  2020-05-26   \n",
       "242                       Moglix          3  2021-05-17   \n",
       "251                         Trax          3  2019-07-22   \n",
       "325                  Amber Group          3  2021-06-21   \n",
       "382                    Ninja Van          2  2021-09-27   \n",
       "541   Advance Intelligence Group          2  2021-09-23   \n",
       "595   Trendy Group International          2  2012-02-13   \n",
       "720                        Klook          1  2018-08-07   \n",
       "811                    Carousell          1  2021-09-15   \n",
       "848                   Matrixport          1  2021-06-01   \n",
       "880                     bolttech          1  2021-07-01   \n",
       "889                        Carro          1  2021-06-14   \n",
       "893                        Cider          1  2021-09-02   \n",
       "980                         NIUM          1  2021-07-13   \n",
       "986                          ONE          1  2021-12-08   \n",
       "994                      PatSnap          1  2021-03-16   \n",
       "1061                       WeLab          1  2017-11-08   \n",
       "\n",
       "                                 industry            city    country  \\\n",
       "12                                Fintech             NaN    Bahamas   \n",
       "56    Supply chain, logistics, & delivery  Cheung Sha Wan  Hong Kong   \n",
       "170           Mobile & telecommunications             NaN  Singapore   \n",
       "242       E-commerce & direct-to-consumer             NaN  Singapore   \n",
       "251               Artificial intelligence             NaN  Singapore   \n",
       "325                               Fintech             NaN  Hong Kong   \n",
       "382   Supply chain, logistics, & delivery             NaN  Singapore   \n",
       "541               Artificial intelligence             NaN  Singapore   \n",
       "595                     Consumer & retail         Kowloon  Hong Kong   \n",
       "720                                Travel         Central  Hong Kong   \n",
       "811       E-commerce & direct-to-consumer             NaN  Singapore   \n",
       "848                               Fintech             NaN  Singapore   \n",
       "880                               Fintech             NaN  Singapore   \n",
       "889       E-commerce & direct-to-consumer             NaN  Singapore   \n",
       "893       E-commerce & direct-to-consumer             NaN  Hong Kong   \n",
       "980                               Fintech             NaN  Singapore   \n",
       "986          Internet software & services             NaN  Singapore   \n",
       "994          Internet software & services             NaN  Singapore   \n",
       "1061                              Fintech             NaN  Hong Kong   \n",
       "\n",
       "          continent  year_founded  funding  \\\n",
       "12    North America          2018    2.000   \n",
       "56             Asia          2013    2.000   \n",
       "170            Asia          2015    0.263   \n",
       "242            Asia          2015    0.471   \n",
       "251            Asia          2010    1.000   \n",
       "325            Asia          2015    0.328   \n",
       "382            Asia          2014    0.975   \n",
       "541            Asia          2016    0.536   \n",
       "595            Asia          1999    0.200   \n",
       "720            Asia          2014    0.722   \n",
       "811            Asia          2012    0.288   \n",
       "848            Asia          2019    0.100   \n",
       "880            Asia          2018    0.210   \n",
       "889            Asia          2015    0.595   \n",
       "893            Asia          2020    0.140   \n",
       "980            Asia          2014    0.285   \n",
       "986            Asia          2011    0.515   \n",
       "994            Asia          2007    0.352   \n",
       "1061           Asia          2013    0.871   \n",
       "\n",
       "                                       select_investors  \n",
       "12               Sequoia Capital, Thoma Bravo, Softbank  \n",
       "56    MindWorks Ventures, Shunwei Capital Partners, ...  \n",
       "170                                           Kuang-Chi  \n",
       "242             Jungle Ventures, Accel, Venture Highway  \n",
       "251   Hopu Investment Management, Boyu Capital, DC T...  \n",
       "325   Tiger Global Management, Tiger Brokers, DCM Ve...  \n",
       "382   B Capital Group, Monk's Hill Ventures, Dynamic...  \n",
       "541         Vision Plus Capital, GSR Ventures, ZhenFund  \n",
       "595                                  L Capital Partners  \n",
       "720   Sequoia Capital China, Goldman Sachs, Matrix P...  \n",
       "811   500 Global, Rakuten Ventures, Golden Gate Vent...  \n",
       "848   Dragonfly Captial, Qiming Venture Partners, DS...  \n",
       "880   Mundi Ventures, Doqling Capital Partners, Acti...  \n",
       "889   SingTel Innov8, Alpha JWC Ventures, Golden Gat...  \n",
       "893        Andreessen Horowitz, DST Global, IDG Capital  \n",
       "980   Vertex Ventures SE Asia, Global Founders Capit...  \n",
       "986   Temasek, Guggenheim Investments, Qatar Investm...  \n",
       "994   Sequoia Capital China, Shunwei Capital Partner...  \n",
       "1061  Sequoia Capital China, ING, Alibaba Entreprene...  "
      ]
     },
     "execution_count": 68,
     "metadata": {},
     "output_type": "execute_result"
    }
   ],
   "source": [
    "# check if all of these coutries have no city\n",
    "unicorn2022.loc[unicorn2022.country.isin(list(ctry_no_city))]"
   ]
  },
  {
   "cell_type": "code",
   "execution_count": 69,
   "id": "92fe26f3",
   "metadata": {},
   "outputs": [],
   "source": [
    "# By inspection, need to conduct mannual corrections:"
   ]
  },
  {
   "cell_type": "code",
   "execution_count": 70,
   "id": "6b7636c5",
   "metadata": {},
   "outputs": [],
   "source": [
    "# 1.mannual checked city of FTX in Bahamas：Nassau\n",
    "unicorn2022.loc[ unicorn2022.country == 'Bahamas', 'city' ] = 'Nassau'"
   ]
  },
  {
   "cell_type": "code",
   "execution_count": 71,
   "id": "138ca94a",
   "metadata": {},
   "outputs": [],
   "source": [
    "# 2. Hong Kong\n",
    "unicorn2022.loc[ unicorn2022.country == 'Hong Kong', 'city' ] = 'Hong Kong'"
   ]
  },
  {
   "cell_type": "code",
   "execution_count": 72,
   "id": "a7bdce17",
   "metadata": {},
   "outputs": [],
   "source": [
    "# 3. Singapore\n",
    "unicorn2022.loc[ unicorn2022.country == 'Singapore', 'city' ] = 'Singapore'"
   ]
  },
  {
   "cell_type": "code",
   "execution_count": 73,
   "id": "99f094d5",
   "metadata": {
    "scrolled": true
   },
   "outputs": [
    {
     "data": {
      "text/html": [
       "<div>\n",
       "<style scoped>\n",
       "    .dataframe tbody tr th:only-of-type {\n",
       "        vertical-align: middle;\n",
       "    }\n",
       "\n",
       "    .dataframe tbody tr th {\n",
       "        vertical-align: top;\n",
       "    }\n",
       "\n",
       "    .dataframe thead th {\n",
       "        text-align: right;\n",
       "    }\n",
       "</style>\n",
       "<table border=\"1\" class=\"dataframe\">\n",
       "  <thead>\n",
       "    <tr style=\"text-align: right;\">\n",
       "      <th></th>\n",
       "      <th>company</th>\n",
       "      <th>valuation</th>\n",
       "      <th>date_joined</th>\n",
       "      <th>industry</th>\n",
       "      <th>city</th>\n",
       "      <th>country</th>\n",
       "      <th>continent</th>\n",
       "      <th>year_founded</th>\n",
       "      <th>funding</th>\n",
       "      <th>select_investors</th>\n",
       "    </tr>\n",
       "  </thead>\n",
       "  <tbody>\n",
       "    <tr>\n",
       "      <th>12</th>\n",
       "      <td>FTX</td>\n",
       "      <td>32</td>\n",
       "      <td>2021-07-20</td>\n",
       "      <td>Fintech</td>\n",
       "      <td>Nassau</td>\n",
       "      <td>Bahamas</td>\n",
       "      <td>North America</td>\n",
       "      <td>2018</td>\n",
       "      <td>2.000</td>\n",
       "      <td>Sequoia Capital, Thoma Bravo, Softbank</td>\n",
       "    </tr>\n",
       "    <tr>\n",
       "      <th>56</th>\n",
       "      <td>Lalamove</td>\n",
       "      <td>10</td>\n",
       "      <td>2019-02-21</td>\n",
       "      <td>Supply chain, logistics, &amp; delivery</td>\n",
       "      <td>Hong Kong</td>\n",
       "      <td>Hong Kong</td>\n",
       "      <td>Asia</td>\n",
       "      <td>2013</td>\n",
       "      <td>2.000</td>\n",
       "      <td>MindWorks Ventures, Shunwei Capital Partners, ...</td>\n",
       "    </tr>\n",
       "    <tr>\n",
       "      <th>170</th>\n",
       "      <td>HyalRoute</td>\n",
       "      <td>4</td>\n",
       "      <td>2020-05-26</td>\n",
       "      <td>Mobile &amp; telecommunications</td>\n",
       "      <td>Singapore</td>\n",
       "      <td>Singapore</td>\n",
       "      <td>Asia</td>\n",
       "      <td>2015</td>\n",
       "      <td>0.263</td>\n",
       "      <td>Kuang-Chi</td>\n",
       "    </tr>\n",
       "    <tr>\n",
       "      <th>242</th>\n",
       "      <td>Moglix</td>\n",
       "      <td>3</td>\n",
       "      <td>2021-05-17</td>\n",
       "      <td>E-commerce &amp; direct-to-consumer</td>\n",
       "      <td>Singapore</td>\n",
       "      <td>Singapore</td>\n",
       "      <td>Asia</td>\n",
       "      <td>2015</td>\n",
       "      <td>0.471</td>\n",
       "      <td>Jungle Ventures, Accel, Venture Highway</td>\n",
       "    </tr>\n",
       "    <tr>\n",
       "      <th>251</th>\n",
       "      <td>Trax</td>\n",
       "      <td>3</td>\n",
       "      <td>2019-07-22</td>\n",
       "      <td>Artificial intelligence</td>\n",
       "      <td>Singapore</td>\n",
       "      <td>Singapore</td>\n",
       "      <td>Asia</td>\n",
       "      <td>2010</td>\n",
       "      <td>1.000</td>\n",
       "      <td>Hopu Investment Management, Boyu Capital, DC T...</td>\n",
       "    </tr>\n",
       "    <tr>\n",
       "      <th>325</th>\n",
       "      <td>Amber Group</td>\n",
       "      <td>3</td>\n",
       "      <td>2021-06-21</td>\n",
       "      <td>Fintech</td>\n",
       "      <td>Hong Kong</td>\n",
       "      <td>Hong Kong</td>\n",
       "      <td>Asia</td>\n",
       "      <td>2015</td>\n",
       "      <td>0.328</td>\n",
       "      <td>Tiger Global Management, Tiger Brokers, DCM Ve...</td>\n",
       "    </tr>\n",
       "    <tr>\n",
       "      <th>382</th>\n",
       "      <td>Ninja Van</td>\n",
       "      <td>2</td>\n",
       "      <td>2021-09-27</td>\n",
       "      <td>Supply chain, logistics, &amp; delivery</td>\n",
       "      <td>Singapore</td>\n",
       "      <td>Singapore</td>\n",
       "      <td>Asia</td>\n",
       "      <td>2014</td>\n",
       "      <td>0.975</td>\n",
       "      <td>B Capital Group, Monk's Hill Ventures, Dynamic...</td>\n",
       "    </tr>\n",
       "    <tr>\n",
       "      <th>541</th>\n",
       "      <td>Advance Intelligence Group</td>\n",
       "      <td>2</td>\n",
       "      <td>2021-09-23</td>\n",
       "      <td>Artificial intelligence</td>\n",
       "      <td>Singapore</td>\n",
       "      <td>Singapore</td>\n",
       "      <td>Asia</td>\n",
       "      <td>2016</td>\n",
       "      <td>0.536</td>\n",
       "      <td>Vision Plus Capital, GSR Ventures, ZhenFund</td>\n",
       "    </tr>\n",
       "    <tr>\n",
       "      <th>595</th>\n",
       "      <td>Trendy Group International</td>\n",
       "      <td>2</td>\n",
       "      <td>2012-02-13</td>\n",
       "      <td>Consumer &amp; retail</td>\n",
       "      <td>Hong Kong</td>\n",
       "      <td>Hong Kong</td>\n",
       "      <td>Asia</td>\n",
       "      <td>1999</td>\n",
       "      <td>0.200</td>\n",
       "      <td>L Capital Partners</td>\n",
       "    </tr>\n",
       "    <tr>\n",
       "      <th>720</th>\n",
       "      <td>Klook</td>\n",
       "      <td>1</td>\n",
       "      <td>2018-08-07</td>\n",
       "      <td>Travel</td>\n",
       "      <td>Hong Kong</td>\n",
       "      <td>Hong Kong</td>\n",
       "      <td>Asia</td>\n",
       "      <td>2014</td>\n",
       "      <td>0.722</td>\n",
       "      <td>Sequoia Capital China, Goldman Sachs, Matrix P...</td>\n",
       "    </tr>\n",
       "    <tr>\n",
       "      <th>811</th>\n",
       "      <td>Carousell</td>\n",
       "      <td>1</td>\n",
       "      <td>2021-09-15</td>\n",
       "      <td>E-commerce &amp; direct-to-consumer</td>\n",
       "      <td>Singapore</td>\n",
       "      <td>Singapore</td>\n",
       "      <td>Asia</td>\n",
       "      <td>2012</td>\n",
       "      <td>0.288</td>\n",
       "      <td>500 Global, Rakuten Ventures, Golden Gate Vent...</td>\n",
       "    </tr>\n",
       "    <tr>\n",
       "      <th>848</th>\n",
       "      <td>Matrixport</td>\n",
       "      <td>1</td>\n",
       "      <td>2021-06-01</td>\n",
       "      <td>Fintech</td>\n",
       "      <td>Singapore</td>\n",
       "      <td>Singapore</td>\n",
       "      <td>Asia</td>\n",
       "      <td>2019</td>\n",
       "      <td>0.100</td>\n",
       "      <td>Dragonfly Captial, Qiming Venture Partners, DS...</td>\n",
       "    </tr>\n",
       "    <tr>\n",
       "      <th>880</th>\n",
       "      <td>bolttech</td>\n",
       "      <td>1</td>\n",
       "      <td>2021-07-01</td>\n",
       "      <td>Fintech</td>\n",
       "      <td>Singapore</td>\n",
       "      <td>Singapore</td>\n",
       "      <td>Asia</td>\n",
       "      <td>2018</td>\n",
       "      <td>0.210</td>\n",
       "      <td>Mundi Ventures, Doqling Capital Partners, Acti...</td>\n",
       "    </tr>\n",
       "    <tr>\n",
       "      <th>889</th>\n",
       "      <td>Carro</td>\n",
       "      <td>1</td>\n",
       "      <td>2021-06-14</td>\n",
       "      <td>E-commerce &amp; direct-to-consumer</td>\n",
       "      <td>Singapore</td>\n",
       "      <td>Singapore</td>\n",
       "      <td>Asia</td>\n",
       "      <td>2015</td>\n",
       "      <td>0.595</td>\n",
       "      <td>SingTel Innov8, Alpha JWC Ventures, Golden Gat...</td>\n",
       "    </tr>\n",
       "    <tr>\n",
       "      <th>893</th>\n",
       "      <td>Cider</td>\n",
       "      <td>1</td>\n",
       "      <td>2021-09-02</td>\n",
       "      <td>E-commerce &amp; direct-to-consumer</td>\n",
       "      <td>Hong Kong</td>\n",
       "      <td>Hong Kong</td>\n",
       "      <td>Asia</td>\n",
       "      <td>2020</td>\n",
       "      <td>0.140</td>\n",
       "      <td>Andreessen Horowitz, DST Global, IDG Capital</td>\n",
       "    </tr>\n",
       "    <tr>\n",
       "      <th>980</th>\n",
       "      <td>NIUM</td>\n",
       "      <td>1</td>\n",
       "      <td>2021-07-13</td>\n",
       "      <td>Fintech</td>\n",
       "      <td>Singapore</td>\n",
       "      <td>Singapore</td>\n",
       "      <td>Asia</td>\n",
       "      <td>2014</td>\n",
       "      <td>0.285</td>\n",
       "      <td>Vertex Ventures SE Asia, Global Founders Capit...</td>\n",
       "    </tr>\n",
       "    <tr>\n",
       "      <th>986</th>\n",
       "      <td>ONE</td>\n",
       "      <td>1</td>\n",
       "      <td>2021-12-08</td>\n",
       "      <td>Internet software &amp; services</td>\n",
       "      <td>Singapore</td>\n",
       "      <td>Singapore</td>\n",
       "      <td>Asia</td>\n",
       "      <td>2011</td>\n",
       "      <td>0.515</td>\n",
       "      <td>Temasek, Guggenheim Investments, Qatar Investm...</td>\n",
       "    </tr>\n",
       "    <tr>\n",
       "      <th>994</th>\n",
       "      <td>PatSnap</td>\n",
       "      <td>1</td>\n",
       "      <td>2021-03-16</td>\n",
       "      <td>Internet software &amp; services</td>\n",
       "      <td>Singapore</td>\n",
       "      <td>Singapore</td>\n",
       "      <td>Asia</td>\n",
       "      <td>2007</td>\n",
       "      <td>0.352</td>\n",
       "      <td>Sequoia Capital China, Shunwei Capital Partner...</td>\n",
       "    </tr>\n",
       "    <tr>\n",
       "      <th>1061</th>\n",
       "      <td>WeLab</td>\n",
       "      <td>1</td>\n",
       "      <td>2017-11-08</td>\n",
       "      <td>Fintech</td>\n",
       "      <td>Hong Kong</td>\n",
       "      <td>Hong Kong</td>\n",
       "      <td>Asia</td>\n",
       "      <td>2013</td>\n",
       "      <td>0.871</td>\n",
       "      <td>Sequoia Capital China, ING, Alibaba Entreprene...</td>\n",
       "    </tr>\n",
       "  </tbody>\n",
       "</table>\n",
       "</div>"
      ],
      "text/plain": [
       "                         company  valuation date_joined  \\\n",
       "12                           FTX         32  2021-07-20   \n",
       "56                      Lalamove         10  2019-02-21   \n",
       "170                    HyalRoute          4  2020-05-26   \n",
       "242                       Moglix          3  2021-05-17   \n",
       "251                         Trax          3  2019-07-22   \n",
       "325                  Amber Group          3  2021-06-21   \n",
       "382                    Ninja Van          2  2021-09-27   \n",
       "541   Advance Intelligence Group          2  2021-09-23   \n",
       "595   Trendy Group International          2  2012-02-13   \n",
       "720                        Klook          1  2018-08-07   \n",
       "811                    Carousell          1  2021-09-15   \n",
       "848                   Matrixport          1  2021-06-01   \n",
       "880                     bolttech          1  2021-07-01   \n",
       "889                        Carro          1  2021-06-14   \n",
       "893                        Cider          1  2021-09-02   \n",
       "980                         NIUM          1  2021-07-13   \n",
       "986                          ONE          1  2021-12-08   \n",
       "994                      PatSnap          1  2021-03-16   \n",
       "1061                       WeLab          1  2017-11-08   \n",
       "\n",
       "                                 industry       city    country  \\\n",
       "12                                Fintech     Nassau    Bahamas   \n",
       "56    Supply chain, logistics, & delivery  Hong Kong  Hong Kong   \n",
       "170           Mobile & telecommunications  Singapore  Singapore   \n",
       "242       E-commerce & direct-to-consumer  Singapore  Singapore   \n",
       "251               Artificial intelligence  Singapore  Singapore   \n",
       "325                               Fintech  Hong Kong  Hong Kong   \n",
       "382   Supply chain, logistics, & delivery  Singapore  Singapore   \n",
       "541               Artificial intelligence  Singapore  Singapore   \n",
       "595                     Consumer & retail  Hong Kong  Hong Kong   \n",
       "720                                Travel  Hong Kong  Hong Kong   \n",
       "811       E-commerce & direct-to-consumer  Singapore  Singapore   \n",
       "848                               Fintech  Singapore  Singapore   \n",
       "880                               Fintech  Singapore  Singapore   \n",
       "889       E-commerce & direct-to-consumer  Singapore  Singapore   \n",
       "893       E-commerce & direct-to-consumer  Hong Kong  Hong Kong   \n",
       "980                               Fintech  Singapore  Singapore   \n",
       "986          Internet software & services  Singapore  Singapore   \n",
       "994          Internet software & services  Singapore  Singapore   \n",
       "1061                              Fintech  Hong Kong  Hong Kong   \n",
       "\n",
       "          continent  year_founded  funding  \\\n",
       "12    North America          2018    2.000   \n",
       "56             Asia          2013    2.000   \n",
       "170            Asia          2015    0.263   \n",
       "242            Asia          2015    0.471   \n",
       "251            Asia          2010    1.000   \n",
       "325            Asia          2015    0.328   \n",
       "382            Asia          2014    0.975   \n",
       "541            Asia          2016    0.536   \n",
       "595            Asia          1999    0.200   \n",
       "720            Asia          2014    0.722   \n",
       "811            Asia          2012    0.288   \n",
       "848            Asia          2019    0.100   \n",
       "880            Asia          2018    0.210   \n",
       "889            Asia          2015    0.595   \n",
       "893            Asia          2020    0.140   \n",
       "980            Asia          2014    0.285   \n",
       "986            Asia          2011    0.515   \n",
       "994            Asia          2007    0.352   \n",
       "1061           Asia          2013    0.871   \n",
       "\n",
       "                                       select_investors  \n",
       "12               Sequoia Capital, Thoma Bravo, Softbank  \n",
       "56    MindWorks Ventures, Shunwei Capital Partners, ...  \n",
       "170                                           Kuang-Chi  \n",
       "242             Jungle Ventures, Accel, Venture Highway  \n",
       "251   Hopu Investment Management, Boyu Capital, DC T...  \n",
       "325   Tiger Global Management, Tiger Brokers, DCM Ve...  \n",
       "382   B Capital Group, Monk's Hill Ventures, Dynamic...  \n",
       "541         Vision Plus Capital, GSR Ventures, ZhenFund  \n",
       "595                                  L Capital Partners  \n",
       "720   Sequoia Capital China, Goldman Sachs, Matrix P...  \n",
       "811   500 Global, Rakuten Ventures, Golden Gate Vent...  \n",
       "848   Dragonfly Captial, Qiming Venture Partners, DS...  \n",
       "880   Mundi Ventures, Doqling Capital Partners, Acti...  \n",
       "889   SingTel Innov8, Alpha JWC Ventures, Golden Gat...  \n",
       "893        Andreessen Horowitz, DST Global, IDG Capital  \n",
       "980   Vertex Ventures SE Asia, Global Founders Capit...  \n",
       "986   Temasek, Guggenheim Investments, Qatar Investm...  \n",
       "994   Sequoia Capital China, Shunwei Capital Partner...  \n",
       "1061  Sequoia Capital China, ING, Alibaba Entreprene...  "
      ]
     },
     "execution_count": 73,
     "metadata": {},
     "output_type": "execute_result"
    }
   ],
   "source": [
    "# check result\n",
    "unicorn2022.loc[unicorn2022.country.isin(list(ctry_no_city))]"
   ]
  },
  {
   "cell_type": "markdown",
   "id": "d065408d",
   "metadata": {},
   "source": [
    "##### - funding"
   ]
  },
  {
   "cell_type": "code",
   "execution_count": 74,
   "id": "7cb1ea65",
   "metadata": {},
   "outputs": [
    {
     "data": {
      "text/html": [
       "<div>\n",
       "<style scoped>\n",
       "    .dataframe tbody tr th:only-of-type {\n",
       "        vertical-align: middle;\n",
       "    }\n",
       "\n",
       "    .dataframe tbody tr th {\n",
       "        vertical-align: top;\n",
       "    }\n",
       "\n",
       "    .dataframe thead th {\n",
       "        text-align: right;\n",
       "    }\n",
       "</style>\n",
       "<table border=\"1\" class=\"dataframe\">\n",
       "  <thead>\n",
       "    <tr style=\"text-align: right;\">\n",
       "      <th></th>\n",
       "      <th>company</th>\n",
       "      <th>valuation</th>\n",
       "      <th>date_joined</th>\n",
       "      <th>industry</th>\n",
       "      <th>city</th>\n",
       "      <th>country</th>\n",
       "      <th>continent</th>\n",
       "      <th>year_founded</th>\n",
       "      <th>funding</th>\n",
       "      <th>select_investors</th>\n",
       "    </tr>\n",
       "  </thead>\n",
       "  <tbody>\n",
       "    <tr>\n",
       "      <th>215</th>\n",
       "      <td>SSENSE</td>\n",
       "      <td>4</td>\n",
       "      <td>2021-06-08</td>\n",
       "      <td>E-commerce &amp; direct-to-consumer</td>\n",
       "      <td>Montreal</td>\n",
       "      <td>Canada</td>\n",
       "      <td>North America</td>\n",
       "      <td>2003</td>\n",
       "      <td>NaN</td>\n",
       "      <td>Sequoia Capital</td>\n",
       "    </tr>\n",
       "    <tr>\n",
       "      <th>424</th>\n",
       "      <td>Uplight</td>\n",
       "      <td>2</td>\n",
       "      <td>2021-03-03</td>\n",
       "      <td>Other</td>\n",
       "      <td>Boulder</td>\n",
       "      <td>United States</td>\n",
       "      <td>North America</td>\n",
       "      <td>2019</td>\n",
       "      <td>NaN</td>\n",
       "      <td>Rubicon Technology Partners, Max Ventures, Inc...</td>\n",
       "    </tr>\n",
       "    <tr>\n",
       "      <th>567</th>\n",
       "      <td>ISN</td>\n",
       "      <td>2</td>\n",
       "      <td>2020-12-17</td>\n",
       "      <td>Supply chain, logistics, &amp; delivery</td>\n",
       "      <td>Dallas</td>\n",
       "      <td>United States</td>\n",
       "      <td>North America</td>\n",
       "      <td>2001</td>\n",
       "      <td>NaN</td>\n",
       "      <td>Blackstone</td>\n",
       "    </tr>\n",
       "    <tr>\n",
       "      <th>639</th>\n",
       "      <td>SITECH DEV</td>\n",
       "      <td>1</td>\n",
       "      <td>2019-05-16</td>\n",
       "      <td>Other</td>\n",
       "      <td>Guiyang</td>\n",
       "      <td>China</td>\n",
       "      <td>Asia</td>\n",
       "      <td>2017</td>\n",
       "      <td>NaN</td>\n",
       "      <td>China Prosperity Capital</td>\n",
       "    </tr>\n",
       "    <tr>\n",
       "      <th>651</th>\n",
       "      <td>Xiaobing</td>\n",
       "      <td>1</td>\n",
       "      <td>2021-07-12</td>\n",
       "      <td>Fintech</td>\n",
       "      <td>Beijing</td>\n",
       "      <td>China</td>\n",
       "      <td>Asia</td>\n",
       "      <td>2020</td>\n",
       "      <td>NaN</td>\n",
       "      <td>NetEase Capital, Northern Light Venture Capita...</td>\n",
       "    </tr>\n",
       "    <tr>\n",
       "      <th>717</th>\n",
       "      <td>Veepee</td>\n",
       "      <td>1</td>\n",
       "      <td>2007-07-02</td>\n",
       "      <td>E-commerce &amp; direct-to-consumer</td>\n",
       "      <td>La Plaine Saint-Denis</td>\n",
       "      <td>France</td>\n",
       "      <td>Europe</td>\n",
       "      <td>2001</td>\n",
       "      <td>NaN</td>\n",
       "      <td>Summit Partners, Qatar Holding</td>\n",
       "    </tr>\n",
       "    <tr>\n",
       "      <th>733</th>\n",
       "      <td>DistroKid</td>\n",
       "      <td>1</td>\n",
       "      <td>2021-08-16</td>\n",
       "      <td>Internet software &amp; services</td>\n",
       "      <td>New York</td>\n",
       "      <td>United States</td>\n",
       "      <td>North America</td>\n",
       "      <td>2013</td>\n",
       "      <td>NaN</td>\n",
       "      <td>Insight Partners, Silversmith Capital Partners...</td>\n",
       "    </tr>\n",
       "    <tr>\n",
       "      <th>866</th>\n",
       "      <td>Assembly</td>\n",
       "      <td>1</td>\n",
       "      <td>2021-09-21</td>\n",
       "      <td>Internet software &amp; services</td>\n",
       "      <td>Culver City</td>\n",
       "      <td>United States</td>\n",
       "      <td>North America</td>\n",
       "      <td>2019</td>\n",
       "      <td>NaN</td>\n",
       "      <td>Advent International, PSG, Providence Equity P...</td>\n",
       "    </tr>\n",
       "    <tr>\n",
       "      <th>890</th>\n",
       "      <td>Carson Group</td>\n",
       "      <td>1</td>\n",
       "      <td>2021-07-14</td>\n",
       "      <td>Fintech</td>\n",
       "      <td>Lincoln</td>\n",
       "      <td>United States</td>\n",
       "      <td>North America</td>\n",
       "      <td>2012</td>\n",
       "      <td>NaN</td>\n",
       "      <td>Bain Capital</td>\n",
       "    </tr>\n",
       "    <tr>\n",
       "      <th>945</th>\n",
       "      <td>Iodine Software</td>\n",
       "      <td>1</td>\n",
       "      <td>2021-12-01</td>\n",
       "      <td>Data management &amp; analytics</td>\n",
       "      <td>Austin</td>\n",
       "      <td>United States</td>\n",
       "      <td>North America</td>\n",
       "      <td>2010</td>\n",
       "      <td>NaN</td>\n",
       "      <td>Advent International, Bain Capital Ventures, S...</td>\n",
       "    </tr>\n",
       "    <tr>\n",
       "      <th>947</th>\n",
       "      <td>Kendra Scott</td>\n",
       "      <td>1</td>\n",
       "      <td>2016-12-21</td>\n",
       "      <td>Consumer &amp; retail</td>\n",
       "      <td>Austin</td>\n",
       "      <td>United States</td>\n",
       "      <td>North America</td>\n",
       "      <td>2002</td>\n",
       "      <td>NaN</td>\n",
       "      <td>Berkshire Partners, Norwest Venture Partners</td>\n",
       "    </tr>\n",
       "    <tr>\n",
       "      <th>1002</th>\n",
       "      <td>Poizon</td>\n",
       "      <td>1</td>\n",
       "      <td>2019-04-29</td>\n",
       "      <td>Mobile &amp; telecommunications</td>\n",
       "      <td>Shanghai</td>\n",
       "      <td>China</td>\n",
       "      <td>Asia</td>\n",
       "      <td>2015</td>\n",
       "      <td>NaN</td>\n",
       "      <td>DST Global, Sequoia Capital China, Gaorong Cap...</td>\n",
       "    </tr>\n",
       "  </tbody>\n",
       "</table>\n",
       "</div>"
      ],
      "text/plain": [
       "              company  valuation date_joined  \\\n",
       "215            SSENSE          4  2021-06-08   \n",
       "424           Uplight          2  2021-03-03   \n",
       "567               ISN          2  2020-12-17   \n",
       "639        SITECH DEV          1  2019-05-16   \n",
       "651          Xiaobing          1  2021-07-12   \n",
       "717            Veepee          1  2007-07-02   \n",
       "733         DistroKid          1  2021-08-16   \n",
       "866          Assembly          1  2021-09-21   \n",
       "890      Carson Group          1  2021-07-14   \n",
       "945   Iodine Software          1  2021-12-01   \n",
       "947      Kendra Scott          1  2016-12-21   \n",
       "1002           Poizon          1  2019-04-29   \n",
       "\n",
       "                                 industry                   city  \\\n",
       "215       E-commerce & direct-to-consumer               Montreal   \n",
       "424                                 Other                Boulder   \n",
       "567   Supply chain, logistics, & delivery                 Dallas   \n",
       "639                                 Other                Guiyang   \n",
       "651                               Fintech                Beijing   \n",
       "717       E-commerce & direct-to-consumer  La Plaine Saint-Denis   \n",
       "733          Internet software & services               New York   \n",
       "866          Internet software & services            Culver City   \n",
       "890                               Fintech                Lincoln   \n",
       "945           Data management & analytics                 Austin   \n",
       "947                     Consumer & retail                 Austin   \n",
       "1002          Mobile & telecommunications               Shanghai   \n",
       "\n",
       "            country      continent  year_founded  funding  \\\n",
       "215          Canada  North America          2003      NaN   \n",
       "424   United States  North America          2019      NaN   \n",
       "567   United States  North America          2001      NaN   \n",
       "639           China           Asia          2017      NaN   \n",
       "651           China           Asia          2020      NaN   \n",
       "717          France         Europe          2001      NaN   \n",
       "733   United States  North America          2013      NaN   \n",
       "866   United States  North America          2019      NaN   \n",
       "890   United States  North America          2012      NaN   \n",
       "945   United States  North America          2010      NaN   \n",
       "947   United States  North America          2002      NaN   \n",
       "1002          China           Asia          2015      NaN   \n",
       "\n",
       "                                       select_investors  \n",
       "215                                     Sequoia Capital  \n",
       "424   Rubicon Technology Partners, Max Ventures, Inc...  \n",
       "567                                          Blackstone  \n",
       "639                            China Prosperity Capital  \n",
       "651   NetEase Capital, Northern Light Venture Capita...  \n",
       "717                      Summit Partners, Qatar Holding  \n",
       "733   Insight Partners, Silversmith Capital Partners...  \n",
       "866   Advent International, PSG, Providence Equity P...  \n",
       "890                                        Bain Capital  \n",
       "945   Advent International, Bain Capital Ventures, S...  \n",
       "947        Berkshire Partners, Norwest Venture Partners  \n",
       "1002  DST Global, Sequoia Capital China, Gaorong Cap...  "
      ]
     },
     "execution_count": 74,
     "metadata": {},
     "output_type": "execute_result"
    }
   ],
   "source": [
    "unicorn2022.loc[unicorn2022.funding.isna()]"
   ]
  },
  {
   "cell_type": "code",
   "execution_count": 75,
   "id": "65ff77a2",
   "metadata": {},
   "outputs": [],
   "source": [
    "# No processing conducted as this analysis do not need the funding feature."
   ]
  },
  {
   "cell_type": "markdown",
   "id": "71a45838",
   "metadata": {},
   "source": [
    "**5. save a copy of cleaned data**"
   ]
  },
  {
   "cell_type": "code",
   "execution_count": 76,
   "id": "0738b9a1",
   "metadata": {},
   "outputs": [],
   "source": [
    "# save a copy of cleaned data\n",
    "#unicorn2022_cleaned = unicorn2022.copy()\n",
    "#unicorn2022.to_csv('data/Unicorn_Companies_cleaned.csv')"
   ]
  },
  {
   "cell_type": "code",
   "execution_count": 77,
   "id": "a79a1fd4",
   "metadata": {},
   "outputs": [
    {
     "data": {
      "text/plain": [
       "(1074, 10)"
      ]
     },
     "execution_count": 77,
     "metadata": {},
     "output_type": "execute_result"
    }
   ],
   "source": [
    "unicorn2022.shape # (1074, 10)"
   ]
  },
  {
   "cell_type": "markdown",
   "id": "0fbe7d2f",
   "metadata": {},
   "source": [
    "# Step 2: Analysis"
   ]
  },
  {
   "cell_type": "code",
   "execution_count": 78,
   "id": "2d1b706e",
   "metadata": {
    "scrolled": false
   },
   "outputs": [
    {
     "data": {
      "text/plain": [
       "Index(['company', 'valuation', 'date_joined', 'industry', 'city', 'country',\n",
       "       'continent', 'year_founded', 'funding', 'select_investors'],\n",
       "      dtype='object')"
      ]
     },
     "execution_count": 78,
     "metadata": {},
     "output_type": "execute_result"
    }
   ],
   "source": [
    "unicorn2022.columns"
   ]
  },
  {
   "cell_type": "markdown",
   "id": "95b25226",
   "metadata": {},
   "source": [
    "## I. Features of Unicorns"
   ]
  },
  {
   "cell_type": "markdown",
   "id": "4269e8a8",
   "metadata": {},
   "source": [
    "### Add features"
   ]
  },
  {
   "cell_type": "code",
   "execution_count": 79,
   "id": "fa5b7cb6",
   "metadata": {},
   "outputs": [
    {
     "data": {
      "text/plain": [
       "company                     object\n",
       "valuation                    int64\n",
       "date_joined         datetime64[ns]\n",
       "industry                    object\n",
       "city                        object\n",
       "country                     object\n",
       "continent                   object\n",
       "year_founded                 int64\n",
       "funding                    float64\n",
       "select_investors            object\n",
       "dtype: object"
      ]
     },
     "execution_count": 79,
     "metadata": {},
     "output_type": "execute_result"
    }
   ],
   "source": [
    "unicorn2022.dtypes"
   ]
  },
  {
   "cell_type": "markdown",
   "id": "39ac1cab",
   "metadata": {},
   "source": [
    "**(1) year_joined**"
   ]
  },
  {
   "cell_type": "code",
   "execution_count": 80,
   "id": "74815bd7",
   "metadata": {},
   "outputs": [
    {
     "data": {
      "text/plain": [
       "0    2017\n",
       "1    2012\n",
       "2    2018\n",
       "3    2014\n",
       "4    2011\n",
       "Name: year_joined, dtype: int64"
      ]
     },
     "execution_count": 80,
     "metadata": {},
     "output_type": "execute_result"
    }
   ],
   "source": [
    "unicorn2022['year_joined'] = pd.to_datetime(unicorn2022.date_joined).dt.year\n",
    "unicorn2022['year_joined'].head()"
   ]
  },
  {
   "cell_type": "markdown",
   "id": "1ce54bcf",
   "metadata": {},
   "source": [
    "**(2) year_current**"
   ]
  },
  {
   "cell_type": "code",
   "execution_count": 81,
   "id": "f63e7737",
   "metadata": {},
   "outputs": [
    {
     "data": {
      "text/plain": [
       "0    2022\n",
       "1    2022\n",
       "2    2022\n",
       "3    2022\n",
       "4    2022\n",
       "Name: year_current, dtype: int64"
      ]
     },
     "execution_count": 81,
     "metadata": {},
     "output_type": "execute_result"
    }
   ],
   "source": [
    "unicorn2022['year_current'] = pd.to_datetime('today').year\n",
    "unicorn2022['year_current'].head()"
   ]
  },
  {
   "cell_type": "markdown",
   "id": "0e2dc7fe",
   "metadata": {},
   "source": [
    "**(3) years_to_unicorn**"
   ]
  },
  {
   "cell_type": "code",
   "execution_count": 82,
   "id": "9e347823",
   "metadata": {},
   "outputs": [
    {
     "data": {
      "text/plain": [
       "0     5\n",
       "1    10\n",
       "2    10\n",
       "3     4\n",
       "4     6\n",
       "Name: years_to_unicorn, dtype: int64"
      ]
     },
     "execution_count": 82,
     "metadata": {},
     "output_type": "execute_result"
    }
   ],
   "source": [
    "unicorn2022['years_to_unicorn'] = unicorn2022.date_joined.dt.year - unicorn2022.year_founded\n",
    "unicorn2022['years_to_unicorn'].head()"
   ]
  },
  {
   "cell_type": "markdown",
   "id": "6183bdaf",
   "metadata": {},
   "source": [
    "**(4) years_joined**"
   ]
  },
  {
   "cell_type": "code",
   "execution_count": 83,
   "id": "7addaaac",
   "metadata": {},
   "outputs": [
    {
     "data": {
      "text/plain": [
       "0     5\n",
       "1    10\n",
       "2     4\n",
       "3     8\n",
       "4    11\n",
       "Name: years_joined, dtype: int64"
      ]
     },
     "execution_count": 83,
     "metadata": {},
     "output_type": "execute_result"
    }
   ],
   "source": [
    "unicorn2022['years_joined'] = unicorn2022.year_current - unicorn2022.date_joined.dt.year\n",
    "unicorn2022['years_joined'].head()"
   ]
  },
  {
   "cell_type": "code",
   "execution_count": 84,
   "id": "282eba88",
   "metadata": {},
   "outputs": [
    {
     "data": {
      "text/plain": [
       "company                     object\n",
       "valuation                    int64\n",
       "date_joined         datetime64[ns]\n",
       "industry                    object\n",
       "city                        object\n",
       "country                     object\n",
       "continent                   object\n",
       "year_founded                 int64\n",
       "funding                    float64\n",
       "select_investors            object\n",
       "year_joined                  int64\n",
       "year_current                 int64\n",
       "years_to_unicorn             int64\n",
       "years_joined                 int64\n",
       "dtype: object"
      ]
     },
     "execution_count": 84,
     "metadata": {},
     "output_type": "execute_result"
    }
   ],
   "source": [
    "unicorn2022.dtypes"
   ]
  },
  {
   "cell_type": "markdown",
   "id": "caa9ef5f",
   "metadata": {},
   "source": [
    "### 1. Location/Geograph: continent, country, city"
   ]
  },
  {
   "cell_type": "code",
   "execution_count": 85,
   "id": "3bcf6d3b",
   "metadata": {},
   "outputs": [
    {
     "data": {
      "text/plain": [
       "count              1074\n",
       "unique                6\n",
       "top       North America\n",
       "freq                589\n",
       "Name: continent, dtype: object"
      ]
     },
     "execution_count": 85,
     "metadata": {},
     "output_type": "execute_result"
    }
   ],
   "source": [
    "unicorn2022.continent.describe() # 6 continents"
   ]
  },
  {
   "cell_type": "code",
   "execution_count": 86,
   "id": "28f5a801",
   "metadata": {
    "scrolled": false
   },
   "outputs": [
    {
     "data": {
      "text/plain": [
       "count              1074\n",
       "unique               46\n",
       "top       United States\n",
       "freq                562\n",
       "Name: country, dtype: object"
      ]
     },
     "execution_count": 86,
     "metadata": {},
     "output_type": "execute_result"
    }
   ],
   "source": [
    "unicorn2022.country.describe() # 46 countries"
   ]
  },
  {
   "cell_type": "code",
   "execution_count": 87,
   "id": "46531e77",
   "metadata": {},
   "outputs": [
    {
     "data": {
      "text/plain": [
       "count              1074\n",
       "unique              256\n",
       "top       San Francisco\n",
       "freq                152\n",
       "Name: city, dtype: object"
      ]
     },
     "execution_count": 87,
     "metadata": {},
     "output_type": "execute_result"
    }
   ],
   "source": [
    "unicorn2022.city.describe() # 256 cities"
   ]
  },
  {
   "cell_type": "markdown",
   "id": "16b27ddc",
   "metadata": {},
   "source": [
    "**1 continent**"
   ]
  },
  {
   "cell_type": "code",
   "execution_count": 88,
   "id": "6893a53b",
   "metadata": {},
   "outputs": [
    {
     "data": {
      "text/plain": [
       "continent\n",
       "North America    589\n",
       "Asia             310\n",
       "Europe           143\n",
       "South America     21\n",
       "Oceania            8\n",
       "Africa             3\n",
       "Name: company, dtype: int64"
      ]
     },
     "execution_count": 88,
     "metadata": {},
     "output_type": "execute_result"
    }
   ],
   "source": [
    "unicorn2022.groupby('continent')['company'].count().sort_values(ascending=False)"
   ]
  },
  {
   "cell_type": "code",
   "execution_count": 89,
   "id": "a4c483ae",
   "metadata": {
    "scrolled": true
   },
   "outputs": [
    {
     "data": {
      "image/png": "[encoded data removed]",
      "text/plain": [
       "<Figure size 432x288 with 1 Axes>"
      ]
     },
     "metadata": {
      "needs_background": "light"
     },
     "output_type": "display_data"
    }
   ],
   "source": [
    "unicorn2022.groupby('continent')['company'].count().sort_values().plot(color = 'b',kind = 'barh')\n",
    "\n",
    "for index, value in enumerate(unicorn2022.groupby('continent')['company'].count().sort_values()):\n",
    "    plt.text(value, index, str(value))\n",
    "\n",
    "plt.xlabel('Count')\n",
    "plt.ylabel('Continent')\n",
    "plt.title('Unicorns by Continent')\n",
    "\n",
    "plt.show()"
   ]
  },
  {
   "cell_type": "code",
   "execution_count": 90,
   "id": "4960d54c",
   "metadata": {},
   "outputs": [
    {
     "data": {
      "text/html": [
       "<div>\n",
       "<style scoped>\n",
       "    .dataframe tbody tr th:only-of-type {\n",
       "        vertical-align: middle;\n",
       "    }\n",
       "\n",
       "    .dataframe tbody tr th {\n",
       "        vertical-align: top;\n",
       "    }\n",
       "\n",
       "    .dataframe thead th {\n",
       "        text-align: right;\n",
       "    }\n",
       "</style>\n",
       "<table border=\"1\" class=\"dataframe\">\n",
       "  <thead>\n",
       "    <tr style=\"text-align: right;\">\n",
       "      <th></th>\n",
       "      <th>company</th>\n",
       "      <th>country</th>\n",
       "    </tr>\n",
       "    <tr>\n",
       "      <th>continent</th>\n",
       "      <th></th>\n",
       "      <th></th>\n",
       "    </tr>\n",
       "  </thead>\n",
       "  <tbody>\n",
       "    <tr>\n",
       "      <th>Africa</th>\n",
       "      <td>3</td>\n",
       "      <td>3</td>\n",
       "    </tr>\n",
       "    <tr>\n",
       "      <th>Oceania</th>\n",
       "      <td>8</td>\n",
       "      <td>1</td>\n",
       "    </tr>\n",
       "    <tr>\n",
       "      <th>South America</th>\n",
       "      <td>21</td>\n",
       "      <td>4</td>\n",
       "    </tr>\n",
       "    <tr>\n",
       "      <th>Europe</th>\n",
       "      <td>143</td>\n",
       "      <td>20</td>\n",
       "    </tr>\n",
       "    <tr>\n",
       "      <th>Asia</th>\n",
       "      <td>310</td>\n",
       "      <td>14</td>\n",
       "    </tr>\n",
       "    <tr>\n",
       "      <th>North America</th>\n",
       "      <td>589</td>\n",
       "      <td>5</td>\n",
       "    </tr>\n",
       "  </tbody>\n",
       "</table>\n",
       "</div>"
      ],
      "text/plain": [
       "               company  country\n",
       "continent                      \n",
       "Africa               3        3\n",
       "Oceania              8        1\n",
       "South America       21        4\n",
       "Europe             143       20\n",
       "Asia               310       14\n",
       "North America      589        5"
      ]
     },
     "execution_count": 90,
     "metadata": {},
     "output_type": "execute_result"
    }
   ],
   "source": [
    "df_cnt = unicorn2022.groupby('continent')['company'].count().sort_values(ascending=True).reset_index()\n",
    "df_cnt_country = unicorn2022.groupby('continent')['country'].nunique().reset_index()\n",
    "\n",
    "df_cnt_ctry = df_cnt.merge(df_cnt_country, on='continent', how='left')\n",
    "\n",
    "df_cnt_ctry = df_cnt_ctry.set_index('continent').copy()\n",
    "df_cnt_ctry"
   ]
  },
  {
   "cell_type": "code",
   "execution_count": 91,
   "id": "2de15722",
   "metadata": {
    "scrolled": true
   },
   "outputs": [
    {
     "data": {
      "image/png": "[encoded data removed]",
      "text/plain": [
       "<Figure size 432x288 with 2 Axes>"
      ]
     },
     "metadata": {
      "needs_background": "light"
     },
     "output_type": "display_data"
    }
   ],
   "source": [
    "# plot 1\n",
    "ax_cnt1 = plt.subplot(121)\n",
    "df_cnt_ctry.company.plot(color = 'b',kind = 'barh')\n",
    "\n",
    "for index, value in enumerate(df_cnt_ctry.company):\n",
    "    plt.text(value, index, str(value))\n",
    "\n",
    "plt.xlabel('Count')\n",
    "plt.ylabel('Continent')\n",
    "plt.title('Unicorns by Continent')\n",
    "\n",
    "\n",
    "# plot 2\n",
    "ax_cnt2 = plt.subplot(122,sharey=ax_cnt1)\n",
    "df_cnt_ctry.country.plot(color = 'c',kind = 'barh')#,sharey = ax_cnt1)\n",
    "\n",
    "for index, value in enumerate(df_cnt_ctry.country):\n",
    "    plt.text(value, index, str(value))\n",
    "    \n",
    "plt.xlabel('Count')\n",
    "plt.ylabel('Continent')\n",
    "plt.title('Countries with Unicorns')\n",
    "\n",
    "plt.show()"
   ]
  },
  {
   "cell_type": "markdown",
   "id": "96689aa2",
   "metadata": {},
   "source": [
    "**2. Country**"
   ]
  },
  {
   "cell_type": "code",
   "execution_count": 92,
   "id": "a28e99f7",
   "metadata": {
    "scrolled": false
   },
   "outputs": [
    {
     "data": {
      "image/png": "[encoded data removed]",
      "text/plain": [
       "<Figure size 720x720 with 1 Axes>"
      ]
     },
     "metadata": {
      "needs_background": "light"
     },
     "output_type": "display_data"
    }
   ],
   "source": [
    "plt.figure(figsize=(10,10)) \n",
    "\n",
    "unicorn2022.groupby('country')['company'].count().sort_values().plot(color = 'c',kind = 'barh')\n",
    "\n",
    "for index, value in enumerate(unicorn2022.groupby('country')['company'].count().sort_values()):\n",
    "    plt.text(value, index, str(value))\n",
    "\n",
    "plt.xlabel('Count')\n",
    "plt.ylabel('Country')\n",
    "plt.title('Unicorns by Country')\n",
    "\n",
    "plt.show()"
   ]
  },
  {
   "cell_type": "code",
   "execution_count": 93,
   "id": "a5156568",
   "metadata": {
    "scrolled": false
   },
   "outputs": [
    {
     "data": {
      "text/html": [
       "        <script type=\"text/javascript\">\n",
       "        window.PlotlyConfig = {MathJaxConfig: 'local'};\n",
       "        if (window.MathJax && window.MathJax.Hub && window.MathJax.Hub.Config) {window.MathJax.Hub.Config({SVG: {font: \"STIX-Web\"}});}\n",
       "        if (typeof require !== 'undefined') {\n",
       "        require.undef(\"plotly\");\n",
       "        requirejs.config({\n",
       "            paths: {\n",
       "                'plotly': ['https://cdn.plot.ly/plotly-2.12.1.min']\n",
       "            }\n",
       "        });\n",
       "        require(['plotly'], function(Plotly) {\n",
       "            window._Plotly = Plotly;\n",
       "        });\n",
       "        }\n",
       "        </script>\n",
       "        "
      ]
     },
     "metadata": {},
     "output_type": "display_data"
    },
    {
     "data": {
      "application/vnd.plotly.v1+json": {
       "config": {
        "linkText": "Export to plot.ly",
        "plotlyServerURL": "https://plot.ly",
        "showLink": false
       },
       "data": [
        {
         "colorbar": {
          "title": {
           "text": "Count"
          }
         },
         "colorscale": [
          [
           0,
           "rgb(0,0,131)"
          ],
          [
           0.2,
           "rgb(0,60,170)"
          ],
          [
           0.4,
           "rgb(5,255,255)"
          ],
          [
           0.6,
           "rgb(255,255,0)"
          ],
          [
           0.8,
           "rgb(250,0,0)"
          ],
          [
           1,
           "rgb(128,0,0)"
          ]
         ],
         "locationmode": "country names",
         "locations": [
          "China",
          "United States",
          "China",
          "United States",
          "Sweden",
          "Australia",
          "United Kingdom",
          "United States",
          "United States",
          "United States",
          "United Kingdom",
          "United States",
          "Bahamas",
          "United States",
          "United States",
          "India",
          "Indonesia",
          "China",
          "United States",
          "China",
          "United Kingdom",
          "United States",
          "China",
          "United States",
          "United Kingdom",
          "United States",
          "United States",
          "United States",
          "United States",
          "United States",
          "Sweden",
          "United States",
          "United States",
          "United States",
          "Turkey",
          "United States",
          "China",
          "United States",
          "China",
          "China",
          "Estonia",
          "India",
          "China",
          "United Kingdom",
          "United States",
          "Germany",
          "China",
          "United States",
          "India",
          "United States",
          "United States",
          "United States",
          "China",
          "United States",
          "United States",
          "United States",
          "Hong Kong",
          "United States",
          "United States",
          "United States",
          "United States",
          "South Korea",
          "South Korea",
          "United States",
          "United States",
          "United States",
          "Mexico",
          "Germany",
          "United States",
          "United States",
          "United States",
          "India",
          "China",
          "United States",
          "India",
          "Canada",
          "United States",
          "United States",
          "United Kingdom",
          "United States",
          "United States",
          "United States",
          "United States",
          "United States",
          "India",
          "China",
          "United States",
          "India",
          "United States",
          "India",
          "United States",
          "United States",
          "South Korea",
          "China",
          "United States",
          "United States",
          "United States",
          "Canada",
          "United States",
          "United States",
          "United States",
          "United States",
          "United States",
          "China",
          "China",
          "China",
          "Australia",
          "United States",
          "Netherlands",
          "Netherlands",
          "France",
          "United States",
          "United States",
          "France",
          "United States",
          "United States",
          "Germany",
          "Finland",
          "United States",
          "United States",
          "United States",
          "China",
          "United States",
          "United States",
          "United States",
          "United States",
          "United States",
          "Israel",
          "India",
          "United Kingdom",
          "India",
          "China",
          "China",
          "China",
          "United Kingdom",
          "United States",
          "China",
          "Lithuania",
          "United Kingdom",
          "China",
          "United States",
          "United States",
          "United States",
          "United States",
          "United States",
          "Denmark",
          "Germany",
          "China",
          "Belgium",
          "Colombia",
          "United States",
          "United States",
          "Brazil",
          "United States",
          "Brazil",
          "Brazil",
          "United States",
          "Canada",
          "United States",
          "Israel",
          "India",
          "India",
          "India",
          "France",
          "United States",
          "China",
          "China",
          "United Kingdom",
          "China",
          "United Kingdom",
          "Singapore",
          "United States",
          "South Korea",
          "United States",
          "India",
          "United States",
          "China",
          "United States",
          "United States",
          "United States",
          "United States",
          "United States",
          "United States",
          "United States",
          "United States",
          "United States",
          "France",
          "United States",
          "United States",
          "Germany",
          "United States",
          "China",
          "United States",
          "United States",
          "United States",
          "United States",
          "United States",
          "United States",
          "United States",
          "United States",
          "United States",
          "India",
          "France",
          "United States",
          "United States",
          "United States",
          "United States",
          "United States",
          "United States",
          "United States",
          "United States",
          "United States",
          "United States",
          "United States",
          "United States",
          "Canada",
          "Austria",
          "United States",
          "United States",
          "China",
          "China",
          "United States",
          "United States",
          "Ireland",
          "United States",
          "United States",
          "United States",
          "United States",
          "United States",
          "China",
          "United States",
          "United States",
          "United States",
          "United States",
          "Canada",
          "United States",
          "United States",
          "United States",
          "United States",
          "United States",
          "China",
          "South Korea",
          "Singapore",
          "United States",
          "India",
          "United Arab Emirates",
          "China",
          "United States",
          "United Kingdom",
          "United States",
          "China",
          "Singapore",
          "Netherlands",
          "United States",
          "United States",
          "United States",
          "Switzerland",
          "United States",
          "China",
          "Israel",
          "India",
          "United States",
          "India",
          "Austria",
          "Australia",
          "India",
          "United States",
          "United States",
          "United States",
          "United States",
          "United States",
          "United States",
          "United States",
          "Finland",
          "India",
          "United States",
          "United States",
          "France",
          "United States",
          "United States",
          "United States",
          "United States",
          "United States",
          "United States",
          "United States",
          "China",
          "India",
          "India",
          "United States",
          "United States",
          "United States",
          "United States",
          "United States",
          "United States",
          "United States",
          "Israel",
          "United States",
          "United States",
          "Turkey",
          "United States",
          "United States",
          "United Kingdom",
          "Canada",
          "Canada",
          "United States",
          "France",
          "India",
          "United States",
          "United States",
          "United States",
          "United States",
          "United States",
          "India",
          "United States",
          "Germany",
          "United States",
          "United States",
          "Germany",
          "United States",
          "Brazil",
          "Brazil",
          "India",
          "United States",
          "United States",
          "United States",
          "Hong Kong",
          "United States",
          "United States",
          "United States",
          "United States",
          "United States",
          "United Kingdom",
          "Germany",
          "United States",
          "India",
          "Germany",
          "United States",
          "United States",
          "United States",
          "India",
          "United States",
          "China",
          "United States",
          "United States",
          "United States",
          "United States",
          "United States",
          "United States",
          "United States",
          "Vietnam",
          "China",
          "United States",
          "Indonesia",
          "Germany",
          "Brazil",
          "United States",
          "China",
          "United States",
          "United Kingdom",
          "United States",
          "China",
          "United States",
          "China",
          "China",
          "China",
          "China",
          "China",
          "China",
          "United States",
          "China",
          "China",
          "Israel",
          "India",
          "South Africa",
          "China",
          "China",
          "China",
          "United Kingdom",
          "United States",
          "United Kingdom",
          "India",
          "Switzerland",
          "Singapore",
          "United States",
          "Germany",
          "United States",
          "United Kingdom",
          "China",
          "United States",
          "United States",
          "United States",
          "United States",
          "United States",
          "Thailand",
          "United States",
          "United States",
          "United States",
          "Norway",
          "United States",
          "United States",
          "Australia",
          "United States",
          "India",
          "United Kingdom",
          "United States",
          "United States",
          "France",
          "United States",
          "United Kingdom",
          "United States",
          "United States",
          "Israel",
          "Chile",
          "Brazil",
          "United States",
          "United States",
          "United States",
          "United States",
          "United States",
          "United States",
          "Israel",
          "United States",
          "United States",
          "China",
          "United States",
          "United States",
          "Estonia",
          "United States",
          "United States",
          "United States",
          "United States",
          "India",
          "Argentina",
          "China",
          "China",
          "United States",
          "Bermuda",
          "United States",
          "United States",
          "China",
          "United States",
          "United States",
          "Canada",
          "United States",
          "United States",
          "United States",
          "United States",
          "United States",
          "United States",
          "United States",
          "United States",
          "Australia",
          "Japan",
          "United States",
          "United States",
          "United States",
          "United States",
          "Ireland",
          "China",
          "United States",
          "United States",
          "United States",
          "Israel",
          "Spain",
          "United States",
          "Germany",
          "South Korea",
          "France",
          "China",
          "France",
          "Malaysia",
          "United States",
          "India",
          "United States",
          "United States",
          "United Kingdom",
          "United States",
          "United States",
          "United States",
          "United States",
          "United States",
          "United States",
          "United States",
          "France",
          "Senegal",
          "United States",
          "United States",
          "United States",
          "United States",
          "Belgium",
          "United States",
          "United States",
          "Vietnam",
          "United States",
          "United States",
          "India",
          "Canada",
          "United States",
          "China",
          "Mexico",
          "United States",
          "United States",
          "United States",
          "China",
          "United States",
          "South Korea",
          "Germany",
          "United States",
          "United States",
          "United States",
          "Israel",
          "United States",
          "United States",
          "United Kingdom",
          "China",
          "United States",
          "China",
          "Brazil",
          "United States",
          "Germany",
          "United States",
          "United States",
          "India",
          "United States",
          "United States",
          "India",
          "Germany",
          "United Kingdom",
          "United States",
          "United States",
          "United States",
          "United States",
          "United States",
          "United Kingdom",
          "United States",
          "United States",
          "India",
          "United States",
          "United Kingdom",
          "France",
          "China",
          "Singapore",
          "Finland",
          "Indonesia",
          "United States",
          "United States",
          "United States",
          "United States",
          "France",
          "China",
          "Netherlands",
          "United States",
          "United States",
          "Canada",
          "United States",
          "Mexico",
          "United States",
          "United States",
          "United States",
          "United States",
          "United States",
          "United States",
          "France",
          "United States",
          "China",
          "United States",
          "China",
          "United States",
          "United States",
          "United States",
          "United States",
          "China",
          "Sweden",
          "Brazil",
          "United States",
          "Denmark",
          "China",
          "United States",
          "United States",
          "United States",
          "United States",
          "Philippines",
          "United States",
          "United States",
          "Luxembourg",
          "Nigeria",
          "United States",
          "Japan",
          "United States",
          "United States",
          "Japan",
          "United States",
          "Israel",
          "United States",
          "Germany",
          "Hong Kong",
          "United States",
          "United States",
          "United States",
          "China",
          "China",
          "China",
          "United Kingdom",
          "China",
          "United States",
          "South Korea",
          "United States",
          "South Africa",
          "China",
          "India",
          "China",
          "China",
          "Sweden",
          "United States",
          "United States",
          "United States",
          "United States",
          "United States",
          "China",
          "China",
          "China",
          "China",
          "China",
          "China",
          "China",
          "United States",
          "China",
          "China",
          "Colombia",
          "China",
          "India",
          "United States",
          "France",
          "United States",
          "China",
          "China",
          "United States",
          "China",
          "China",
          "China",
          "India",
          "United Kingdom",
          "China",
          "China",
          "China",
          "China",
          "United States",
          "United States",
          "China",
          "China",
          "China",
          "China",
          "China",
          "China",
          "China",
          "China",
          "France",
          "China",
          "China",
          "China",
          "United States",
          "United States",
          "United States",
          "China",
          "Israel",
          "China",
          "United States",
          "China",
          "United States",
          "India",
          "China",
          "United States",
          "China",
          "United States",
          "China",
          "France",
          "United States",
          "China",
          "China",
          "China",
          "China",
          "United States",
          "China",
          "United Kingdom",
          "United States",
          "China",
          "United States",
          "United States",
          "United States",
          "Spain",
          "United States",
          "United States",
          "France",
          "United States",
          "Belgium",
          "United States",
          "Sweden",
          "Canada",
          "Israel",
          "India",
          "United States",
          "United States",
          "China",
          "United States",
          "United States",
          "India",
          "India",
          "United States",
          "Germany",
          "United States",
          "United States",
          "United States",
          "United Kingdom",
          "United States",
          "China",
          "United States",
          "Brazil",
          "France",
          "United States",
          "United States",
          "Hong Kong",
          "China",
          "United States",
          "United Kingdom",
          "South Korea",
          "United States",
          "South Korea",
          "United States",
          "China",
          "China",
          "United States",
          "United States",
          "United States",
          "United States",
          "United States",
          "United States",
          "Israel",
          "United States",
          "United States",
          "Mexico",
          "Australia",
          "United States",
          "United States",
          "China",
          "United States",
          "Spain",
          "United States",
          "United States",
          "United Kingdom",
          "United States",
          "United States",
          "Ireland",
          "United States",
          "United States",
          "China",
          "United Kingdom",
          "United States",
          "United States",
          "United States",
          "Canada",
          "China",
          "Turkey",
          "Japan",
          "Canada",
          "United States",
          "United States",
          "United States",
          "India",
          "United States",
          "United States",
          "United States",
          "United States",
          "United States",
          "United States",
          "United States",
          "United States",
          "India",
          "Mexico",
          "United States",
          "India",
          "Norway",
          "United States",
          "United States",
          "United States",
          "United States",
          "United States",
          "United States",
          "Czech Republic",
          "United States",
          "China",
          "United States",
          "India",
          "Ireland",
          "India",
          "South Korea",
          "China",
          "China",
          "United States",
          "United States",
          "China",
          "United States",
          "United States",
          "United States",
          "United States",
          "United States",
          "United States",
          "United States",
          "China",
          "India",
          "India",
          "United States",
          "Singapore",
          "United States",
          "India",
          "United States",
          "Germany",
          "Canada",
          "United States",
          "United States",
          "United States",
          "China",
          "Germany",
          "India",
          "United States",
          "China",
          "United States",
          "India",
          "Switzerland",
          "United States",
          "United States",
          "United States",
          "Germany",
          "United States",
          "Germany",
          "United States",
          "United States",
          "United Kingdom",
          "United Kingdom",
          "China",
          "India",
          "United Kingdom",
          "India",
          "United States",
          "South Korea",
          "United States",
          "United States",
          "United States",
          "China",
          "Singapore",
          "United States",
          "United States",
          "Israel",
          "China",
          "China",
          "China",
          "Germany",
          "China",
          "United States",
          "Indonesia",
          "United States",
          "India",
          "United States",
          "United States",
          "United States",
          "United States",
          "Israel",
          "United States",
          "Canada",
          "United States",
          "Canada",
          "United States",
          "China",
          "China",
          "United Kingdom",
          "Germany",
          "Chile",
          "Netherlands",
          "India",
          "United States",
          "United States",
          "Singapore",
          "United States",
          "Israel",
          "United States",
          "United States",
          "United States",
          "United States",
          "United States",
          "Brazil",
          "Singapore",
          "United States",
          "United States",
          "United States",
          "Hong Kong",
          "Mexico",
          "United States",
          "United States",
          "United States",
          "India",
          "France",
          "China",
          "United States",
          "Israel",
          "Norway",
          "China",
          "Brazil",
          "China",
          "United States",
          "United Arab Emirates",
          "United States",
          "United States",
          "United States",
          "United States",
          "United States",
          "United States",
          "China",
          "United States",
          "Thailand",
          "China",
          "India",
          "Canada",
          "China",
          "United States",
          "China",
          "Norway",
          "United States",
          "Australia",
          "United States",
          "Israel",
          "China",
          "India",
          "China",
          "United States",
          "Finland",
          "Netherlands",
          "China",
          "United States",
          "United States",
          "China",
          "Brazil",
          "Germany",
          "Croatia",
          "United States",
          "China",
          "United States",
          "United States",
          "Israel",
          "United States",
          "United Arab Emirates",
          "China",
          "Indonesia",
          "China",
          "United States",
          "United States",
          "Ireland",
          "India",
          "China",
          "United States",
          "United States",
          "France",
          "Brazil",
          "China",
          "United States",
          "United States",
          "United States",
          "United States",
          "France",
          "India",
          "China",
          "United States",
          "China",
          "China",
          "China",
          "United States",
          "Brazil",
          "United States",
          "United States",
          "China",
          "United States",
          "United States",
          "Singapore",
          "India",
          "United States",
          "Switzerland",
          "United States",
          "Germany",
          "Singapore",
          "United States",
          "China",
          "United States",
          "United States",
          "United States",
          "United States",
          "United States",
          "Singapore",
          "United Kingdom",
          "Israel",
          "Australia",
          "United States",
          "United States",
          "United States",
          "Japan",
          "China",
          "United Kingdom",
          "United States",
          "United States",
          "United States",
          "United States",
          "Germany",
          "United States",
          "United States",
          "United States",
          "Philippines",
          "United States",
          "United Kingdom",
          "United States",
          "Italy",
          "Switzerland",
          "United States",
          "United States",
          "France",
          "United States",
          "United States",
          "United States",
          "United States",
          "United States",
          "India",
          "United States",
          "United States",
          "United States",
          "United States",
          "United States",
          "United States",
          "United States",
          "United States",
          "United States",
          "France",
          "United States",
          "United States",
          "Canada",
          "China",
          "China",
          "United States",
          "United States",
          "United Kingdom",
          "United States",
          "United Kingdom",
          "United States",
          "United States",
          "United Kingdom",
          "Brazil",
          "United States",
          "India",
          "United States",
          "United States",
          "Canada",
          "Sweden",
          "United States",
          "United States",
          "United States",
          "United States",
          "Hong Kong",
          "China",
          "United States",
          "Indonesia",
          "China",
          "China",
          "United States",
          "China",
          "China",
          "China",
          "China",
          "United Kingdom",
          "United States"
         ],
         "text": [
          "China",
          "United States",
          "China",
          "United States",
          "Sweden",
          "Australia",
          "United Kingdom",
          "United States",
          "United States",
          "United States",
          "United Kingdom",
          "United States",
          "Bahamas",
          "United States",
          "United States",
          "India",
          "Indonesia",
          "China",
          "United States",
          "China",
          "United Kingdom",
          "United States",
          "China",
          "United States",
          "United Kingdom",
          "United States",
          "United States",
          "United States",
          "United States",
          "United States",
          "Sweden",
          "United States",
          "United States",
          "United States",
          "Turkey",
          "United States",
          "China",
          "United States",
          "China",
          "China",
          "Estonia",
          "India",
          "China",
          "United Kingdom",
          "United States",
          "Germany",
          "China",
          "United States",
          "India",
          "United States",
          "United States",
          "United States",
          "China",
          "United States",
          "United States",
          "United States",
          "Hong Kong",
          "United States",
          "United States",
          "United States",
          "United States",
          "South Korea",
          "South Korea",
          "United States",
          "United States",
          "United States",
          "Mexico",
          "Germany",
          "United States",
          "United States",
          "United States",
          "India",
          "China",
          "United States",
          "India",
          "Canada",
          "United States",
          "United States",
          "United Kingdom",
          "United States",
          "United States",
          "United States",
          "United States",
          "United States",
          "India",
          "China",
          "United States",
          "India",
          "United States",
          "India",
          "United States",
          "United States",
          "South Korea",
          "China",
          "United States",
          "United States",
          "United States",
          "Canada",
          "United States",
          "United States",
          "United States",
          "United States",
          "United States",
          "China",
          "China",
          "China",
          "Australia",
          "United States",
          "Netherlands",
          "Netherlands",
          "France",
          "United States",
          "United States",
          "France",
          "United States",
          "United States",
          "Germany",
          "Finland",
          "United States",
          "United States",
          "United States",
          "China",
          "United States",
          "United States",
          "United States",
          "United States",
          "United States",
          "Israel",
          "India",
          "United Kingdom",
          "India",
          "China",
          "China",
          "China",
          "United Kingdom",
          "United States",
          "China",
          "Lithuania",
          "United Kingdom",
          "China",
          "United States",
          "United States",
          "United States",
          "United States",
          "United States",
          "Denmark",
          "Germany",
          "China",
          "Belgium",
          "Colombia",
          "United States",
          "United States",
          "Brazil",
          "United States",
          "Brazil",
          "Brazil",
          "United States",
          "Canada",
          "United States",
          "Israel",
          "India",
          "India",
          "India",
          "France",
          "United States",
          "China",
          "China",
          "United Kingdom",
          "China",
          "United Kingdom",
          "Singapore",
          "United States",
          "South Korea",
          "United States",
          "India",
          "United States",
          "China",
          "United States",
          "United States",
          "United States",
          "United States",
          "United States",
          "United States",
          "United States",
          "United States",
          "United States",
          "France",
          "United States",
          "United States",
          "Germany",
          "United States",
          "China",
          "United States",
          "United States",
          "United States",
          "United States",
          "United States",
          "United States",
          "United States",
          "United States",
          "United States",
          "India",
          "France",
          "United States",
          "United States",
          "United States",
          "United States",
          "United States",
          "United States",
          "United States",
          "United States",
          "United States",
          "United States",
          "United States",
          "United States",
          "Canada",
          "Austria",
          "United States",
          "United States",
          "China",
          "China",
          "United States",
          "United States",
          "Ireland",
          "United States",
          "United States",
          "United States",
          "United States",
          "United States",
          "China",
          "United States",
          "United States",
          "United States",
          "United States",
          "Canada",
          "United States",
          "United States",
          "United States",
          "United States",
          "United States",
          "China",
          "South Korea",
          "Singapore",
          "United States",
          "India",
          "United Arab Emirates",
          "China",
          "United States",
          "United Kingdom",
          "United States",
          "China",
          "Singapore",
          "Netherlands",
          "United States",
          "United States",
          "United States",
          "Switzerland",
          "United States",
          "China",
          "Israel",
          "India",
          "United States",
          "India",
          "Austria",
          "Australia",
          "India",
          "United States",
          "United States",
          "United States",
          "United States",
          "United States",
          "United States",
          "United States",
          "Finland",
          "India",
          "United States",
          "United States",
          "France",
          "United States",
          "United States",
          "United States",
          "United States",
          "United States",
          "United States",
          "United States",
          "China",
          "India",
          "India",
          "United States",
          "United States",
          "United States",
          "United States",
          "United States",
          "United States",
          "United States",
          "Israel",
          "United States",
          "United States",
          "Turkey",
          "United States",
          "United States",
          "United Kingdom",
          "Canada",
          "Canada",
          "United States",
          "France",
          "India",
          "United States",
          "United States",
          "United States",
          "United States",
          "United States",
          "India",
          "United States",
          "Germany",
          "United States",
          "United States",
          "Germany",
          "United States",
          "Brazil",
          "Brazil",
          "India",
          "United States",
          "United States",
          "United States",
          "Hong Kong",
          "United States",
          "United States",
          "United States",
          "United States",
          "United States",
          "United Kingdom",
          "Germany",
          "United States",
          "India",
          "Germany",
          "United States",
          "United States",
          "United States",
          "India",
          "United States",
          "China",
          "United States",
          "United States",
          "United States",
          "United States",
          "United States",
          "United States",
          "United States",
          "Vietnam",
          "China",
          "United States",
          "Indonesia",
          "Germany",
          "Brazil",
          "United States",
          "China",
          "United States",
          "United Kingdom",
          "United States",
          "China",
          "United States",
          "China",
          "China",
          "China",
          "China",
          "China",
          "China",
          "United States",
          "China",
          "China",
          "Israel",
          "India",
          "South Africa",
          "China",
          "China",
          "China",
          "United Kingdom",
          "United States",
          "United Kingdom",
          "India",
          "Switzerland",
          "Singapore",
          "United States",
          "Germany",
          "United States",
          "United Kingdom",
          "China",
          "United States",
          "United States",
          "United States",
          "United States",
          "United States",
          "Thailand",
          "United States",
          "United States",
          "United States",
          "Norway",
          "United States",
          "United States",
          "Australia",
          "United States",
          "India",
          "United Kingdom",
          "United States",
          "United States",
          "France",
          "United States",
          "United Kingdom",
          "United States",
          "United States",
          "Israel",
          "Chile",
          "Brazil",
          "United States",
          "United States",
          "United States",
          "United States",
          "United States",
          "United States",
          "Israel",
          "United States",
          "United States",
          "China",
          "United States",
          "United States",
          "Estonia",
          "United States",
          "United States",
          "United States",
          "United States",
          "India",
          "Argentina",
          "China",
          "China",
          "United States",
          "Bermuda",
          "United States",
          "United States",
          "China",
          "United States",
          "United States",
          "Canada",
          "United States",
          "United States",
          "United States",
          "United States",
          "United States",
          "United States",
          "United States",
          "United States",
          "Australia",
          "Japan",
          "United States",
          "United States",
          "United States",
          "United States",
          "Ireland",
          "China",
          "United States",
          "United States",
          "United States",
          "Israel",
          "Spain",
          "United States",
          "Germany",
          "South Korea",
          "France",
          "China",
          "France",
          "Malaysia",
          "United States",
          "India",
          "United States",
          "United States",
          "United Kingdom",
          "United States",
          "United States",
          "United States",
          "United States",
          "United States",
          "United States",
          "United States",
          "France",
          "Senegal",
          "United States",
          "United States",
          "United States",
          "United States",
          "Belgium",
          "United States",
          "United States",
          "Vietnam",
          "United States",
          "United States",
          "India",
          "Canada",
          "United States",
          "China",
          "Mexico",
          "United States",
          "United States",
          "United States",
          "China",
          "United States",
          "South Korea",
          "Germany",
          "United States",
          "United States",
          "United States",
          "Israel",
          "United States",
          "United States",
          "United Kingdom",
          "China",
          "United States",
          "China",
          "Brazil",
          "United States",
          "Germany",
          "United States",
          "United States",
          "India",
          "United States",
          "United States",
          "India",
          "Germany",
          "United Kingdom",
          "United States",
          "United States",
          "United States",
          "United States",
          "United States",
          "United Kingdom",
          "United States",
          "United States",
          "India",
          "United States",
          "United Kingdom",
          "France",
          "China",
          "Singapore",
          "Finland",
          "Indonesia",
          "United States",
          "United States",
          "United States",
          "United States",
          "France",
          "China",
          "Netherlands",
          "United States",
          "United States",
          "Canada",
          "United States",
          "Mexico",
          "United States",
          "United States",
          "United States",
          "United States",
          "United States",
          "United States",
          "France",
          "United States",
          "China",
          "United States",
          "China",
          "United States",
          "United States",
          "United States",
          "United States",
          "China",
          "Sweden",
          "Brazil",
          "United States",
          "Denmark",
          "China",
          "United States",
          "United States",
          "United States",
          "United States",
          "Philippines",
          "United States",
          "United States",
          "Luxembourg",
          "Nigeria",
          "United States",
          "Japan",
          "United States",
          "United States",
          "Japan",
          "United States",
          "Israel",
          "United States",
          "Germany",
          "Hong Kong",
          "United States",
          "United States",
          "United States",
          "China",
          "China",
          "China",
          "United Kingdom",
          "China",
          "United States",
          "South Korea",
          "United States",
          "South Africa",
          "China",
          "India",
          "China",
          "China",
          "Sweden",
          "United States",
          "United States",
          "United States",
          "United States",
          "United States",
          "China",
          "China",
          "China",
          "China",
          "China",
          "China",
          "China",
          "United States",
          "China",
          "China",
          "Colombia",
          "China",
          "India",
          "United States",
          "France",
          "United States",
          "China",
          "China",
          "United States",
          "China",
          "China",
          "China",
          "India",
          "United Kingdom",
          "China",
          "China",
          "China",
          "China",
          "United States",
          "United States",
          "China",
          "China",
          "China",
          "China",
          "China",
          "China",
          "China",
          "China",
          "France",
          "China",
          "China",
          "China",
          "United States",
          "United States",
          "United States",
          "China",
          "Israel",
          "China",
          "United States",
          "China",
          "United States",
          "India",
          "China",
          "United States",
          "China",
          "United States",
          "China",
          "France",
          "United States",
          "China",
          "China",
          "China",
          "China",
          "United States",
          "China",
          "United Kingdom",
          "United States",
          "China",
          "United States",
          "United States",
          "United States",
          "Spain",
          "United States",
          "United States",
          "France",
          "United States",
          "Belgium",
          "United States",
          "Sweden",
          "Canada",
          "Israel",
          "India",
          "United States",
          "United States",
          "China",
          "United States",
          "United States",
          "India",
          "India",
          "United States",
          "Germany",
          "United States",
          "United States",
          "United States",
          "United Kingdom",
          "United States",
          "China",
          "United States",
          "Brazil",
          "France",
          "United States",
          "United States",
          "Hong Kong",
          "China",
          "United States",
          "United Kingdom",
          "South Korea",
          "United States",
          "South Korea",
          "United States",
          "China",
          "China",
          "United States",
          "United States",
          "United States",
          "United States",
          "United States",
          "United States",
          "Israel",
          "United States",
          "United States",
          "Mexico",
          "Australia",
          "United States",
          "United States",
          "China",
          "United States",
          "Spain",
          "United States",
          "United States",
          "United Kingdom",
          "United States",
          "United States",
          "Ireland",
          "United States",
          "United States",
          "China",
          "United Kingdom",
          "United States",
          "United States",
          "United States",
          "Canada",
          "China",
          "Turkey",
          "Japan",
          "Canada",
          "United States",
          "United States",
          "United States",
          "India",
          "United States",
          "United States",
          "United States",
          "United States",
          "United States",
          "United States",
          "United States",
          "United States",
          "India",
          "Mexico",
          "United States",
          "India",
          "Norway",
          "United States",
          "United States",
          "United States",
          "United States",
          "United States",
          "United States",
          "Czech Republic",
          "United States",
          "China",
          "United States",
          "India",
          "Ireland",
          "India",
          "South Korea",
          "China",
          "China",
          "United States",
          "United States",
          "China",
          "United States",
          "United States",
          "United States",
          "United States",
          "United States",
          "United States",
          "United States",
          "China",
          "India",
          "India",
          "United States",
          "Singapore",
          "United States",
          "India",
          "United States",
          "Germany",
          "Canada",
          "United States",
          "United States",
          "United States",
          "China",
          "Germany",
          "India",
          "United States",
          "China",
          "United States",
          "India",
          "Switzerland",
          "United States",
          "United States",
          "United States",
          "Germany",
          "United States",
          "Germany",
          "United States",
          "United States",
          "United Kingdom",
          "United Kingdom",
          "China",
          "India",
          "United Kingdom",
          "India",
          "United States",
          "South Korea",
          "United States",
          "United States",
          "United States",
          "China",
          "Singapore",
          "United States",
          "United States",
          "Israel",
          "China",
          "China",
          "China",
          "Germany",
          "China",
          "United States",
          "Indonesia",
          "United States",
          "India",
          "United States",
          "United States",
          "United States",
          "United States",
          "Israel",
          "United States",
          "Canada",
          "United States",
          "Canada",
          "United States",
          "China",
          "China",
          "United Kingdom",
          "Germany",
          "Chile",
          "Netherlands",
          "India",
          "United States",
          "United States",
          "Singapore",
          "United States",
          "Israel",
          "United States",
          "United States",
          "United States",
          "United States",
          "United States",
          "Brazil",
          "Singapore",
          "United States",
          "United States",
          "United States",
          "Hong Kong",
          "Mexico",
          "United States",
          "United States",
          "United States",
          "India",
          "France",
          "China",
          "United States",
          "Israel",
          "Norway",
          "China",
          "Brazil",
          "China",
          "United States",
          "United Arab Emirates",
          "United States",
          "United States",
          "United States",
          "United States",
          "United States",
          "United States",
          "China",
          "United States",
          "Thailand",
          "China",
          "India",
          "Canada",
          "China",
          "United States",
          "China",
          "Norway",
          "United States",
          "Australia",
          "United States",
          "Israel",
          "China",
          "India",
          "China",
          "United States",
          "Finland",
          "Netherlands",
          "China",
          "United States",
          "United States",
          "China",
          "Brazil",
          "Germany",
          "Croatia",
          "United States",
          "China",
          "United States",
          "United States",
          "Israel",
          "United States",
          "United Arab Emirates",
          "China",
          "Indonesia",
          "China",
          "United States",
          "United States",
          "Ireland",
          "India",
          "China",
          "United States",
          "United States",
          "France",
          "Brazil",
          "China",
          "United States",
          "United States",
          "United States",
          "United States",
          "France",
          "India",
          "China",
          "United States",
          "China",
          "China",
          "China",
          "United States",
          "Brazil",
          "United States",
          "United States",
          "China",
          "United States",
          "United States",
          "Singapore",
          "India",
          "United States",
          "Switzerland",
          "United States",
          "Germany",
          "Singapore",
          "United States",
          "China",
          "United States",
          "United States",
          "United States",
          "United States",
          "United States",
          "Singapore",
          "United Kingdom",
          "Israel",
          "Australia",
          "United States",
          "United States",
          "United States",
          "Japan",
          "China",
          "United Kingdom",
          "United States",
          "United States",
          "United States",
          "United States",
          "Germany",
          "United States",
          "United States",
          "United States",
          "Philippines",
          "United States",
          "United Kingdom",
          "United States",
          "Italy",
          "Switzerland",
          "United States",
          "United States",
          "France",
          "United States",
          "United States",
          "United States",
          "United States",
          "United States",
          "India",
          "United States",
          "United States",
          "United States",
          "United States",
          "United States",
          "United States",
          "United States",
          "United States",
          "United States",
          "France",
          "United States",
          "United States",
          "Canada",
          "China",
          "China",
          "United States",
          "United States",
          "United Kingdom",
          "United States",
          "United Kingdom",
          "United States",
          "United States",
          "United Kingdom",
          "Brazil",
          "United States",
          "India",
          "United States",
          "United States",
          "Canada",
          "Sweden",
          "United States",
          "United States",
          "United States",
          "United States",
          "Hong Kong",
          "China",
          "United States",
          "Indonesia",
          "China",
          "China",
          "United States",
          "China",
          "China",
          "China",
          "China",
          "United Kingdom",
          "United States"
         ],
         "type": "choropleth",
         "z": [
          1,
          8,
          2,
          1,
          3,
          1,
          16,
          19,
          2,
          173,
          2,
          1,
          1,
          2,
          2,
          4,
          24,
          26,
          6,
          65,
          6,
          5,
          20,
          1,
          5,
          1,
          1,
          1,
          6,
          6,
          1,
          4,
          2,
          1,
          12,
          2,
          12,
          3,
          6,
          5,
          2,
          3,
          3,
          43,
          562,
          2
         ]
        }
       ],
       "layout": {
        "geo": {
         "projection": {
          "type": "mercator"
         },
         "showframe": false
        },
        "template": {
         "data": {
          "bar": [
           {
            "error_x": {
             "color": "#2a3f5f"
            },
            "error_y": {
             "color": "#2a3f5f"
            },
            "marker": {
             "line": {
              "color": "#E5ECF6",
              "width": 0.5
             },
             "pattern": {
              "fillmode": "overlay",
              "size": 10,
              "solidity": 0.2
             }
            },
            "type": "bar"
           }
          ],
          "barpolar": [
           {
            "marker": {
             "line": {
              "color": "#E5ECF6",
              "width": 0.5
             },
             "pattern": {
              "fillmode": "overlay",
              "size": 10,
              "solidity": 0.2
             }
            },
            "type": "barpolar"
           }
          ],
          "carpet": [
           {
            "aaxis": {
             "endlinecolor": "#2a3f5f",
             "gridcolor": "white",
             "linecolor": "white",
             "minorgridcolor": "white",
             "startlinecolor": "#2a3f5f"
            },
            "baxis": {
             "endlinecolor": "#2a3f5f",
             "gridcolor": "white",
             "linecolor": "white",
             "minorgridcolor": "white",
             "startlinecolor": "#2a3f5f"
            },
            "type": "carpet"
           }
          ],
          "choropleth": [
           {
            "colorbar": {
             "outlinewidth": 0,
             "ticks": ""
            },
            "type": "choropleth"
           }
          ],
          "contour": [
           {
            "colorbar": {
             "outlinewidth": 0,
             "ticks": ""
            },
            "colorscale": [
             [
              0,
              "#0d0887"
             ],
             [
              0.1111111111111111,
              "#46039f"
             ],
             [
              0.2222222222222222,
              "#7201a8"
             ],
             [
              0.3333333333333333,
              "#9c179e"
             ],
             [
              0.4444444444444444,
              "#bd3786"
             ],
             [
              0.5555555555555556,
              "#d8576b"
             ],
             [
              0.6666666666666666,
              "#ed7953"
             ],
             [
              0.7777777777777778,
              "#fb9f3a"
             ],
             [
              0.8888888888888888,
              "#fdca26"
             ],
             [
              1,
              "#f0f921"
             ]
            ],
            "type": "contour"
           }
          ],
          "contourcarpet": [
           {
            "colorbar": {
             "outlinewidth": 0,
             "ticks": ""
            },
            "type": "contourcarpet"
           }
          ],
          "heatmap": [
           {
            "colorbar": {
             "outlinewidth": 0,
             "ticks": ""
            },
            "colorscale": [
             [
              0,
              "#0d0887"
             ],
             [
              0.1111111111111111,
              "#46039f"
             ],
             [
              0.2222222222222222,
              "#7201a8"
             ],
             [
              0.3333333333333333,
              "#9c179e"
             ],
             [
              0.4444444444444444,
              "#bd3786"
             ],
             [
              0.5555555555555556,
              "#d8576b"
             ],
             [
              0.6666666666666666,
              "#ed7953"
             ],
             [
              0.7777777777777778,
              "#fb9f3a"
             ],
             [
              0.8888888888888888,
              "#fdca26"
             ],
             [
              1,
              "#f0f921"
             ]
            ],
            "type": "heatmap"
           }
          ],
          "heatmapgl": [
           {
            "colorbar": {
             "outlinewidth": 0,
             "ticks": ""
            },
            "colorscale": [
             [
              0,
              "#0d0887"
             ],
             [
              0.1111111111111111,
              "#46039f"
             ],
             [
              0.2222222222222222,
              "#7201a8"
             ],
             [
              0.3333333333333333,
              "#9c179e"
             ],
             [
              0.4444444444444444,
              "#bd3786"
             ],
             [
              0.5555555555555556,
              "#d8576b"
             ],
             [
              0.6666666666666666,
              "#ed7953"
             ],
             [
              0.7777777777777778,
              "#fb9f3a"
             ],
             [
              0.8888888888888888,
              "#fdca26"
             ],
             [
              1,
              "#f0f921"
             ]
            ],
            "type": "heatmapgl"
           }
          ],
          "histogram": [
           {
            "marker": {
             "pattern": {
              "fillmode": "overlay",
              "size": 10,
              "solidity": 0.2
             }
            },
            "type": "histogram"
           }
          ],
          "histogram2d": [
           {
            "colorbar": {
             "outlinewidth": 0,
             "ticks": ""
            },
            "colorscale": [
             [
              0,
              "#0d0887"
             ],
             [
              0.1111111111111111,
              "#46039f"
             ],
             [
              0.2222222222222222,
              "#7201a8"
             ],
             [
              0.3333333333333333,
              "#9c179e"
             ],
             [
              0.4444444444444444,
              "#bd3786"
             ],
             [
              0.5555555555555556,
              "#d8576b"
             ],
             [
              0.6666666666666666,
              "#ed7953"
             ],
             [
              0.7777777777777778,
              "#fb9f3a"
             ],
             [
              0.8888888888888888,
              "#fdca26"
             ],
             [
              1,
              "#f0f921"
             ]
            ],
            "type": "histogram2d"
           }
          ],
          "histogram2dcontour": [
           {
            "colorbar": {
             "outlinewidth": 0,
             "ticks": ""
            },
            "colorscale": [
             [
              0,
              "#0d0887"
             ],
             [
              0.1111111111111111,
              "#46039f"
             ],
             [
              0.2222222222222222,
              "#7201a8"
             ],
             [
              0.3333333333333333,
              "#9c179e"
             ],
             [
              0.4444444444444444,
              "#bd3786"
             ],
             [
              0.5555555555555556,
              "#d8576b"
             ],
             [
              0.6666666666666666,
              "#ed7953"
             ],
             [
              0.7777777777777778,
              "#fb9f3a"
             ],
             [
              0.8888888888888888,
              "#fdca26"
             ],
             [
              1,
              "#f0f921"
             ]
            ],
            "type": "histogram2dcontour"
           }
          ],
          "mesh3d": [
           {
            "colorbar": {
             "outlinewidth": 0,
             "ticks": ""
            },
            "type": "mesh3d"
           }
          ],
          "parcoords": [
           {
            "line": {
             "colorbar": {
              "outlinewidth": 0,
              "ticks": ""
             }
            },
            "type": "parcoords"
           }
          ],
          "pie": [
           {
            "automargin": true,
            "type": "pie"
           }
          ],
          "scatter": [
           {
            "fillpattern": {
             "fillmode": "overlay",
             "size": 10,
             "solidity": 0.2
            },
            "type": "scatter"
           }
          ],
          "scatter3d": [
           {
            "line": {
             "colorbar": {
              "outlinewidth": 0,
              "ticks": ""
             }
            },
            "marker": {
             "colorbar": {
              "outlinewidth": 0,
              "ticks": ""
             }
            },
            "type": "scatter3d"
           }
          ],
          "scattercarpet": [
           {
            "marker": {
             "colorbar": {
              "outlinewidth": 0,
              "ticks": ""
             }
            },
            "type": "scattercarpet"
           }
          ],
          "scattergeo": [
           {
            "marker": {
             "colorbar": {
              "outlinewidth": 0,
              "ticks": ""
             }
            },
            "type": "scattergeo"
           }
          ],
          "scattergl": [
           {
            "marker": {
             "colorbar": {
              "outlinewidth": 0,
              "ticks": ""
             }
            },
            "type": "scattergl"
           }
          ],
          "scattermapbox": [
           {
            "marker": {
             "colorbar": {
              "outlinewidth": 0,
              "ticks": ""
             }
            },
            "type": "scattermapbox"
           }
          ],
          "scatterpolar": [
           {
            "marker": {
             "colorbar": {
              "outlinewidth": 0,
              "ticks": ""
             }
            },
            "type": "scatterpolar"
           }
          ],
          "scatterpolargl": [
           {
            "marker": {
             "colorbar": {
              "outlinewidth": 0,
              "ticks": ""
             }
            },
            "type": "scatterpolargl"
           }
          ],
          "scatterternary": [
           {
            "marker": {
             "colorbar": {
              "outlinewidth": 0,
              "ticks": ""
             }
            },
            "type": "scatterternary"
           }
          ],
          "surface": [
           {
            "colorbar": {
             "outlinewidth": 0,
             "ticks": ""
            },
            "colorscale": [
             [
              0,
              "#0d0887"
             ],
             [
              0.1111111111111111,
              "#46039f"
             ],
             [
              0.2222222222222222,
              "#7201a8"
             ],
             [
              0.3333333333333333,
              "#9c179e"
             ],
             [
              0.4444444444444444,
              "#bd3786"
             ],
             [
              0.5555555555555556,
              "#d8576b"
             ],
             [
              0.6666666666666666,
              "#ed7953"
             ],
             [
              0.7777777777777778,
              "#fb9f3a"
             ],
             [
              0.8888888888888888,
              "#fdca26"
             ],
             [
              1,
              "#f0f921"
             ]
            ],
            "type": "surface"
           }
          ],
          "table": [
           {
            "cells": {
             "fill": {
              "color": "#EBF0F8"
             },
             "line": {
              "color": "white"
             }
            },
            "header": {
             "fill": {
              "color": "#C8D4E3"
             },
             "line": {
              "color": "white"
             }
            },
            "type": "table"
           }
          ]
         },
         "layout": {
          "annotationdefaults": {
           "arrowcolor": "#2a3f5f",
           "arrowhead": 0,
           "arrowwidth": 1
          },
          "autotypenumbers": "strict",
          "coloraxis": {
           "colorbar": {
            "outlinewidth": 0,
            "ticks": ""
           }
          },
          "colorscale": {
           "diverging": [
            [
             0,
             "#8e0152"
            ],
            [
             0.1,
             "#c51b7d"
            ],
            [
             0.2,
             "#de77ae"
            ],
            [
             0.3,
             "#f1b6da"
            ],
            [
             0.4,
             "#fde0ef"
            ],
            [
             0.5,
             "#f7f7f7"
            ],
            [
             0.6,
             "#e6f5d0"
            ],
            [
             0.7,
             "#b8e186"
            ],
            [
             0.8,
             "#7fbc41"
            ],
            [
             0.9,
             "#4d9221"
            ],
            [
             1,
             "#276419"
            ]
           ],
           "sequential": [
            [
             0,
             "#0d0887"
            ],
            [
             0.1111111111111111,
             "#46039f"
            ],
            [
             0.2222222222222222,
             "#7201a8"
            ],
            [
             0.3333333333333333,
             "#9c179e"
            ],
            [
             0.4444444444444444,
             "#bd3786"
            ],
            [
             0.5555555555555556,
             "#d8576b"
            ],
            [
             0.6666666666666666,
             "#ed7953"
            ],
            [
             0.7777777777777778,
             "#fb9f3a"
            ],
            [
             0.8888888888888888,
             "#fdca26"
            ],
            [
             1,
             "#f0f921"
            ]
           ],
           "sequentialminus": [
            [
             0,
             "#0d0887"
            ],
            [
             0.1111111111111111,
             "#46039f"
            ],
            [
             0.2222222222222222,
             "#7201a8"
            ],
            [
             0.3333333333333333,
             "#9c179e"
            ],
            [
             0.4444444444444444,
             "#bd3786"
            ],
            [
             0.5555555555555556,
             "#d8576b"
            ],
            [
             0.6666666666666666,
             "#ed7953"
            ],
            [
             0.7777777777777778,
             "#fb9f3a"
            ],
            [
             0.8888888888888888,
             "#fdca26"
            ],
            [
             1,
             "#f0f921"
            ]
           ]
          },
          "colorway": [
           "#636efa",
           "#EF553B",
           "#00cc96",
           "#ab63fa",
           "#FFA15A",
           "#19d3f3",
           "#FF6692",
           "#B6E880",
           "#FF97FF",
           "#FECB52"
          ],
          "font": {
           "color": "#2a3f5f"
          },
          "geo": {
           "bgcolor": "white",
           "lakecolor": "white",
           "landcolor": "#E5ECF6",
           "showlakes": true,
           "showland": true,
           "subunitcolor": "white"
          },
          "hoverlabel": {
           "align": "left"
          },
          "hovermode": "closest",
          "mapbox": {
           "style": "light"
          },
          "paper_bgcolor": "white",
          "plot_bgcolor": "#E5ECF6",
          "polar": {
           "angularaxis": {
            "gridcolor": "white",
            "linecolor": "white",
            "ticks": ""
           },
           "bgcolor": "#E5ECF6",
           "radialaxis": {
            "gridcolor": "white",
            "linecolor": "white",
            "ticks": ""
           }
          },
          "scene": {
           "xaxis": {
            "backgroundcolor": "#E5ECF6",
            "gridcolor": "white",
            "gridwidth": 2,
            "linecolor": "white",
            "showbackground": true,
            "ticks": "",
            "zerolinecolor": "white"
           },
           "yaxis": {
            "backgroundcolor": "#E5ECF6",
            "gridcolor": "white",
            "gridwidth": 2,
            "linecolor": "white",
            "showbackground": true,
            "ticks": "",
            "zerolinecolor": "white"
           },
           "zaxis": {
            "backgroundcolor": "#E5ECF6",
            "gridcolor": "white",
            "gridwidth": 2,
            "linecolor": "white",
            "showbackground": true,
            "ticks": "",
            "zerolinecolor": "white"
           }
          },
          "shapedefaults": {
           "line": {
            "color": "#2a3f5f"
           }
          },
          "ternary": {
           "aaxis": {
            "gridcolor": "white",
            "linecolor": "white",
            "ticks": ""
           },
           "baxis": {
            "gridcolor": "white",
            "linecolor": "white",
            "ticks": ""
           },
           "bgcolor": "#E5ECF6",
           "caxis": {
            "gridcolor": "white",
            "linecolor": "white",
            "ticks": ""
           }
          },
          "title": {
           "x": 0.05
          },
          "xaxis": {
           "automargin": true,
           "gridcolor": "white",
           "linecolor": "white",
           "ticks": "",
           "title": {
            "standoff": 15
           },
           "zerolinecolor": "white",
           "zerolinewidth": 2
          },
          "yaxis": {
           "automargin": true,
           "gridcolor": "white",
           "linecolor": "white",
           "ticks": "",
           "title": {
            "standoff": 15
           },
           "zerolinecolor": "white",
           "zerolinewidth": 2
          }
         }
        },
        "title": {
         "text": "Unicorns by Country"
        }
       }
      },
      "text/html": [
       "<div>                            <div id=\"53506f4f-c193-4ab8-8895-c004235239b7\" class=\"plotly-graph-div\" style=\"height:525px; width:100%;\"></div>            <script type=\"text/javascript\">                require([\"plotly\"], function(Plotly) {                    window.PLOTLYENV=window.PLOTLYENV || {};                                    if (document.getElementById(\"53506f4f-c193-4ab8-8895-c004235239b7\")) {                    Plotly.newPlot(                        \"53506f4f-c193-4ab8-8895-c004235239b7\",                        [{\"colorbar\":{\"title\":{\"text\":\"Count\"}},\"colorscale\":[[0.0,\"rgb(0,0,131)\"],[0.2,\"rgb(0,60,170)\"],[0.4,\"rgb(5,255,255)\"],[0.6,\"rgb(255,255,0)\"],[0.8,\"rgb(250,0,0)\"],[1.0,\"rgb(128,0,0)\"]],\"locationmode\":\"country names\",\"locations\":[\"China\",\"United States\",\"China\",\"United States\",\"Sweden\",\"Australia\",\"United Kingdom\",\"United States\",\"United States\",\"United States\",\"United Kingdom\",\"United States\",\"Bahamas\",\"United States\",\"United States\",\"India\",\"Indonesia\",\"China\",\"United States\",\"China\",\"United Kingdom\",\"United States\",\"China\",\"United States\",\"United Kingdom\",\"United States\",\"United States\",\"United States\",\"United States\",\"United States\",\"Sweden\",\"United States\",\"United States\",\"United States\",\"Turkey\",\"United States\",\"China\",\"United States\",\"China\",\"China\",\"Estonia\",\"India\",\"China\",\"United Kingdom\",\"United States\",\"Germany\",\"China\",\"United States\",\"India\",\"United States\",\"United States\",\"United States\",\"China\",\"United States\",\"United States\",\"United States\",\"Hong Kong\",\"United States\",\"United States\",\"United States\",\"United States\",\"South Korea\",\"South Korea\",\"United States\",\"United States\",\"United States\",\"Mexico\",\"Germany\",\"United States\",\"United States\",\"United States\",\"India\",\"China\",\"United States\",\"India\",\"Canada\",\"United States\",\"United States\",\"United Kingdom\",\"United States\",\"United States\",\"United States\",\"United States\",\"United States\",\"India\",\"China\",\"United States\",\"India\",\"United States\",\"India\",\"United States\",\"United States\",\"South Korea\",\"China\",\"United States\",\"United States\",\"United States\",\"Canada\",\"United States\",\"United States\",\"United States\",\"United States\",\"United States\",\"China\",\"China\",\"China\",\"Australia\",\"United States\",\"Netherlands\",\"Netherlands\",\"France\",\"United States\",\"United States\",\"France\",\"United States\",\"United States\",\"Germany\",\"Finland\",\"United States\",\"United States\",\"United States\",\"China\",\"United States\",\"United States\",\"United States\",\"United States\",\"United States\",\"Israel\",\"India\",\"United Kingdom\",\"India\",\"China\",\"China\",\"China\",\"United Kingdom\",\"United States\",\"China\",\"Lithuania\",\"United Kingdom\",\"China\",\"United States\",\"United States\",\"United States\",\"United States\",\"United States\",\"Denmark\",\"Germany\",\"China\",\"Belgium\",\"Colombia\",\"United States\",\"United States\",\"Brazil\",\"United States\",\"Brazil\",\"Brazil\",\"United States\",\"Canada\",\"United States\",\"Israel\",\"India\",\"India\",\"India\",\"France\",\"United States\",\"China\",\"China\",\"United Kingdom\",\"China\",\"United Kingdom\",\"Singapore\",\"United States\",\"South Korea\",\"United States\",\"India\",\"United States\",\"China\",\"United States\",\"United States\",\"United States\",\"United States\",\"United States\",\"United States\",\"United States\",\"United States\",\"United States\",\"France\",\"United States\",\"United States\",\"Germany\",\"United States\",\"China\",\"United States\",\"United States\",\"United States\",\"United States\",\"United States\",\"United States\",\"United States\",\"United States\",\"United States\",\"India\",\"France\",\"United States\",\"United States\",\"United States\",\"United States\",\"United States\",\"United States\",\"United States\",\"United States\",\"United States\",\"United States\",\"United States\",\"United States\",\"Canada\",\"Austria\",\"United States\",\"United States\",\"China\",\"China\",\"United States\",\"United States\",\"Ireland\",\"United States\",\"United States\",\"United States\",\"United States\",\"United States\",\"China\",\"United States\",\"United States\",\"United States\",\"United States\",\"Canada\",\"United States\",\"United States\",\"United States\",\"United States\",\"United States\",\"China\",\"South Korea\",\"Singapore\",\"United States\",\"India\",\"United Arab Emirates\",\"China\",\"United States\",\"United Kingdom\",\"United States\",\"China\",\"Singapore\",\"Netherlands\",\"United States\",\"United States\",\"United States\",\"Switzerland\",\"United States\",\"China\",\"Israel\",\"India\",\"United States\",\"India\",\"Austria\",\"Australia\",\"India\",\"United States\",\"United States\",\"United States\",\"United States\",\"United States\",\"United States\",\"United States\",\"Finland\",\"India\",\"United States\",\"United States\",\"France\",\"United States\",\"United States\",\"United States\",\"United States\",\"United States\",\"United States\",\"United States\",\"China\",\"India\",\"India\",\"United States\",\"United States\",\"United States\",\"United States\",\"United States\",\"United States\",\"United States\",\"Israel\",\"United States\",\"United States\",\"Turkey\",\"United States\",\"United States\",\"United Kingdom\",\"Canada\",\"Canada\",\"United States\",\"France\",\"India\",\"United States\",\"United States\",\"United States\",\"United States\",\"United States\",\"India\",\"United States\",\"Germany\",\"United States\",\"United States\",\"Germany\",\"United States\",\"Brazil\",\"Brazil\",\"India\",\"United States\",\"United States\",\"United States\",\"Hong Kong\",\"United States\",\"United States\",\"United States\",\"United States\",\"United States\",\"United Kingdom\",\"Germany\",\"United States\",\"India\",\"Germany\",\"United States\",\"United States\",\"United States\",\"India\",\"United States\",\"China\",\"United States\",\"United States\",\"United States\",\"United States\",\"United States\",\"United States\",\"United States\",\"Vietnam\",\"China\",\"United States\",\"Indonesia\",\"Germany\",\"Brazil\",\"United States\",\"China\",\"United States\",\"United Kingdom\",\"United States\",\"China\",\"United States\",\"China\",\"China\",\"China\",\"China\",\"China\",\"China\",\"United States\",\"China\",\"China\",\"Israel\",\"India\",\"South Africa\",\"China\",\"China\",\"China\",\"United Kingdom\",\"United States\",\"United Kingdom\",\"India\",\"Switzerland\",\"Singapore\",\"United States\",\"Germany\",\"United States\",\"United Kingdom\",\"China\",\"United States\",\"United States\",\"United States\",\"United States\",\"United States\",\"Thailand\",\"United States\",\"United States\",\"United States\",\"Norway\",\"United States\",\"United States\",\"Australia\",\"United States\",\"India\",\"United Kingdom\",\"United States\",\"United States\",\"France\",\"United States\",\"United Kingdom\",\"United States\",\"United States\",\"Israel\",\"Chile\",\"Brazil\",\"United States\",\"United States\",\"United States\",\"United States\",\"United States\",\"United States\",\"Israel\",\"United States\",\"United States\",\"China\",\"United States\",\"United States\",\"Estonia\",\"United States\",\"United States\",\"United States\",\"United States\",\"India\",\"Argentina\",\"China\",\"China\",\"United States\",\"Bermuda\",\"United States\",\"United States\",\"China\",\"United States\",\"United States\",\"Canada\",\"United States\",\"United States\",\"United States\",\"United States\",\"United States\",\"United States\",\"United States\",\"United States\",\"Australia\",\"Japan\",\"United States\",\"United States\",\"United States\",\"United States\",\"Ireland\",\"China\",\"United States\",\"United States\",\"United States\",\"Israel\",\"Spain\",\"United States\",\"Germany\",\"South Korea\",\"France\",\"China\",\"France\",\"Malaysia\",\"United States\",\"India\",\"United States\",\"United States\",\"United Kingdom\",\"United States\",\"United States\",\"United States\",\"United States\",\"United States\",\"United States\",\"United States\",\"France\",\"Senegal\",\"United States\",\"United States\",\"United States\",\"United States\",\"Belgium\",\"United States\",\"United States\",\"Vietnam\",\"United States\",\"United States\",\"India\",\"Canada\",\"United States\",\"China\",\"Mexico\",\"United States\",\"United States\",\"United States\",\"China\",\"United States\",\"South Korea\",\"Germany\",\"United States\",\"United States\",\"United States\",\"Israel\",\"United States\",\"United States\",\"United Kingdom\",\"China\",\"United States\",\"China\",\"Brazil\",\"United States\",\"Germany\",\"United States\",\"United States\",\"India\",\"United States\",\"United States\",\"India\",\"Germany\",\"United Kingdom\",\"United States\",\"United States\",\"United States\",\"United States\",\"United States\",\"United Kingdom\",\"United States\",\"United States\",\"India\",\"United States\",\"United Kingdom\",\"France\",\"China\",\"Singapore\",\"Finland\",\"Indonesia\",\"United States\",\"United States\",\"United States\",\"United States\",\"France\",\"China\",\"Netherlands\",\"United States\",\"United States\",\"Canada\",\"United States\",\"Mexico\",\"United States\",\"United States\",\"United States\",\"United States\",\"United States\",\"United States\",\"France\",\"United States\",\"China\",\"United States\",\"China\",\"United States\",\"United States\",\"United States\",\"United States\",\"China\",\"Sweden\",\"Brazil\",\"United States\",\"Denmark\",\"China\",\"United States\",\"United States\",\"United States\",\"United States\",\"Philippines\",\"United States\",\"United States\",\"Luxembourg\",\"Nigeria\",\"United States\",\"Japan\",\"United States\",\"United States\",\"Japan\",\"United States\",\"Israel\",\"United States\",\"Germany\",\"Hong Kong\",\"United States\",\"United States\",\"United States\",\"China\",\"China\",\"China\",\"United Kingdom\",\"China\",\"United States\",\"South Korea\",\"United States\",\"South Africa\",\"China\",\"India\",\"China\",\"China\",\"Sweden\",\"United States\",\"United States\",\"United States\",\"United States\",\"United States\",\"China\",\"China\",\"China\",\"China\",\"China\",\"China\",\"China\",\"United States\",\"China\",\"China\",\"Colombia\",\"China\",\"India\",\"United States\",\"France\",\"United States\",\"China\",\"China\",\"United States\",\"China\",\"China\",\"China\",\"India\",\"United Kingdom\",\"China\",\"China\",\"China\",\"China\",\"United States\",\"United States\",\"China\",\"China\",\"China\",\"China\",\"China\",\"China\",\"China\",\"China\",\"France\",\"China\",\"China\",\"China\",\"United States\",\"United States\",\"United States\",\"China\",\"Israel\",\"China\",\"United States\",\"China\",\"United States\",\"India\",\"China\",\"United States\",\"China\",\"United States\",\"China\",\"France\",\"United States\",\"China\",\"China\",\"China\",\"China\",\"United States\",\"China\",\"United Kingdom\",\"United States\",\"China\",\"United States\",\"United States\",\"United States\",\"Spain\",\"United States\",\"United States\",\"France\",\"United States\",\"Belgium\",\"United States\",\"Sweden\",\"Canada\",\"Israel\",\"India\",\"United States\",\"United States\",\"China\",\"United States\",\"United States\",\"India\",\"India\",\"United States\",\"Germany\",\"United States\",\"United States\",\"United States\",\"United Kingdom\",\"United States\",\"China\",\"United States\",\"Brazil\",\"France\",\"United States\",\"United States\",\"Hong Kong\",\"China\",\"United States\",\"United Kingdom\",\"South Korea\",\"United States\",\"South Korea\",\"United States\",\"China\",\"China\",\"United States\",\"United States\",\"United States\",\"United States\",\"United States\",\"United States\",\"Israel\",\"United States\",\"United States\",\"Mexico\",\"Australia\",\"United States\",\"United States\",\"China\",\"United States\",\"Spain\",\"United States\",\"United States\",\"United Kingdom\",\"United States\",\"United States\",\"Ireland\",\"United States\",\"United States\",\"China\",\"United Kingdom\",\"United States\",\"United States\",\"United States\",\"Canada\",\"China\",\"Turkey\",\"Japan\",\"Canada\",\"United States\",\"United States\",\"United States\",\"India\",\"United States\",\"United States\",\"United States\",\"United States\",\"United States\",\"United States\",\"United States\",\"United States\",\"India\",\"Mexico\",\"United States\",\"India\",\"Norway\",\"United States\",\"United States\",\"United States\",\"United States\",\"United States\",\"United States\",\"Czech Republic\",\"United States\",\"China\",\"United States\",\"India\",\"Ireland\",\"India\",\"South Korea\",\"China\",\"China\",\"United States\",\"United States\",\"China\",\"United States\",\"United States\",\"United States\",\"United States\",\"United States\",\"United States\",\"United States\",\"China\",\"India\",\"India\",\"United States\",\"Singapore\",\"United States\",\"India\",\"United States\",\"Germany\",\"Canada\",\"United States\",\"United States\",\"United States\",\"China\",\"Germany\",\"India\",\"United States\",\"China\",\"United States\",\"India\",\"Switzerland\",\"United States\",\"United States\",\"United States\",\"Germany\",\"United States\",\"Germany\",\"United States\",\"United States\",\"United Kingdom\",\"United Kingdom\",\"China\",\"India\",\"United Kingdom\",\"India\",\"United States\",\"South Korea\",\"United States\",\"United States\",\"United States\",\"China\",\"Singapore\",\"United States\",\"United States\",\"Israel\",\"China\",\"China\",\"China\",\"Germany\",\"China\",\"United States\",\"Indonesia\",\"United States\",\"India\",\"United States\",\"United States\",\"United States\",\"United States\",\"Israel\",\"United States\",\"Canada\",\"United States\",\"Canada\",\"United States\",\"China\",\"China\",\"United Kingdom\",\"Germany\",\"Chile\",\"Netherlands\",\"India\",\"United States\",\"United States\",\"Singapore\",\"United States\",\"Israel\",\"United States\",\"United States\",\"United States\",\"United States\",\"United States\",\"Brazil\",\"Singapore\",\"United States\",\"United States\",\"United States\",\"Hong Kong\",\"Mexico\",\"United States\",\"United States\",\"United States\",\"India\",\"France\",\"China\",\"United States\",\"Israel\",\"Norway\",\"China\",\"Brazil\",\"China\",\"United States\",\"United Arab Emirates\",\"United States\",\"United States\",\"United States\",\"United States\",\"United States\",\"United States\",\"China\",\"United States\",\"Thailand\",\"China\",\"India\",\"Canada\",\"China\",\"United States\",\"China\",\"Norway\",\"United States\",\"Australia\",\"United States\",\"Israel\",\"China\",\"India\",\"China\",\"United States\",\"Finland\",\"Netherlands\",\"China\",\"United States\",\"United States\",\"China\",\"Brazil\",\"Germany\",\"Croatia\",\"United States\",\"China\",\"United States\",\"United States\",\"Israel\",\"United States\",\"United Arab Emirates\",\"China\",\"Indonesia\",\"China\",\"United States\",\"United States\",\"Ireland\",\"India\",\"China\",\"United States\",\"United States\",\"France\",\"Brazil\",\"China\",\"United States\",\"United States\",\"United States\",\"United States\",\"France\",\"India\",\"China\",\"United States\",\"China\",\"China\",\"China\",\"United States\",\"Brazil\",\"United States\",\"United States\",\"China\",\"United States\",\"United States\",\"Singapore\",\"India\",\"United States\",\"Switzerland\",\"United States\",\"Germany\",\"Singapore\",\"United States\",\"China\",\"United States\",\"United States\",\"United States\",\"United States\",\"United States\",\"Singapore\",\"United Kingdom\",\"Israel\",\"Australia\",\"United States\",\"United States\",\"United States\",\"Japan\",\"China\",\"United Kingdom\",\"United States\",\"United States\",\"United States\",\"United States\",\"Germany\",\"United States\",\"United States\",\"United States\",\"Philippines\",\"United States\",\"United Kingdom\",\"United States\",\"Italy\",\"Switzerland\",\"United States\",\"United States\",\"France\",\"United States\",\"United States\",\"United States\",\"United States\",\"United States\",\"India\",\"United States\",\"United States\",\"United States\",\"United States\",\"United States\",\"United States\",\"United States\",\"United States\",\"United States\",\"France\",\"United States\",\"United States\",\"Canada\",\"China\",\"China\",\"United States\",\"United States\",\"United Kingdom\",\"United States\",\"United Kingdom\",\"United States\",\"United States\",\"United Kingdom\",\"Brazil\",\"United States\",\"India\",\"United States\",\"United States\",\"Canada\",\"Sweden\",\"United States\",\"United States\",\"United States\",\"United States\",\"Hong Kong\",\"China\",\"United States\",\"Indonesia\",\"China\",\"China\",\"United States\",\"China\",\"China\",\"China\",\"China\",\"United Kingdom\",\"United States\"],\"text\":[\"China\",\"United States\",\"China\",\"United States\",\"Sweden\",\"Australia\",\"United Kingdom\",\"United States\",\"United States\",\"United States\",\"United Kingdom\",\"United States\",\"Bahamas\",\"United States\",\"United States\",\"India\",\"Indonesia\",\"China\",\"United States\",\"China\",\"United Kingdom\",\"United States\",\"China\",\"United States\",\"United Kingdom\",\"United States\",\"United States\",\"United States\",\"United States\",\"United States\",\"Sweden\",\"United States\",\"United States\",\"United States\",\"Turkey\",\"United States\",\"China\",\"United States\",\"China\",\"China\",\"Estonia\",\"India\",\"China\",\"United Kingdom\",\"United States\",\"Germany\",\"China\",\"United States\",\"India\",\"United States\",\"United States\",\"United States\",\"China\",\"United States\",\"United States\",\"United States\",\"Hong Kong\",\"United States\",\"United States\",\"United States\",\"United States\",\"South Korea\",\"South Korea\",\"United States\",\"United States\",\"United States\",\"Mexico\",\"Germany\",\"United States\",\"United States\",\"United States\",\"India\",\"China\",\"United States\",\"India\",\"Canada\",\"United States\",\"United States\",\"United Kingdom\",\"United States\",\"United States\",\"United States\",\"United States\",\"United States\",\"India\",\"China\",\"United States\",\"India\",\"United States\",\"India\",\"United States\",\"United States\",\"South Korea\",\"China\",\"United States\",\"United States\",\"United States\",\"Canada\",\"United States\",\"United States\",\"United States\",\"United States\",\"United States\",\"China\",\"China\",\"China\",\"Australia\",\"United States\",\"Netherlands\",\"Netherlands\",\"France\",\"United States\",\"United States\",\"France\",\"United States\",\"United States\",\"Germany\",\"Finland\",\"United States\",\"United States\",\"United States\",\"China\",\"United States\",\"United States\",\"United States\",\"United States\",\"United States\",\"Israel\",\"India\",\"United Kingdom\",\"India\",\"China\",\"China\",\"China\",\"United Kingdom\",\"United States\",\"China\",\"Lithuania\",\"United Kingdom\",\"China\",\"United States\",\"United States\",\"United States\",\"United States\",\"United States\",\"Denmark\",\"Germany\",\"China\",\"Belgium\",\"Colombia\",\"United States\",\"United States\",\"Brazil\",\"United States\",\"Brazil\",\"Brazil\",\"United States\",\"Canada\",\"United States\",\"Israel\",\"India\",\"India\",\"India\",\"France\",\"United States\",\"China\",\"China\",\"United Kingdom\",\"China\",\"United Kingdom\",\"Singapore\",\"United States\",\"South Korea\",\"United States\",\"India\",\"United States\",\"China\",\"United States\",\"United States\",\"United States\",\"United States\",\"United States\",\"United States\",\"United States\",\"United States\",\"United States\",\"France\",\"United States\",\"United States\",\"Germany\",\"United States\",\"China\",\"United States\",\"United States\",\"United States\",\"United States\",\"United States\",\"United States\",\"United States\",\"United States\",\"United States\",\"India\",\"France\",\"United States\",\"United States\",\"United States\",\"United States\",\"United States\",\"United States\",\"United States\",\"United States\",\"United States\",\"United States\",\"United States\",\"United States\",\"Canada\",\"Austria\",\"United States\",\"United States\",\"China\",\"China\",\"United States\",\"United States\",\"Ireland\",\"United States\",\"United States\",\"United States\",\"United States\",\"United States\",\"China\",\"United States\",\"United States\",\"United States\",\"United States\",\"Canada\",\"United States\",\"United States\",\"United States\",\"United States\",\"United States\",\"China\",\"South Korea\",\"Singapore\",\"United States\",\"India\",\"United Arab Emirates\",\"China\",\"United States\",\"United Kingdom\",\"United States\",\"China\",\"Singapore\",\"Netherlands\",\"United States\",\"United States\",\"United States\",\"Switzerland\",\"United States\",\"China\",\"Israel\",\"India\",\"United States\",\"India\",\"Austria\",\"Australia\",\"India\",\"United States\",\"United States\",\"United States\",\"United States\",\"United States\",\"United States\",\"United States\",\"Finland\",\"India\",\"United States\",\"United States\",\"France\",\"United States\",\"United States\",\"United States\",\"United States\",\"United States\",\"United States\",\"United States\",\"China\",\"India\",\"India\",\"United States\",\"United States\",\"United States\",\"United States\",\"United States\",\"United States\",\"United States\",\"Israel\",\"United States\",\"United States\",\"Turkey\",\"United States\",\"United States\",\"United Kingdom\",\"Canada\",\"Canada\",\"United States\",\"France\",\"India\",\"United States\",\"United States\",\"United States\",\"United States\",\"United States\",\"India\",\"United States\",\"Germany\",\"United States\",\"United States\",\"Germany\",\"United States\",\"Brazil\",\"Brazil\",\"India\",\"United States\",\"United States\",\"United States\",\"Hong Kong\",\"United States\",\"United States\",\"United States\",\"United States\",\"United States\",\"United Kingdom\",\"Germany\",\"United States\",\"India\",\"Germany\",\"United States\",\"United States\",\"United States\",\"India\",\"United States\",\"China\",\"United States\",\"United States\",\"United States\",\"United States\",\"United States\",\"United States\",\"United States\",\"Vietnam\",\"China\",\"United States\",\"Indonesia\",\"Germany\",\"Brazil\",\"United States\",\"China\",\"United States\",\"United Kingdom\",\"United States\",\"China\",\"United States\",\"China\",\"China\",\"China\",\"China\",\"China\",\"China\",\"United States\",\"China\",\"China\",\"Israel\",\"India\",\"South Africa\",\"China\",\"China\",\"China\",\"United Kingdom\",\"United States\",\"United Kingdom\",\"India\",\"Switzerland\",\"Singapore\",\"United States\",\"Germany\",\"United States\",\"United Kingdom\",\"China\",\"United States\",\"United States\",\"United States\",\"United States\",\"United States\",\"Thailand\",\"United States\",\"United States\",\"United States\",\"Norway\",\"United States\",\"United States\",\"Australia\",\"United States\",\"India\",\"United Kingdom\",\"United States\",\"United States\",\"France\",\"United States\",\"United Kingdom\",\"United States\",\"United States\",\"Israel\",\"Chile\",\"Brazil\",\"United States\",\"United States\",\"United States\",\"United States\",\"United States\",\"United States\",\"Israel\",\"United States\",\"United States\",\"China\",\"United States\",\"United States\",\"Estonia\",\"United States\",\"United States\",\"United States\",\"United States\",\"India\",\"Argentina\",\"China\",\"China\",\"United States\",\"Bermuda\",\"United States\",\"United States\",\"China\",\"United States\",\"United States\",\"Canada\",\"United States\",\"United States\",\"United States\",\"United States\",\"United States\",\"United States\",\"United States\",\"United States\",\"Australia\",\"Japan\",\"United States\",\"United States\",\"United States\",\"United States\",\"Ireland\",\"China\",\"United States\",\"United States\",\"United States\",\"Israel\",\"Spain\",\"United States\",\"Germany\",\"South Korea\",\"France\",\"China\",\"France\",\"Malaysia\",\"United States\",\"India\",\"United States\",\"United States\",\"United Kingdom\",\"United States\",\"United States\",\"United States\",\"United States\",\"United States\",\"United States\",\"United States\",\"France\",\"Senegal\",\"United States\",\"United States\",\"United States\",\"United States\",\"Belgium\",\"United States\",\"United States\",\"Vietnam\",\"United States\",\"United States\",\"India\",\"Canada\",\"United States\",\"China\",\"Mexico\",\"United States\",\"United States\",\"United States\",\"China\",\"United States\",\"South Korea\",\"Germany\",\"United States\",\"United States\",\"United States\",\"Israel\",\"United States\",\"United States\",\"United Kingdom\",\"China\",\"United States\",\"China\",\"Brazil\",\"United States\",\"Germany\",\"United States\",\"United States\",\"India\",\"United States\",\"United States\",\"India\",\"Germany\",\"United Kingdom\",\"United States\",\"United States\",\"United States\",\"United States\",\"United States\",\"United Kingdom\",\"United States\",\"United States\",\"India\",\"United States\",\"United Kingdom\",\"France\",\"China\",\"Singapore\",\"Finland\",\"Indonesia\",\"United States\",\"United States\",\"United States\",\"United States\",\"France\",\"China\",\"Netherlands\",\"United States\",\"United States\",\"Canada\",\"United States\",\"Mexico\",\"United States\",\"United States\",\"United States\",\"United States\",\"United States\",\"United States\",\"France\",\"United States\",\"China\",\"United States\",\"China\",\"United States\",\"United States\",\"United States\",\"United States\",\"China\",\"Sweden\",\"Brazil\",\"United States\",\"Denmark\",\"China\",\"United States\",\"United States\",\"United States\",\"United States\",\"Philippines\",\"United States\",\"United States\",\"Luxembourg\",\"Nigeria\",\"United States\",\"Japan\",\"United States\",\"United States\",\"Japan\",\"United States\",\"Israel\",\"United States\",\"Germany\",\"Hong Kong\",\"United States\",\"United States\",\"United States\",\"China\",\"China\",\"China\",\"United Kingdom\",\"China\",\"United States\",\"South Korea\",\"United States\",\"South Africa\",\"China\",\"India\",\"China\",\"China\",\"Sweden\",\"United States\",\"United States\",\"United States\",\"United States\",\"United States\",\"China\",\"China\",\"China\",\"China\",\"China\",\"China\",\"China\",\"United States\",\"China\",\"China\",\"Colombia\",\"China\",\"India\",\"United States\",\"France\",\"United States\",\"China\",\"China\",\"United States\",\"China\",\"China\",\"China\",\"India\",\"United Kingdom\",\"China\",\"China\",\"China\",\"China\",\"United States\",\"United States\",\"China\",\"China\",\"China\",\"China\",\"China\",\"China\",\"China\",\"China\",\"France\",\"China\",\"China\",\"China\",\"United States\",\"United States\",\"United States\",\"China\",\"Israel\",\"China\",\"United States\",\"China\",\"United States\",\"India\",\"China\",\"United States\",\"China\",\"United States\",\"China\",\"France\",\"United States\",\"China\",\"China\",\"China\",\"China\",\"United States\",\"China\",\"United Kingdom\",\"United States\",\"China\",\"United States\",\"United States\",\"United States\",\"Spain\",\"United States\",\"United States\",\"France\",\"United States\",\"Belgium\",\"United States\",\"Sweden\",\"Canada\",\"Israel\",\"India\",\"United States\",\"United States\",\"China\",\"United States\",\"United States\",\"India\",\"India\",\"United States\",\"Germany\",\"United States\",\"United States\",\"United States\",\"United Kingdom\",\"United States\",\"China\",\"United States\",\"Brazil\",\"France\",\"United States\",\"United States\",\"Hong Kong\",\"China\",\"United States\",\"United Kingdom\",\"South Korea\",\"United States\",\"South Korea\",\"United States\",\"China\",\"China\",\"United States\",\"United States\",\"United States\",\"United States\",\"United States\",\"United States\",\"Israel\",\"United States\",\"United States\",\"Mexico\",\"Australia\",\"United States\",\"United States\",\"China\",\"United States\",\"Spain\",\"United States\",\"United States\",\"United Kingdom\",\"United States\",\"United States\",\"Ireland\",\"United States\",\"United States\",\"China\",\"United Kingdom\",\"United States\",\"United States\",\"United States\",\"Canada\",\"China\",\"Turkey\",\"Japan\",\"Canada\",\"United States\",\"United States\",\"United States\",\"India\",\"United States\",\"United States\",\"United States\",\"United States\",\"United States\",\"United States\",\"United States\",\"United States\",\"India\",\"Mexico\",\"United States\",\"India\",\"Norway\",\"United States\",\"United States\",\"United States\",\"United States\",\"United States\",\"United States\",\"Czech Republic\",\"United States\",\"China\",\"United States\",\"India\",\"Ireland\",\"India\",\"South Korea\",\"China\",\"China\",\"United States\",\"United States\",\"China\",\"United States\",\"United States\",\"United States\",\"United States\",\"United States\",\"United States\",\"United States\",\"China\",\"India\",\"India\",\"United States\",\"Singapore\",\"United States\",\"India\",\"United States\",\"Germany\",\"Canada\",\"United States\",\"United States\",\"United States\",\"China\",\"Germany\",\"India\",\"United States\",\"China\",\"United States\",\"India\",\"Switzerland\",\"United States\",\"United States\",\"United States\",\"Germany\",\"United States\",\"Germany\",\"United States\",\"United States\",\"United Kingdom\",\"United Kingdom\",\"China\",\"India\",\"United Kingdom\",\"India\",\"United States\",\"South Korea\",\"United States\",\"United States\",\"United States\",\"China\",\"Singapore\",\"United States\",\"United States\",\"Israel\",\"China\",\"China\",\"China\",\"Germany\",\"China\",\"United States\",\"Indonesia\",\"United States\",\"India\",\"United States\",\"United States\",\"United States\",\"United States\",\"Israel\",\"United States\",\"Canada\",\"United States\",\"Canada\",\"United States\",\"China\",\"China\",\"United Kingdom\",\"Germany\",\"Chile\",\"Netherlands\",\"India\",\"United States\",\"United States\",\"Singapore\",\"United States\",\"Israel\",\"United States\",\"United States\",\"United States\",\"United States\",\"United States\",\"Brazil\",\"Singapore\",\"United States\",\"United States\",\"United States\",\"Hong Kong\",\"Mexico\",\"United States\",\"United States\",\"United States\",\"India\",\"France\",\"China\",\"United States\",\"Israel\",\"Norway\",\"China\",\"Brazil\",\"China\",\"United States\",\"United Arab Emirates\",\"United States\",\"United States\",\"United States\",\"United States\",\"United States\",\"United States\",\"China\",\"United States\",\"Thailand\",\"China\",\"India\",\"Canada\",\"China\",\"United States\",\"China\",\"Norway\",\"United States\",\"Australia\",\"United States\",\"Israel\",\"China\",\"India\",\"China\",\"United States\",\"Finland\",\"Netherlands\",\"China\",\"United States\",\"United States\",\"China\",\"Brazil\",\"Germany\",\"Croatia\",\"United States\",\"China\",\"United States\",\"United States\",\"Israel\",\"United States\",\"United Arab Emirates\",\"China\",\"Indonesia\",\"China\",\"United States\",\"United States\",\"Ireland\",\"India\",\"China\",\"United States\",\"United States\",\"France\",\"Brazil\",\"China\",\"United States\",\"United States\",\"United States\",\"United States\",\"France\",\"India\",\"China\",\"United States\",\"China\",\"China\",\"China\",\"United States\",\"Brazil\",\"United States\",\"United States\",\"China\",\"United States\",\"United States\",\"Singapore\",\"India\",\"United States\",\"Switzerland\",\"United States\",\"Germany\",\"Singapore\",\"United States\",\"China\",\"United States\",\"United States\",\"United States\",\"United States\",\"United States\",\"Singapore\",\"United Kingdom\",\"Israel\",\"Australia\",\"United States\",\"United States\",\"United States\",\"Japan\",\"China\",\"United Kingdom\",\"United States\",\"United States\",\"United States\",\"United States\",\"Germany\",\"United States\",\"United States\",\"United States\",\"Philippines\",\"United States\",\"United Kingdom\",\"United States\",\"Italy\",\"Switzerland\",\"United States\",\"United States\",\"France\",\"United States\",\"United States\",\"United States\",\"United States\",\"United States\",\"India\",\"United States\",\"United States\",\"United States\",\"United States\",\"United States\",\"United States\",\"United States\",\"United States\",\"United States\",\"France\",\"United States\",\"United States\",\"Canada\",\"China\",\"China\",\"United States\",\"United States\",\"United Kingdom\",\"United States\",\"United Kingdom\",\"United States\",\"United States\",\"United Kingdom\",\"Brazil\",\"United States\",\"India\",\"United States\",\"United States\",\"Canada\",\"Sweden\",\"United States\",\"United States\",\"United States\",\"United States\",\"Hong Kong\",\"China\",\"United States\",\"Indonesia\",\"China\",\"China\",\"United States\",\"China\",\"China\",\"China\",\"China\",\"United Kingdom\",\"United States\"],\"z\":[1,8,2,1,3,1,16,19,2,173,2,1,1,2,2,4,24,26,6,65,6,5,20,1,5,1,1,1,6,6,1,4,2,1,12,2,12,3,6,5,2,3,3,43,562,2],\"type\":\"choropleth\"}],                        {\"geo\":{\"projection\":{\"type\":\"mercator\"},\"showframe\":false},\"template\":{\"data\":{\"barpolar\":[{\"marker\":{\"line\":{\"color\":\"#E5ECF6\",\"width\":0.5},\"pattern\":{\"fillmode\":\"overlay\",\"size\":10,\"solidity\":0.2}},\"type\":\"barpolar\"}],\"bar\":[{\"error_x\":{\"color\":\"#2a3f5f\"},\"error_y\":{\"color\":\"#2a3f5f\"},\"marker\":{\"line\":{\"color\":\"#E5ECF6\",\"width\":0.5},\"pattern\":{\"fillmode\":\"overlay\",\"size\":10,\"solidity\":0.2}},\"type\":\"bar\"}],\"carpet\":[{\"aaxis\":{\"endlinecolor\":\"#2a3f5f\",\"gridcolor\":\"white\",\"linecolor\":\"white\",\"minorgridcolor\":\"white\",\"startlinecolor\":\"#2a3f5f\"},\"baxis\":{\"endlinecolor\":\"#2a3f5f\",\"gridcolor\":\"white\",\"linecolor\":\"white\",\"minorgridcolor\":\"white\",\"startlinecolor\":\"#2a3f5f\"},\"type\":\"carpet\"}],\"choropleth\":[{\"colorbar\":{\"outlinewidth\":0,\"ticks\":\"\"},\"type\":\"choropleth\"}],\"contourcarpet\":[{\"colorbar\":{\"outlinewidth\":0,\"ticks\":\"\"},\"type\":\"contourcarpet\"}],\"contour\":[{\"colorbar\":{\"outlinewidth\":0,\"ticks\":\"\"},\"colorscale\":[[0.0,\"#0d0887\"],[0.1111111111111111,\"#46039f\"],[0.2222222222222222,\"#7201a8\"],[0.3333333333333333,\"#9c179e\"],[0.4444444444444444,\"#bd3786\"],[0.5555555555555556,\"#d8576b\"],[0.6666666666666666,\"#ed7953\"],[0.7777777777777778,\"#fb9f3a\"],[0.8888888888888888,\"#fdca26\"],[1.0,\"#f0f921\"]],\"type\":\"contour\"}],\"heatmapgl\":[{\"colorbar\":{\"outlinewidth\":0,\"ticks\":\"\"},\"colorscale\":[[0.0,\"#0d0887\"],[0.1111111111111111,\"#46039f\"],[0.2222222222222222,\"#7201a8\"],[0.3333333333333333,\"#9c179e\"],[0.4444444444444444,\"#bd3786\"],[0.5555555555555556,\"#d8576b\"],[0.6666666666666666,\"#ed7953\"],[0.7777777777777778,\"#fb9f3a\"],[0.8888888888888888,\"#fdca26\"],[1.0,\"#f0f921\"]],\"type\":\"heatmapgl\"}],\"heatmap\":[{\"colorbar\":{\"outlinewidth\":0,\"ticks\":\"\"},\"colorscale\":[[0.0,\"#0d0887\"],[0.1111111111111111,\"#46039f\"],[0.2222222222222222,\"#7201a8\"],[0.3333333333333333,\"#9c179e\"],[0.4444444444444444,\"#bd3786\"],[0.5555555555555556,\"#d8576b\"],[0.6666666666666666,\"#ed7953\"],[0.7777777777777778,\"#fb9f3a\"],[0.8888888888888888,\"#fdca26\"],[1.0,\"#f0f921\"]],\"type\":\"heatmap\"}],\"histogram2dcontour\":[{\"colorbar\":{\"outlinewidth\":0,\"ticks\":\"\"},\"colorscale\":[[0.0,\"#0d0887\"],[0.1111111111111111,\"#46039f\"],[0.2222222222222222,\"#7201a8\"],[0.3333333333333333,\"#9c179e\"],[0.4444444444444444,\"#bd3786\"],[0.5555555555555556,\"#d8576b\"],[0.6666666666666666,\"#ed7953\"],[0.7777777777777778,\"#fb9f3a\"],[0.8888888888888888,\"#fdca26\"],[1.0,\"#f0f921\"]],\"type\":\"histogram2dcontour\"}],\"histogram2d\":[{\"colorbar\":{\"outlinewidth\":0,\"ticks\":\"\"},\"colorscale\":[[0.0,\"#0d0887\"],[0.1111111111111111,\"#46039f\"],[0.2222222222222222,\"#7201a8\"],[0.3333333333333333,\"#9c179e\"],[0.4444444444444444,\"#bd3786\"],[0.5555555555555556,\"#d8576b\"],[0.6666666666666666,\"#ed7953\"],[0.7777777777777778,\"#fb9f3a\"],[0.8888888888888888,\"#fdca26\"],[1.0,\"#f0f921\"]],\"type\":\"histogram2d\"}],\"histogram\":[{\"marker\":{\"pattern\":{\"fillmode\":\"overlay\",\"size\":10,\"solidity\":0.2}},\"type\":\"histogram\"}],\"mesh3d\":[{\"colorbar\":{\"outlinewidth\":0,\"ticks\":\"\"},\"type\":\"mesh3d\"}],\"parcoords\":[{\"line\":{\"colorbar\":{\"outlinewidth\":0,\"ticks\":\"\"}},\"type\":\"parcoords\"}],\"pie\":[{\"automargin\":true,\"type\":\"pie\"}],\"scatter3d\":[{\"line\":{\"colorbar\":{\"outlinewidth\":0,\"ticks\":\"\"}},\"marker\":{\"colorbar\":{\"outlinewidth\":0,\"ticks\":\"\"}},\"type\":\"scatter3d\"}],\"scattercarpet\":[{\"marker\":{\"colorbar\":{\"outlinewidth\":0,\"ticks\":\"\"}},\"type\":\"scattercarpet\"}],\"scattergeo\":[{\"marker\":{\"colorbar\":{\"outlinewidth\":0,\"ticks\":\"\"}},\"type\":\"scattergeo\"}],\"scattergl\":[{\"marker\":{\"colorbar\":{\"outlinewidth\":0,\"ticks\":\"\"}},\"type\":\"scattergl\"}],\"scattermapbox\":[{\"marker\":{\"colorbar\":{\"outlinewidth\":0,\"ticks\":\"\"}},\"type\":\"scattermapbox\"}],\"scatterpolargl\":[{\"marker\":{\"colorbar\":{\"outlinewidth\":0,\"ticks\":\"\"}},\"type\":\"scatterpolargl\"}],\"scatterpolar\":[{\"marker\":{\"colorbar\":{\"outlinewidth\":0,\"ticks\":\"\"}},\"type\":\"scatterpolar\"}],\"scatter\":[{\"fillpattern\":{\"fillmode\":\"overlay\",\"size\":10,\"solidity\":0.2},\"type\":\"scatter\"}],\"scatterternary\":[{\"marker\":{\"colorbar\":{\"outlinewidth\":0,\"ticks\":\"\"}},\"type\":\"scatterternary\"}],\"surface\":[{\"colorbar\":{\"outlinewidth\":0,\"ticks\":\"\"},\"colorscale\":[[0.0,\"#0d0887\"],[0.1111111111111111,\"#46039f\"],[0.2222222222222222,\"#7201a8\"],[0.3333333333333333,\"#9c179e\"],[0.4444444444444444,\"#bd3786\"],[0.5555555555555556,\"#d8576b\"],[0.6666666666666666,\"#ed7953\"],[0.7777777777777778,\"#fb9f3a\"],[0.8888888888888888,\"#fdca26\"],[1.0,\"#f0f921\"]],\"type\":\"surface\"}],\"table\":[{\"cells\":{\"fill\":{\"color\":\"#EBF0F8\"},\"line\":{\"color\":\"white\"}},\"header\":{\"fill\":{\"color\":\"#C8D4E3\"},\"line\":{\"color\":\"white\"}},\"type\":\"table\"}]},\"layout\":{\"annotationdefaults\":{\"arrowcolor\":\"#2a3f5f\",\"arrowhead\":0,\"arrowwidth\":1},\"autotypenumbers\":\"strict\",\"coloraxis\":{\"colorbar\":{\"outlinewidth\":0,\"ticks\":\"\"}},\"colorscale\":{\"diverging\":[[0,\"#8e0152\"],[0.1,\"#c51b7d\"],[0.2,\"#de77ae\"],[0.3,\"#f1b6da\"],[0.4,\"#fde0ef\"],[0.5,\"#f7f7f7\"],[0.6,\"#e6f5d0\"],[0.7,\"#b8e186\"],[0.8,\"#7fbc41\"],[0.9,\"#4d9221\"],[1,\"#276419\"]],\"sequential\":[[0.0,\"#0d0887\"],[0.1111111111111111,\"#46039f\"],[0.2222222222222222,\"#7201a8\"],[0.3333333333333333,\"#9c179e\"],[0.4444444444444444,\"#bd3786\"],[0.5555555555555556,\"#d8576b\"],[0.6666666666666666,\"#ed7953\"],[0.7777777777777778,\"#fb9f3a\"],[0.8888888888888888,\"#fdca26\"],[1.0,\"#f0f921\"]],\"sequentialminus\":[[0.0,\"#0d0887\"],[0.1111111111111111,\"#46039f\"],[0.2222222222222222,\"#7201a8\"],[0.3333333333333333,\"#9c179e\"],[0.4444444444444444,\"#bd3786\"],[0.5555555555555556,\"#d8576b\"],[0.6666666666666666,\"#ed7953\"],[0.7777777777777778,\"#fb9f3a\"],[0.8888888888888888,\"#fdca26\"],[1.0,\"#f0f921\"]]},\"colorway\":[\"#636efa\",\"#EF553B\",\"#00cc96\",\"#ab63fa\",\"#FFA15A\",\"#19d3f3\",\"#FF6692\",\"#B6E880\",\"#FF97FF\",\"#FECB52\"],\"font\":{\"color\":\"#2a3f5f\"},\"geo\":{\"bgcolor\":\"white\",\"lakecolor\":\"white\",\"landcolor\":\"#E5ECF6\",\"showlakes\":true,\"showland\":true,\"subunitcolor\":\"white\"},\"hoverlabel\":{\"align\":\"left\"},\"hovermode\":\"closest\",\"mapbox\":{\"style\":\"light\"},\"paper_bgcolor\":\"white\",\"plot_bgcolor\":\"#E5ECF6\",\"polar\":{\"angularaxis\":{\"gridcolor\":\"white\",\"linecolor\":\"white\",\"ticks\":\"\"},\"bgcolor\":\"#E5ECF6\",\"radialaxis\":{\"gridcolor\":\"white\",\"linecolor\":\"white\",\"ticks\":\"\"}},\"scene\":{\"xaxis\":{\"backgroundcolor\":\"#E5ECF6\",\"gridcolor\":\"white\",\"gridwidth\":2,\"linecolor\":\"white\",\"showbackground\":true,\"ticks\":\"\",\"zerolinecolor\":\"white\"},\"yaxis\":{\"backgroundcolor\":\"#E5ECF6\",\"gridcolor\":\"white\",\"gridwidth\":2,\"linecolor\":\"white\",\"showbackground\":true,\"ticks\":\"\",\"zerolinecolor\":\"white\"},\"zaxis\":{\"backgroundcolor\":\"#E5ECF6\",\"gridcolor\":\"white\",\"gridwidth\":2,\"linecolor\":\"white\",\"showbackground\":true,\"ticks\":\"\",\"zerolinecolor\":\"white\"}},\"shapedefaults\":{\"line\":{\"color\":\"#2a3f5f\"}},\"ternary\":{\"aaxis\":{\"gridcolor\":\"white\",\"linecolor\":\"white\",\"ticks\":\"\"},\"baxis\":{\"gridcolor\":\"white\",\"linecolor\":\"white\",\"ticks\":\"\"},\"bgcolor\":\"#E5ECF6\",\"caxis\":{\"gridcolor\":\"white\",\"linecolor\":\"white\",\"ticks\":\"\"}},\"title\":{\"x\":0.05},\"xaxis\":{\"automargin\":true,\"gridcolor\":\"white\",\"linecolor\":\"white\",\"ticks\":\"\",\"title\":{\"standoff\":15},\"zerolinecolor\":\"white\",\"zerolinewidth\":2},\"yaxis\":{\"automargin\":true,\"gridcolor\":\"white\",\"linecolor\":\"white\",\"ticks\":\"\",\"title\":{\"standoff\":15},\"zerolinecolor\":\"white\",\"zerolinewidth\":2}}},\"title\":{\"text\":\"Unicorns by Country\"}},                        {\"responsive\": true}                    ).then(function(){\n",
       "                            \n",
       "var gd = document.getElementById('53506f4f-c193-4ab8-8895-c004235239b7');\n",
       "var x = new MutationObserver(function (mutations, observer) {{\n",
       "        var display = window.getComputedStyle(gd).display;\n",
       "        if (!display || display === 'none') {{\n",
       "            console.log([gd, 'removed!']);\n",
       "            Plotly.purge(gd);\n",
       "            observer.disconnect();\n",
       "        }}\n",
       "}});\n",
       "\n",
       "// Listen for the removal of the full notebook cells\n",
       "var notebookContainer = gd.closest('#notebook-container');\n",
       "if (notebookContainer) {{\n",
       "    x.observe(notebookContainer, {childList: true});\n",
       "}}\n",
       "\n",
       "// Listen for the clearing of the current output cell\n",
       "var outputEl = gd.closest('.output');\n",
       "if (outputEl) {{\n",
       "    x.observe(outputEl, {childList: true});\n",
       "}}\n",
       "\n",
       "                        })                };                });            </script>        </div>"
      ]
     },
     "metadata": {},
     "output_type": "display_data"
    },
    {
     "data": {
      "text/plain": [
       "<Figure size 720x720 with 0 Axes>"
      ]
     },
     "metadata": {},
     "output_type": "display_data"
    }
   ],
   "source": [
    "import plotly.graph_objs as go\n",
    "from plotly.offline import download_plotlyjs,init_notebook_mode,plot,iplot\n",
    "\n",
    "\n",
    "plt.figure(figsize=(10,10)) \n",
    "\n",
    "init_notebook_mode(connected=True)\n",
    "\n",
    "data = dict(type = 'choropleth',\n",
    "            colorscale = 'Jet',\n",
    "            locations = unicorn2022['country'],\n",
    "            locationmode = \"country names\",\n",
    "            z = unicorn2022.groupby('country')['company'].count(),\n",
    "            text = unicorn2022['country'],\n",
    "            colorbar = {'title' : 'Count'}\n",
    "           )\n",
    "\n",
    "layout = dict(title = 'Unicorns by Country',geo = dict(showframe = False,projection = {'type':'mercator'}))\n",
    "chmap = go.Figure(data = [data],layout = layout)\n",
    "iplot(chmap)"
   ]
  },
  {
   "cell_type": "code",
   "execution_count": 94,
   "id": "2535a0f0",
   "metadata": {},
   "outputs": [
    {
     "name": "stdout",
     "output_type": "stream",
     "text": [
      "                company  percentage\n",
      "country                            \n",
      "United States       562    0.523277\n",
      "China               173    0.161080\n",
      "India                65    0.060521\n",
      "United Kingdom       43    0.040037\n",
      "0.7849162011173184\n"
     ]
    }
   ],
   "source": [
    "tmp1 = unicorn2022.loc[unicorn2022.country.isin(['United States','China','India','United Kingdom'])].\\\n",
    "    groupby('country').agg({'company': 'count'}).sort_values('company',ascending=False)\n",
    "    \n",
    "tmp1['percentage'] = tmp1.company/len(unicorn2022.company)\n",
    "print(tmp1)\n",
    "print(tmp1.percentage.sum())"
   ]
  },
  {
   "cell_type": "markdown",
   "id": "ed715a33",
   "metadata": {},
   "source": [
    "**3. City**"
   ]
  },
  {
   "cell_type": "code",
   "execution_count": 95,
   "id": "c389547a",
   "metadata": {
    "scrolled": false
   },
   "outputs": [
    {
     "data": {
      "text/plain": [
       "continent      country         city         \n",
       "North America  United States   San Francisco    152\n",
       "                               New York         103\n",
       "Asia           China           Beijing           63\n",
       "                               Shanghai          44\n",
       "Europe         United Kingdom  London            34\n",
       "Asia           India           Bengaluru         29\n",
       "               China           Shenzhen          19\n",
       "Europe         France          Paris             19\n",
       "North America  United States   Palo Alto         18\n",
       "Europe         Germany         Berlin            17\n",
       "North America  United States   Mountain View     16\n",
       "                               Boston            16\n",
       "Asia           China           Hangzhou          16\n",
       "North America  United States   Chicago           16\n",
       "Asia           Singapore       Singapore         12\n",
       "North America  United States   San Mateo         11\n",
       "South America  Brazil          Sao Paulo         11\n",
       "Asia           Israel          Tel Aviv          11\n",
       "               South Korea     Seoul             10\n",
       "North America  United States   Redwood City      10\n",
       "Name: company, dtype: int64"
      ]
     },
     "execution_count": 95,
     "metadata": {},
     "output_type": "execute_result"
    }
   ],
   "source": [
    "unicorn2022.groupby(['continent','country','city']).company.count().sort_values(ascending=False).head(20)"
   ]
  },
  {
   "cell_type": "code",
   "execution_count": 96,
   "id": "b2104e67",
   "metadata": {},
   "outputs": [],
   "source": [
    "#unicorn2022.groupby(['country','city']).filter(lambda x: x.shape[0] > 10)['company']"
   ]
  },
  {
   "cell_type": "code",
   "execution_count": 97,
   "id": "ebe5456d",
   "metadata": {},
   "outputs": [
    {
     "data": {
      "image/png": "[encoded data removed]",
      "text/plain": [
       "<Figure size 720x720 with 1 Axes>"
      ]
     },
     "metadata": {
      "needs_background": "light"
     },
     "output_type": "display_data"
    }
   ],
   "source": [
    "plt.figure(figsize=(10,10)) \n",
    "\n",
    "\n",
    "unicorn2022.groupby(['country','city']).filter(lambda x: x.shape[0] >= 10).groupby(['country','city'])['company'].count().sort_values().plot(color = 'orange',kind = 'barh')\n",
    "\n",
    "for index, value in enumerate(unicorn2022.groupby(['country','city']).filter(lambda x: x.shape[0] >= 10).groupby(['country','city'])['company'].count().sort_values()):\n",
    "    plt.text(value, index, str(value))\n",
    "\n",
    "plt.xlabel('Count')\n",
    "plt.ylabel('City')\n",
    "plt.title('Unicorns by City')\n",
    "\n",
    "plt.show()"
   ]
  },
  {
   "cell_type": "markdown",
   "id": "faa91e99",
   "metadata": {},
   "source": [
    "### 2. Industry"
   ]
  },
  {
   "cell_type": "code",
   "execution_count": 98,
   "id": "3b3f460d",
   "metadata": {
    "scrolled": true
   },
   "outputs": [
    {
     "data": {
      "image/png": "[encoded data removed]",
      "text/plain": [
       "<Figure size 432x288 with 1 Axes>"
      ]
     },
     "metadata": {
      "needs_background": "light"
     },
     "output_type": "display_data"
    }
   ],
   "source": [
    "unicorn2022.groupby('industry')['company'].count().sort_values().plot(color = 'b',kind = 'barh')\n",
    "\n",
    "for index, value in enumerate(unicorn2022.groupby('industry')['company'].count().sort_values()):\n",
    "    plt.text(value, index, str(value))\n",
    "\n",
    "\n",
    "plt.xlabel('Count')\n",
    "plt.ylabel('Industry')\n",
    "plt.title('Unicorns by Industry')\n",
    "\n",
    "plt.show()"
   ]
  },
  {
   "cell_type": "markdown",
   "id": "c4f08d35",
   "metadata": {},
   "source": [
    "### 3. Valuation"
   ]
  },
  {
   "cell_type": "code",
   "execution_count": 99,
   "id": "9e153f1e",
   "metadata": {
    "scrolled": true
   },
   "outputs": [
    {
     "data": {
      "text/plain": [
       "count    1074.000000\n",
       "mean        3.455307\n",
       "std         8.547022\n",
       "min         1.000000\n",
       "25%         1.000000\n",
       "50%         2.000000\n",
       "75%         3.000000\n",
       "max       180.000000\n",
       "Name: valuation, dtype: float64"
      ]
     },
     "execution_count": 99,
     "metadata": {},
     "output_type": "execute_result"
    }
   ],
   "source": [
    "unicorn2022.valuation.describe()"
   ]
  },
  {
   "cell_type": "code",
   "execution_count": 100,
   "id": "5f9e9c46",
   "metadata": {
    "scrolled": false
   },
   "outputs": [
    {
     "data": {
      "image/png": "[encoded data removed]",
      "text/plain": [
       "<Figure size 432x432 with 1 Axes>"
      ]
     },
     "metadata": {
      "needs_background": "light"
     },
     "output_type": "display_data"
    }
   ],
   "source": [
    "plt.figure(figsize=(6,6)) \n",
    "unicorn2022.groupby('valuation')['company'].count().plot(color = 'b',kind = 'barh')\n",
    "\n",
    "for index, value in enumerate(unicorn2022.groupby('valuation')['company'].count()):\n",
    "    plt.text(value, index, str(round(value,1)))\n",
    "    \n",
    "plt.xlabel('Count')\n",
    "plt.ylabel('Valuation ($B)')\n",
    "plt.title('Unicorn Valuation')\n",
    "\n",
    "plt.show()"
   ]
  },
  {
   "cell_type": "code",
   "execution_count": 101,
   "id": "7ceeb7bf",
   "metadata": {
    "scrolled": false
   },
   "outputs": [
    {
     "data": {
      "image/png": "[encoded data removed]",
      "text/plain": [
       "<Figure size 720x432 with 1 Axes>"
      ]
     },
     "metadata": {
      "needs_background": "light"
     },
     "output_type": "display_data"
    }
   ],
   "source": [
    "plt.figure(figsize=(10,6)) \n",
    "sns.violinplot(y=unicorn2022.valuation)\n",
    "\n",
    "plt.xlabel('All')\n",
    "plt.ylabel('Valuation ($B)')\n",
    "plt.title('Valuation Violin Plot')\n",
    "\n",
    "plt.show()"
   ]
  },
  {
   "cell_type": "code",
   "execution_count": 102,
   "id": "7ec82afa",
   "metadata": {},
   "outputs": [
    {
     "data": {
      "image/png": "[encoded data removed]",
      "text/plain": [
       "<Figure size 1440x576 with 1 Axes>"
      ]
     },
     "metadata": {
      "needs_background": "light"
     },
     "output_type": "display_data"
    }
   ],
   "source": [
    "plt.figure(figsize=(20,8)) \n",
    "sns.violinplot(x = unicorn2022.industry, y=unicorn2022.valuation)\n",
    "\n",
    "plt.xlabel('Industry')#,rotation = 45)\n",
    "plt.xticks(rotation=80)\n",
    "plt.ylabel('Valuation ($B)')\n",
    "plt.title('Valuation Violin Plot by Industry')\n",
    "\n",
    "plt.show()"
   ]
  },
  {
   "cell_type": "code",
   "execution_count": 103,
   "id": "7d9f136b",
   "metadata": {
    "scrolled": true
   },
   "outputs": [
    {
     "data": {
      "text/plain": [
       "Fintech                                3.937500\n",
       "Internet software & services           2.902439\n",
       "E-commerce & direct-to-consumer        3.837838\n",
       "Artificial intelligence                4.488095\n",
       "Health                                 2.675676\n",
       "Other                                  4.344828\n",
       "Supply chain, logistics, & delivery    3.105263\n",
       "Cybersecurity                          2.580000\n",
       "Data management & analytics            3.317073\n",
       "Mobile & telecommunications            2.342105\n",
       "Hardware                               2.911765\n",
       "Auto & transportation                  3.193548\n",
       "Edtech                                 3.571429\n",
       "Consumer & retail                      4.240000\n",
       "Travel                                 3.285714\n",
       "Name: valuation, dtype: float64"
      ]
     },
     "execution_count": 103,
     "metadata": {},
     "output_type": "execute_result"
    }
   ],
   "source": [
    "unicorn2022.groupby('industry')['valuation'].mean().loc[unicorn2022.industry.value_counts().index]"
   ]
  },
  {
   "cell_type": "code",
   "execution_count": 104,
   "id": "289c9b31",
   "metadata": {
    "scrolled": false
   },
   "outputs": [
    {
     "data": {
      "text/plain": [
       "Fintech                                2.0\n",
       "Internet software & services           2.0\n",
       "E-commerce & direct-to-consumer        2.0\n",
       "Artificial intelligence                2.0\n",
       "Health                                 2.0\n",
       "Other                                  2.0\n",
       "Supply chain, logistics, & delivery    1.0\n",
       "Cybersecurity                          2.0\n",
       "Data management & analytics            2.0\n",
       "Mobile & telecommunications            1.5\n",
       "Hardware                               2.0\n",
       "Auto & transportation                  2.0\n",
       "Edtech                                 2.0\n",
       "Consumer & retail                      2.0\n",
       "Travel                                 2.0\n",
       "Name: valuation, dtype: float64"
      ]
     },
     "execution_count": 104,
     "metadata": {},
     "output_type": "execute_result"
    }
   ],
   "source": [
    "unicorn2022.groupby('industry')['valuation'].median().loc[unicorn2022.industry.value_counts().index]"
   ]
  },
  {
   "cell_type": "markdown",
   "id": "77f561a8",
   "metadata": {},
   "source": [
    "### 4. Years"
   ]
  },
  {
   "cell_type": "markdown",
   "id": "762fb9d3",
   "metadata": {},
   "source": [
    "**(1) Year joined**"
   ]
  },
  {
   "cell_type": "code",
   "execution_count": 105,
   "id": "ebd526e3",
   "metadata": {
    "scrolled": true
   },
   "outputs": [
    {
     "data": {
      "image/png": "[encoded data removed]",
      "text/plain": [
       "<Figure size 432x288 with 1 Axes>"
      ]
     },
     "metadata": {
      "needs_background": "light"
     },
     "output_type": "display_data"
    }
   ],
   "source": [
    "unicorn2022.groupby('year_joined').company.count().plot(kind='bar')\n",
    "\n",
    "for index, value in enumerate(unicorn2022.groupby('year_joined').company.count()):\n",
    "    plt.text(index,value,str(value))\n",
    "\n",
    "\n",
    "plt.xlabel('Year Joined')#,rotation = 45)\n",
    "plt.xticks(rotation=80)\n",
    "plt.ylabel('Count')\n",
    "plt.title('Count of Companies')\n",
    "\n",
    "plt.show()"
   ]
  },
  {
   "cell_type": "code",
   "execution_count": 106,
   "id": "e2d855b7",
   "metadata": {},
   "outputs": [
    {
     "name": "stdout",
     "output_type": "stream",
     "text": [
      "2015 Increase: 169.23%\n",
      "2018 Increase: 134.09%\n",
      "2021 Increase: 381.48%\n"
     ]
    }
   ],
   "source": [
    "print(f'2015 Increase: {round((35/13-1)*100,2)}%')\n",
    "print(f'2018 Increase: {round((103/44-1)*100,2)}%')\n",
    "print(f'2021 Increase: {round((520/108-1)*100,2)}%')"
   ]
  },
  {
   "cell_type": "code",
   "execution_count": 107,
   "id": "cb513ade",
   "metadata": {
    "scrolled": false
   },
   "outputs": [
    {
     "data": {
      "image/png": "[encoded data removed]",
      "text/plain": [
       "<Figure size 432x288 with 1 Axes>"
      ]
     },
     "metadata": {
      "needs_background": "light"
     },
     "output_type": "display_data"
    }
   ],
   "source": [
    "unicorn2022.groupby('year_joined').country.nunique().plot(kind='bar')\n",
    "\n",
    "for index, value in enumerate(unicorn2022.groupby('year_joined').country.nunique()):\n",
    "    plt.text(index,value,str(value))\n",
    "\n",
    "\n",
    "plt.xlabel('Year Joined')#,rotation = 45)\n",
    "plt.xticks(rotation=80)\n",
    "plt.ylabel('Count')\n",
    "plt.title('Count of Countires')\n",
    "\n",
    "plt.show()"
   ]
  },
  {
   "cell_type": "markdown",
   "id": "3de403b2",
   "metadata": {},
   "source": [
    "**2. Years to unicorn**"
   ]
  },
  {
   "cell_type": "code",
   "execution_count": 108,
   "id": "a45be9f5",
   "metadata": {
    "scrolled": false
   },
   "outputs": [
    {
     "data": {
      "image/png": "[encoded data removed]",
      "text/plain": [
       "<Figure size 720x720 with 1 Axes>"
      ]
     },
     "metadata": {
      "needs_background": "light"
     },
     "output_type": "display_data"
    }
   ],
   "source": [
    "plt.figure(figsize=(10,10))\n",
    "unicorn2022.groupby('years_to_unicorn')['company'].count().plot(color = 'b',kind = 'bar')\n",
    "\n",
    "for index, value in enumerate(unicorn2022.groupby('years_to_unicorn')['company'].count()):\n",
    "    plt.text(index, value, str(value))\n",
    "    \n",
    "plt.ylabel('Count')\n",
    "plt.xlabel('Years to unicorn')\n",
    "plt.title('How many years to be a unicorn')\n",
    "\n",
    "plt.show()"
   ]
  },
  {
   "cell_type": "code",
   "execution_count": 109,
   "id": "c1298d8a",
   "metadata": {},
   "outputs": [
    {
     "data": {
      "text/html": [
       "<div>\n",
       "<style scoped>\n",
       "    .dataframe tbody tr th:only-of-type {\n",
       "        vertical-align: middle;\n",
       "    }\n",
       "\n",
       "    .dataframe tbody tr th {\n",
       "        vertical-align: top;\n",
       "    }\n",
       "\n",
       "    .dataframe thead th {\n",
       "        text-align: right;\n",
       "    }\n",
       "</style>\n",
       "<table border=\"1\" class=\"dataframe\">\n",
       "  <thead>\n",
       "    <tr style=\"text-align: right;\">\n",
       "      <th></th>\n",
       "      <th>company</th>\n",
       "      <th>valuation</th>\n",
       "      <th>date_joined</th>\n",
       "      <th>industry</th>\n",
       "      <th>city</th>\n",
       "      <th>country</th>\n",
       "      <th>continent</th>\n",
       "      <th>year_founded</th>\n",
       "      <th>funding</th>\n",
       "      <th>select_investors</th>\n",
       "      <th>year_joined</th>\n",
       "      <th>year_current</th>\n",
       "      <th>years_to_unicorn</th>\n",
       "      <th>years_joined</th>\n",
       "    </tr>\n",
       "  </thead>\n",
       "  <tbody>\n",
       "    <tr>\n",
       "      <th>0</th>\n",
       "      <td>Bytedance</td>\n",
       "      <td>180</td>\n",
       "      <td>2017-04-07</td>\n",
       "      <td>Artificial intelligence</td>\n",
       "      <td>Beijing</td>\n",
       "      <td>China</td>\n",
       "      <td>Asia</td>\n",
       "      <td>2012</td>\n",
       "      <td>8.0</td>\n",
       "      <td>Sequoia Capital China, SIG Asia Investments, S...</td>\n",
       "      <td>2017</td>\n",
       "      <td>2022</td>\n",
       "      <td>5</td>\n",
       "      <td>5</td>\n",
       "    </tr>\n",
       "    <tr>\n",
       "      <th>1</th>\n",
       "      <td>SpaceX</td>\n",
       "      <td>100</td>\n",
       "      <td>2012-12-01</td>\n",
       "      <td>Other</td>\n",
       "      <td>Hawthorne</td>\n",
       "      <td>United States</td>\n",
       "      <td>North America</td>\n",
       "      <td>2002</td>\n",
       "      <td>7.0</td>\n",
       "      <td>Founders Fund, Draper Fisher Jurvetson, Rothen...</td>\n",
       "      <td>2012</td>\n",
       "      <td>2022</td>\n",
       "      <td>10</td>\n",
       "      <td>10</td>\n",
       "    </tr>\n",
       "    <tr>\n",
       "      <th>2</th>\n",
       "      <td>SHEIN</td>\n",
       "      <td>100</td>\n",
       "      <td>2018-07-03</td>\n",
       "      <td>E-commerce &amp; direct-to-consumer</td>\n",
       "      <td>Shenzhen</td>\n",
       "      <td>China</td>\n",
       "      <td>Asia</td>\n",
       "      <td>2008</td>\n",
       "      <td>2.0</td>\n",
       "      <td>Tiger Global Management, Sequoia Capital China...</td>\n",
       "      <td>2018</td>\n",
       "      <td>2022</td>\n",
       "      <td>10</td>\n",
       "      <td>4</td>\n",
       "    </tr>\n",
       "    <tr>\n",
       "      <th>3</th>\n",
       "      <td>Stripe</td>\n",
       "      <td>95</td>\n",
       "      <td>2014-01-23</td>\n",
       "      <td>Fintech</td>\n",
       "      <td>San Francisco</td>\n",
       "      <td>United States</td>\n",
       "      <td>North America</td>\n",
       "      <td>2010</td>\n",
       "      <td>2.0</td>\n",
       "      <td>Khosla Ventures, LowercaseCapital, capitalG</td>\n",
       "      <td>2014</td>\n",
       "      <td>2022</td>\n",
       "      <td>4</td>\n",
       "      <td>8</td>\n",
       "    </tr>\n",
       "    <tr>\n",
       "      <th>4</th>\n",
       "      <td>Klarna</td>\n",
       "      <td>46</td>\n",
       "      <td>2011-12-12</td>\n",
       "      <td>Fintech</td>\n",
       "      <td>Stockholm</td>\n",
       "      <td>Sweden</td>\n",
       "      <td>Europe</td>\n",
       "      <td>2005</td>\n",
       "      <td>4.0</td>\n",
       "      <td>Institutional Venture Partners, Sequoia Capita...</td>\n",
       "      <td>2011</td>\n",
       "      <td>2022</td>\n",
       "      <td>6</td>\n",
       "      <td>11</td>\n",
       "    </tr>\n",
       "  </tbody>\n",
       "</table>\n",
       "</div>"
      ],
      "text/plain": [
       "     company  valuation date_joined                         industry  \\\n",
       "0  Bytedance        180  2017-04-07          Artificial intelligence   \n",
       "1     SpaceX        100  2012-12-01                            Other   \n",
       "2      SHEIN        100  2018-07-03  E-commerce & direct-to-consumer   \n",
       "3     Stripe         95  2014-01-23                          Fintech   \n",
       "4     Klarna         46  2011-12-12                          Fintech   \n",
       "\n",
       "            city        country      continent  year_founded  funding  \\\n",
       "0        Beijing          China           Asia          2012      8.0   \n",
       "1      Hawthorne  United States  North America          2002      7.0   \n",
       "2       Shenzhen          China           Asia          2008      2.0   \n",
       "3  San Francisco  United States  North America          2010      2.0   \n",
       "4      Stockholm         Sweden         Europe          2005      4.0   \n",
       "\n",
       "                                    select_investors  year_joined  \\\n",
       "0  Sequoia Capital China, SIG Asia Investments, S...         2017   \n",
       "1  Founders Fund, Draper Fisher Jurvetson, Rothen...         2012   \n",
       "2  Tiger Global Management, Sequoia Capital China...         2018   \n",
       "3        Khosla Ventures, LowercaseCapital, capitalG         2014   \n",
       "4  Institutional Venture Partners, Sequoia Capita...         2011   \n",
       "\n",
       "   year_current  years_to_unicorn  years_joined  \n",
       "0          2022                 5             5  \n",
       "1          2022                10            10  \n",
       "2          2022                10             4  \n",
       "3          2022                 4             8  \n",
       "4          2022                 6            11  "
      ]
     },
     "execution_count": 109,
     "metadata": {},
     "output_type": "execute_result"
    }
   ],
   "source": [
    "unicorn2022.head()"
   ]
  },
  {
   "cell_type": "markdown",
   "id": "9d9fd51e",
   "metadata": {
    "scrolled": true
   },
   "source": [
    "**Analysis:**\n",
    "1. North America has the most unicorns. \n",
    "United States and China rated top 2 across the globe. More than 50% unicorns come from U.S. and over 16% unicorns are from China.\n",
    "2. Most of these unicorns are in technology subsectors and unicorn companies of manyother traditional industries are also tech-based.\n",
    "3. Except for some super big companies, such as Bytedance and SpaceX, average valuations of unicorns ranges from $\\$$1B to $\\$$2B. There's no significant difference among industries.\n",
    "4. Unicorn booms occoured in 2015, 2018 and 2021. Especially in 2021, there were 520 companies from 38 countries joined the world unicorn club which is 381% increase from previous year in terms number of companies."
   ]
  },
  {
   "cell_type": "markdown",
   "id": "dc18885a",
   "metadata": {},
   "source": [
    "Based the study on single features of unicorns, the analysis dives into more complex dimensions with two questions:\n",
    "1. As the top two contries with most unicorn companies, how do U.S. and China differ in terms of industry, recent trend, and valuation?\n",
    "2. What happended in unicorn boom years?"
   ]
  },
  {
   "cell_type": "markdown",
   "id": "4759443e",
   "metadata": {},
   "source": [
    "# II. Further  exploration"
   ]
  },
  {
   "cell_type": "markdown",
   "id": "1dd94719",
   "metadata": {},
   "source": [
    "## A. Compare unicorns of U.S vs China"
   ]
  },
  {
   "cell_type": "markdown",
   "id": "4169a0ef",
   "metadata": {},
   "source": [
    "**1. Industry**"
   ]
  },
  {
   "cell_type": "code",
   "execution_count": 110,
   "id": "e279fbad",
   "metadata": {
    "scrolled": false
   },
   "outputs": [
    {
     "data": {
      "image/png": "[encoded data removed]",
      "text/plain": [
       "<Figure size 463.625x360 with 1 Axes>"
      ]
     },
     "metadata": {
      "needs_background": "light"
     },
     "output_type": "display_data"
    }
   ],
   "source": [
    "hue_order = ['United States','China']\n",
    "\n",
    "sns.catplot(y=\"industry\", hue=\"country\", kind=\"count\",\n",
    "            palette=\"pastel\", edgecolor=\"0.3\",\n",
    "            data=unicorn2022.loc[unicorn2022.country.isin(['United States','China'])],\n",
    "            hue_order = hue_order)\n",
    "\n",
    "plt.xlabel('Count')\n",
    "plt.ylabel('Industry')\n",
    "plt.title('Industry Comparison')\n",
    "\n",
    "plt.show()"
   ]
  },
  {
   "cell_type": "code",
   "execution_count": 111,
   "id": "acce8c25",
   "metadata": {
    "scrolled": true
   },
   "outputs": [],
   "source": [
    "tmp2 = unicorn2022.loc[unicorn2022.country.isin(['China',\"United States\"])].industry.\\\n",
    "    groupby(unicorn2022.country).value_counts(normalize=True).rename('prop').reset_index()\n",
    "#tmp2\n",
    "#tmp2.prop.sum()"
   ]
  },
  {
   "cell_type": "code",
   "execution_count": 112,
   "id": "fd92be33",
   "metadata": {
    "scrolled": false
   },
   "outputs": [
    {
     "data": {
      "image/png": "[encoded data removed]",
      "text/plain": [
       "<Figure size 463.625x360 with 1 Axes>"
      ]
     },
     "metadata": {
      "needs_background": "light"
     },
     "output_type": "display_data"
    }
   ],
   "source": [
    "sns.catplot(y=\"industry\",x=\"prop\",hue=\"country\", kind='bar',\n",
    "            palette=\"pastel\", edgecolor=\"0.3\",\n",
    "            data=tmp2,\n",
    "            order=unicorn2022.industry.value_counts().index,\n",
    "            hue_order=hue_order)\n",
    "\n",
    "plt.xlabel('Percentage')\n",
    "plt.ylabel('Industry')\n",
    "plt.title('Normalized Industry Comparison (%)')\n",
    "\n",
    "plt.show()\n",
    "\n",
    "plt.show()"
   ]
  },
  {
   "cell_type": "markdown",
   "id": "81fd2d2d",
   "metadata": {},
   "source": [
    "**2. Recent Trend (2021)**"
   ]
  },
  {
   "cell_type": "code",
   "execution_count": 113,
   "id": "3a284964",
   "metadata": {
    "scrolled": false
   },
   "outputs": [
    {
     "data": {
      "text/plain": [
       "<AxesSubplot:xlabel='year_joined', ylabel='count'>"
      ]
     },
     "execution_count": 113,
     "metadata": {},
     "output_type": "execute_result"
    },
    {
     "data": {
      "image/png": "[encoded data removed]",
      "text/plain": [
       "<Figure size 432x288 with 1 Axes>"
      ]
     },
     "metadata": {
      "needs_background": "light"
     },
     "output_type": "display_data"
    }
   ],
   "source": [
    "sns.countplot(x=\"year_joined\", hue=\"country\",\n",
    "              palette=\"pastel\", edgecolor=\".3\",\n",
    "              data=unicorn2022.loc[unicorn2022.country.isin([\"United States\",\"China\"])],\n",
    "              hue_order = hue_order)"
   ]
  },
  {
   "cell_type": "code",
   "execution_count": 114,
   "id": "6b6335e6",
   "metadata": {},
   "outputs": [
    {
     "data": {
      "text/plain": [
       "0.5391459074733096"
      ]
     },
     "execution_count": 114,
     "metadata": {},
     "output_type": "execute_result"
    }
   ],
   "source": [
    "unicorn2022.loc[(unicorn2022['year_joined'] == 2021) & (unicorn2022['country'] == \"United States\")].company.count()/unicorn2022.loc[(unicorn2022['country'] == \"United States\")].company.count()"
   ]
  },
  {
   "cell_type": "code",
   "execution_count": 115,
   "id": "43557a0c",
   "metadata": {},
   "outputs": [
    {
     "data": {
      "text/plain": [
       "3.661538461538462"
      ]
     },
     "execution_count": 115,
     "metadata": {},
     "output_type": "execute_result"
    }
   ],
   "source": [
    "(unicorn2022.loc[(unicorn2022['year_joined'] == 2021) & (unicorn2022['country'] == \"United States\")].company.count()/ \\\n",
    "unicorn2022.loc[(unicorn2022['year_joined'] == 2020) & (unicorn2022['country'] == \"United States\")].company.count()) -1"
   ]
  },
  {
   "cell_type": "code",
   "execution_count": 116,
   "id": "7f586334",
   "metadata": {
    "scrolled": true
   },
   "outputs": [
    {
     "data": {
      "image/png": "[encoded data removed]",
      "text/plain": [
       "<Figure size 432x288 with 2 Axes>"
      ]
     },
     "metadata": {
      "needs_background": "light"
     },
     "output_type": "display_data"
    }
   ],
   "source": [
    "fig, axs = plt.subplots(ncols=2 ,sharey=True)\n",
    "\n",
    "sns.countplot(y ='industry',\n",
    "              data = unicorn2022.loc[(unicorn2022['year_joined'] == 2021) & (unicorn2022['country'] == \"United States\")], \n",
    "              ax=axs[0],\n",
    "              order=unicorn2022.industry.value_counts().index).\\\n",
    "              set(title='2021 Industry dist. in U.S.',xlabel='Count',ylabel='Industry')\n",
    "\n",
    "\n",
    "sns.countplot(y ='industry',\n",
    "              data = unicorn2022.loc[(unicorn2022['year_joined'] == 2021) & (unicorn2022['country'] == \"China\")], \n",
    "              ax=axs[1],\n",
    "              order=unicorn2022.industry.value_counts().index).\\\n",
    "              set(title='2021 Industry dist. in China',xlabel='Count',ylabel='Industry')\n",
    "\n",
    "\n",
    "plt.show()"
   ]
  },
  {
   "cell_type": "markdown",
   "id": "47e1f19c",
   "metadata": {},
   "source": [
    "**3. Valuation**"
   ]
  },
  {
   "cell_type": "code",
   "execution_count": 117,
   "id": "ca6bcea3",
   "metadata": {
    "scrolled": true
   },
   "outputs": [
    {
     "data": {
      "text/html": [
       "<div>\n",
       "<style scoped>\n",
       "    .dataframe tbody tr th:only-of-type {\n",
       "        vertical-align: middle;\n",
       "    }\n",
       "\n",
       "    .dataframe tbody tr th {\n",
       "        vertical-align: top;\n",
       "    }\n",
       "\n",
       "    .dataframe thead th {\n",
       "        text-align: right;\n",
       "    }\n",
       "</style>\n",
       "<table border=\"1\" class=\"dataframe\">\n",
       "  <thead>\n",
       "    <tr style=\"text-align: right;\">\n",
       "      <th></th>\n",
       "      <th>country</th>\n",
       "      <th>industry</th>\n",
       "      <th>company</th>\n",
       "      <th>valuation</th>\n",
       "      <th>avg_valuation</th>\n",
       "    </tr>\n",
       "  </thead>\n",
       "  <tbody>\n",
       "    <tr>\n",
       "      <th>0</th>\n",
       "      <td>China</td>\n",
       "      <td>Artificial intelligence</td>\n",
       "      <td>20</td>\n",
       "      <td>214</td>\n",
       "      <td>10.700000</td>\n",
       "    </tr>\n",
       "    <tr>\n",
       "      <th>1</th>\n",
       "      <td>China</td>\n",
       "      <td>Auto &amp; transportation</td>\n",
       "      <td>17</td>\n",
       "      <td>50</td>\n",
       "      <td>2.941176</td>\n",
       "    </tr>\n",
       "    <tr>\n",
       "      <th>2</th>\n",
       "      <td>China</td>\n",
       "      <td>Consumer &amp; retail</td>\n",
       "      <td>8</td>\n",
       "      <td>38</td>\n",
       "      <td>4.750000</td>\n",
       "    </tr>\n",
       "    <tr>\n",
       "      <th>3</th>\n",
       "      <td>China</td>\n",
       "      <td>Cybersecurity</td>\n",
       "      <td>1</td>\n",
       "      <td>1</td>\n",
       "      <td>1.000000</td>\n",
       "    </tr>\n",
       "    <tr>\n",
       "      <th>4</th>\n",
       "      <td>China</td>\n",
       "      <td>Data management &amp; analytics</td>\n",
       "      <td>2</td>\n",
       "      <td>3</td>\n",
       "      <td>1.500000</td>\n",
       "    </tr>\n",
       "    <tr>\n",
       "      <th>5</th>\n",
       "      <td>China</td>\n",
       "      <td>E-commerce &amp; direct-to-consumer</td>\n",
       "      <td>29</td>\n",
       "      <td>187</td>\n",
       "      <td>6.448276</td>\n",
       "    </tr>\n",
       "    <tr>\n",
       "      <th>6</th>\n",
       "      <td>China</td>\n",
       "      <td>Edtech</td>\n",
       "      <td>12</td>\n",
       "      <td>43</td>\n",
       "      <td>3.583333</td>\n",
       "    </tr>\n",
       "    <tr>\n",
       "      <th>7</th>\n",
       "      <td>China</td>\n",
       "      <td>Fintech</td>\n",
       "      <td>8</td>\n",
       "      <td>10</td>\n",
       "      <td>1.250000</td>\n",
       "    </tr>\n",
       "    <tr>\n",
       "      <th>8</th>\n",
       "      <td>China</td>\n",
       "      <td>Hardware</td>\n",
       "      <td>17</td>\n",
       "      <td>54</td>\n",
       "      <td>3.176471</td>\n",
       "    </tr>\n",
       "    <tr>\n",
       "      <th>9</th>\n",
       "      <td>China</td>\n",
       "      <td>Health</td>\n",
       "      <td>11</td>\n",
       "      <td>26</td>\n",
       "      <td>2.363636</td>\n",
       "    </tr>\n",
       "    <tr>\n",
       "      <th>10</th>\n",
       "      <td>China</td>\n",
       "      <td>Internet software &amp; services</td>\n",
       "      <td>14</td>\n",
       "      <td>16</td>\n",
       "      <td>1.142857</td>\n",
       "    </tr>\n",
       "    <tr>\n",
       "      <th>11</th>\n",
       "      <td>China</td>\n",
       "      <td>Mobile &amp; telecommunications</td>\n",
       "      <td>14</td>\n",
       "      <td>25</td>\n",
       "      <td>1.785714</td>\n",
       "    </tr>\n",
       "    <tr>\n",
       "      <th>12</th>\n",
       "      <td>China</td>\n",
       "      <td>Other</td>\n",
       "      <td>5</td>\n",
       "      <td>9</td>\n",
       "      <td>1.800000</td>\n",
       "    </tr>\n",
       "    <tr>\n",
       "      <th>13</th>\n",
       "      <td>China</td>\n",
       "      <td>Supply chain, logistics, &amp; delivery</td>\n",
       "      <td>12</td>\n",
       "      <td>15</td>\n",
       "      <td>1.250000</td>\n",
       "    </tr>\n",
       "    <tr>\n",
       "      <th>14</th>\n",
       "      <td>China</td>\n",
       "      <td>Travel</td>\n",
       "      <td>3</td>\n",
       "      <td>5</td>\n",
       "      <td>1.666667</td>\n",
       "    </tr>\n",
       "    <tr>\n",
       "      <th>15</th>\n",
       "      <td>United States</td>\n",
       "      <td>Artificial intelligence</td>\n",
       "      <td>46</td>\n",
       "      <td>135</td>\n",
       "      <td>2.934783</td>\n",
       "    </tr>\n",
       "    <tr>\n",
       "      <th>16</th>\n",
       "      <td>United States</td>\n",
       "      <td>Auto &amp; transportation</td>\n",
       "      <td>4</td>\n",
       "      <td>14</td>\n",
       "      <td>3.500000</td>\n",
       "    </tr>\n",
       "    <tr>\n",
       "      <th>17</th>\n",
       "      <td>United States</td>\n",
       "      <td>Consumer &amp; retail</td>\n",
       "      <td>11</td>\n",
       "      <td>59</td>\n",
       "      <td>5.363636</td>\n",
       "    </tr>\n",
       "    <tr>\n",
       "      <th>18</th>\n",
       "      <td>United States</td>\n",
       "      <td>Cybersecurity</td>\n",
       "      <td>39</td>\n",
       "      <td>99</td>\n",
       "      <td>2.538462</td>\n",
       "    </tr>\n",
       "    <tr>\n",
       "      <th>19</th>\n",
       "      <td>United States</td>\n",
       "      <td>Data management &amp; analytics</td>\n",
       "      <td>31</td>\n",
       "      <td>109</td>\n",
       "      <td>3.516129</td>\n",
       "    </tr>\n",
       "    <tr>\n",
       "      <th>20</th>\n",
       "      <td>United States</td>\n",
       "      <td>E-commerce &amp; direct-to-consumer</td>\n",
       "      <td>30</td>\n",
       "      <td>111</td>\n",
       "      <td>3.700000</td>\n",
       "    </tr>\n",
       "    <tr>\n",
       "      <th>21</th>\n",
       "      <td>United States</td>\n",
       "      <td>Edtech</td>\n",
       "      <td>7</td>\n",
       "      <td>19</td>\n",
       "      <td>2.714286</td>\n",
       "    </tr>\n",
       "    <tr>\n",
       "      <th>22</th>\n",
       "      <td>United States</td>\n",
       "      <td>Fintech</td>\n",
       "      <td>120</td>\n",
       "      <td>454</td>\n",
       "      <td>3.783333</td>\n",
       "    </tr>\n",
       "    <tr>\n",
       "      <th>23</th>\n",
       "      <td>United States</td>\n",
       "      <td>Hardware</td>\n",
       "      <td>11</td>\n",
       "      <td>26</td>\n",
       "      <td>2.363636</td>\n",
       "    </tr>\n",
       "    <tr>\n",
       "      <th>24</th>\n",
       "      <td>United States</td>\n",
       "      <td>Health</td>\n",
       "      <td>51</td>\n",
       "      <td>146</td>\n",
       "      <td>2.862745</td>\n",
       "    </tr>\n",
       "    <tr>\n",
       "      <th>25</th>\n",
       "      <td>United States</td>\n",
       "      <td>Internet software &amp; services</td>\n",
       "      <td>149</td>\n",
       "      <td>444</td>\n",
       "      <td>2.979866</td>\n",
       "    </tr>\n",
       "    <tr>\n",
       "      <th>26</th>\n",
       "      <td>United States</td>\n",
       "      <td>Mobile &amp; telecommunications</td>\n",
       "      <td>12</td>\n",
       "      <td>36</td>\n",
       "      <td>3.000000</td>\n",
       "    </tr>\n",
       "    <tr>\n",
       "      <th>27</th>\n",
       "      <td>United States</td>\n",
       "      <td>Other</td>\n",
       "      <td>30</td>\n",
       "      <td>195</td>\n",
       "      <td>6.500000</td>\n",
       "    </tr>\n",
       "    <tr>\n",
       "      <th>28</th>\n",
       "      <td>United States</td>\n",
       "      <td>Supply chain, logistics, &amp; delivery</td>\n",
       "      <td>20</td>\n",
       "      <td>79</td>\n",
       "      <td>3.950000</td>\n",
       "    </tr>\n",
       "    <tr>\n",
       "      <th>29</th>\n",
       "      <td>United States</td>\n",
       "      <td>Travel</td>\n",
       "      <td>1</td>\n",
       "      <td>7</td>\n",
       "      <td>7.000000</td>\n",
       "    </tr>\n",
       "  </tbody>\n",
       "</table>\n",
       "</div>"
      ],
      "text/plain": [
       "          country                             industry  company  valuation  \\\n",
       "0           China              Artificial intelligence       20        214   \n",
       "1           China                Auto & transportation       17         50   \n",
       "2           China                    Consumer & retail        8         38   \n",
       "3           China                        Cybersecurity        1          1   \n",
       "4           China          Data management & analytics        2          3   \n",
       "5           China      E-commerce & direct-to-consumer       29        187   \n",
       "6           China                               Edtech       12         43   \n",
       "7           China                              Fintech        8         10   \n",
       "8           China                             Hardware       17         54   \n",
       "9           China                               Health       11         26   \n",
       "10          China         Internet software & services       14         16   \n",
       "11          China          Mobile & telecommunications       14         25   \n",
       "12          China                                Other        5          9   \n",
       "13          China  Supply chain, logistics, & delivery       12         15   \n",
       "14          China                               Travel        3          5   \n",
       "15  United States              Artificial intelligence       46        135   \n",
       "16  United States                Auto & transportation        4         14   \n",
       "17  United States                    Consumer & retail       11         59   \n",
       "18  United States                        Cybersecurity       39         99   \n",
       "19  United States          Data management & analytics       31        109   \n",
       "20  United States      E-commerce & direct-to-consumer       30        111   \n",
       "21  United States                               Edtech        7         19   \n",
       "22  United States                              Fintech      120        454   \n",
       "23  United States                             Hardware       11         26   \n",
       "24  United States                               Health       51        146   \n",
       "25  United States         Internet software & services      149        444   \n",
       "26  United States          Mobile & telecommunications       12         36   \n",
       "27  United States                                Other       30        195   \n",
       "28  United States  Supply chain, logistics, & delivery       20         79   \n",
       "29  United States                               Travel        1          7   \n",
       "\n",
       "    avg_valuation  \n",
       "0       10.700000  \n",
       "1        2.941176  \n",
       "2        4.750000  \n",
       "3        1.000000  \n",
       "4        1.500000  \n",
       "5        6.448276  \n",
       "6        3.583333  \n",
       "7        1.250000  \n",
       "8        3.176471  \n",
       "9        2.363636  \n",
       "10       1.142857  \n",
       "11       1.785714  \n",
       "12       1.800000  \n",
       "13       1.250000  \n",
       "14       1.666667  \n",
       "15       2.934783  \n",
       "16       3.500000  \n",
       "17       5.363636  \n",
       "18       2.538462  \n",
       "19       3.516129  \n",
       "20       3.700000  \n",
       "21       2.714286  \n",
       "22       3.783333  \n",
       "23       2.363636  \n",
       "24       2.862745  \n",
       "25       2.979866  \n",
       "26       3.000000  \n",
       "27       6.500000  \n",
       "28       3.950000  \n",
       "29       7.000000  "
      ]
     },
     "execution_count": 117,
     "metadata": {},
     "output_type": "execute_result"
    }
   ],
   "source": [
    "top2_val = unicorn2022.loc[unicorn2022.country.isin(['China',\"United States\"])].groupby([\"country\",\"industry\"]).\\\n",
    "agg({'company': 'count',\"valuation\":\"sum\"}).\\\n",
    "reset_index()\n",
    "top2_val['avg_valuation'] = top2_val.valuation/top2_val.company\n",
    "top2_val\n",
    "\n",
    "#groupby('continent')['company'].count().sort_values(ascending=True).reset_index()"
   ]
  },
  {
   "cell_type": "code",
   "execution_count": 118,
   "id": "4261204b",
   "metadata": {
    "scrolled": false
   },
   "outputs": [
    {
     "data": {
      "text/plain": [
       "(array([ 0,  1,  2,  3,  4,  5,  6,  7,  8,  9, 10, 11, 12, 13, 14]),\n",
       " [Text(0, 0, 'Artificial intelligence'),\n",
       "  Text(1, 0, 'Auto & transportation'),\n",
       "  Text(2, 0, 'Consumer & retail'),\n",
       "  Text(3, 0, 'Cybersecurity'),\n",
       "  Text(4, 0, 'Data management & analytics'),\n",
       "  Text(5, 0, 'E-commerce & direct-to-consumer'),\n",
       "  Text(6, 0, 'Edtech'),\n",
       "  Text(7, 0, 'Fintech'),\n",
       "  Text(8, 0, 'Hardware'),\n",
       "  Text(9, 0, 'Health'),\n",
       "  Text(10, 0, 'Internet software & services'),\n",
       "  Text(11, 0, 'Mobile & telecommunications'),\n",
       "  Text(12, 0, 'Other'),\n",
       "  Text(13, 0, 'Supply chain, logistics, & delivery'),\n",
       "  Text(14, 0, 'Travel')])"
      ]
     },
     "execution_count": 118,
     "metadata": {},
     "output_type": "execute_result"
    },
    {
     "data": {
      "image/png": "[encoded data removed]",
      "text/plain": [
       "<Figure size 1080x576 with 1 Axes>"
      ]
     },
     "metadata": {
      "needs_background": "light"
     },
     "output_type": "display_data"
    }
   ],
   "source": [
    "g = sns.catplot(x='industry', y='avg_valuation', data=top2_val, kind='bar', hue='country')\n",
    "\n",
    "#g.set_xticklabels('Industry',rotation=80)\n",
    "g.fig.set_size_inches(15,8)\n",
    "g.fig.subplots_adjust(top=0.81,right=0.86)  \n",
    "\n",
    "plt.xlabel('Industry')\n",
    "plt.ylabel('Count')\n",
    "plt.title('U.S vs China: Average Valuation by Industry')\n",
    "\n",
    "plt.xticks(rotation=90)\n"
   ]
  },
  {
   "cell_type": "code",
   "execution_count": 119,
   "id": "edc23d6c",
   "metadata": {
    "scrolled": true
   },
   "outputs": [
    {
     "data": {
      "text/html": [
       "<div>\n",
       "<style scoped>\n",
       "    .dataframe tbody tr th:only-of-type {\n",
       "        vertical-align: middle;\n",
       "    }\n",
       "\n",
       "    .dataframe tbody tr th {\n",
       "        vertical-align: top;\n",
       "    }\n",
       "\n",
       "    .dataframe thead th {\n",
       "        text-align: right;\n",
       "    }\n",
       "</style>\n",
       "<table border=\"1\" class=\"dataframe\">\n",
       "  <thead>\n",
       "    <tr style=\"text-align: right;\">\n",
       "      <th></th>\n",
       "      <th>company</th>\n",
       "      <th>valuation</th>\n",
       "      <th>date_joined</th>\n",
       "      <th>industry</th>\n",
       "      <th>city</th>\n",
       "      <th>country</th>\n",
       "      <th>continent</th>\n",
       "      <th>year_founded</th>\n",
       "      <th>funding</th>\n",
       "      <th>select_investors</th>\n",
       "      <th>year_joined</th>\n",
       "      <th>year_current</th>\n",
       "      <th>years_to_unicorn</th>\n",
       "      <th>years_joined</th>\n",
       "    </tr>\n",
       "  </thead>\n",
       "  <tbody>\n",
       "    <tr>\n",
       "      <th>1</th>\n",
       "      <td>SpaceX</td>\n",
       "      <td>100</td>\n",
       "      <td>2012-12-01</td>\n",
       "      <td>Other</td>\n",
       "      <td>Hawthorne</td>\n",
       "      <td>United States</td>\n",
       "      <td>North America</td>\n",
       "      <td>2002</td>\n",
       "      <td>7.000</td>\n",
       "      <td>Founders Fund, Draper Fisher Jurvetson, Rothen...</td>\n",
       "      <td>2012</td>\n",
       "      <td>2022</td>\n",
       "      <td>10</td>\n",
       "      <td>10</td>\n",
       "    </tr>\n",
       "    <tr>\n",
       "      <th>11</th>\n",
       "      <td>Epic Games</td>\n",
       "      <td>32</td>\n",
       "      <td>2018-10-26</td>\n",
       "      <td>Other</td>\n",
       "      <td>Cary</td>\n",
       "      <td>United States</td>\n",
       "      <td>North America</td>\n",
       "      <td>1991</td>\n",
       "      <td>7.000</td>\n",
       "      <td>Tencent Holdings, KKR, Smash Ventures</td>\n",
       "      <td>2018</td>\n",
       "      <td>2022</td>\n",
       "      <td>27</td>\n",
       "      <td>4</td>\n",
       "    </tr>\n",
       "    <tr>\n",
       "      <th>60</th>\n",
       "      <td>Thrasio</td>\n",
       "      <td>10</td>\n",
       "      <td>2020-07-15</td>\n",
       "      <td>Other</td>\n",
       "      <td>Walpole</td>\n",
       "      <td>United States</td>\n",
       "      <td>North America</td>\n",
       "      <td>2018</td>\n",
       "      <td>2.000</td>\n",
       "      <td>Upper90, RiverPark Ventures, Advent International</td>\n",
       "      <td>2020</td>\n",
       "      <td>2022</td>\n",
       "      <td>2</td>\n",
       "      <td>2</td>\n",
       "    </tr>\n",
       "    <tr>\n",
       "      <th>102</th>\n",
       "      <td>Black Unicorn Factory</td>\n",
       "      <td>6</td>\n",
       "      <td>2021-05-20</td>\n",
       "      <td>Other</td>\n",
       "      <td>Los Angeles</td>\n",
       "      <td>United States</td>\n",
       "      <td>North America</td>\n",
       "      <td>2020</td>\n",
       "      <td>0.645</td>\n",
       "      <td>Barter Ventures</td>\n",
       "      <td>2021</td>\n",
       "      <td>2022</td>\n",
       "      <td>1</td>\n",
       "      <td>1</td>\n",
       "    </tr>\n",
       "    <tr>\n",
       "      <th>200</th>\n",
       "      <td>Redwood Materials</td>\n",
       "      <td>4</td>\n",
       "      <td>2021-07-28</td>\n",
       "      <td>Other</td>\n",
       "      <td>Carson City</td>\n",
       "      <td>United States</td>\n",
       "      <td>North America</td>\n",
       "      <td>2017</td>\n",
       "      <td>0.792</td>\n",
       "      <td>Breakthrough Energy Ventures, Capricorn Invest...</td>\n",
       "      <td>2021</td>\n",
       "      <td>2022</td>\n",
       "      <td>4</td>\n",
       "      <td>1</td>\n",
       "    </tr>\n",
       "    <tr>\n",
       "      <th>212</th>\n",
       "      <td>Relativity Space</td>\n",
       "      <td>4</td>\n",
       "      <td>2020-11-23</td>\n",
       "      <td>Other</td>\n",
       "      <td>Inglewood</td>\n",
       "      <td>United States</td>\n",
       "      <td>North America</td>\n",
       "      <td>2016</td>\n",
       "      <td>1.000</td>\n",
       "      <td>Playground Global, Bond, Tribe Capital</td>\n",
       "      <td>2020</td>\n",
       "      <td>2022</td>\n",
       "      <td>4</td>\n",
       "      <td>2</td>\n",
       "    </tr>\n",
       "    <tr>\n",
       "      <th>227</th>\n",
       "      <td>Farmers Business Network</td>\n",
       "      <td>4</td>\n",
       "      <td>2020-08-03</td>\n",
       "      <td>Other</td>\n",
       "      <td>San Carlos</td>\n",
       "      <td>United States</td>\n",
       "      <td>North America</td>\n",
       "      <td>2014</td>\n",
       "      <td>0.870</td>\n",
       "      <td>Blackrock, Kleiner Perkins Caulfield &amp; Byers, ...</td>\n",
       "      <td>2020</td>\n",
       "      <td>2022</td>\n",
       "      <td>6</td>\n",
       "      <td>2</td>\n",
       "    </tr>\n",
       "    <tr>\n",
       "      <th>255</th>\n",
       "      <td>A24 Films</td>\n",
       "      <td>3</td>\n",
       "      <td>2022-03-09</td>\n",
       "      <td>Other</td>\n",
       "      <td>New York</td>\n",
       "      <td>United States</td>\n",
       "      <td>North America</td>\n",
       "      <td>2012</td>\n",
       "      <td>0.225</td>\n",
       "      <td>Stripes Group, Neuberger Berman</td>\n",
       "      <td>2022</td>\n",
       "      <td>2022</td>\n",
       "      <td>10</td>\n",
       "      <td>0</td>\n",
       "    </tr>\n",
       "    <tr>\n",
       "      <th>293</th>\n",
       "      <td>Sila Nanotechnologies</td>\n",
       "      <td>3</td>\n",
       "      <td>2019-04-16</td>\n",
       "      <td>Other</td>\n",
       "      <td>Alameda</td>\n",
       "      <td>United States</td>\n",
       "      <td>North America</td>\n",
       "      <td>2011</td>\n",
       "      <td>0.880</td>\n",
       "      <td>Bessemer Venture Partners, Sutter Hill Venture...</td>\n",
       "      <td>2019</td>\n",
       "      <td>2022</td>\n",
       "      <td>8</td>\n",
       "      <td>3</td>\n",
       "    </tr>\n",
       "    <tr>\n",
       "      <th>419</th>\n",
       "      <td>Solugen</td>\n",
       "      <td>2</td>\n",
       "      <td>2021-09-10</td>\n",
       "      <td>Other</td>\n",
       "      <td>Houston</td>\n",
       "      <td>United States</td>\n",
       "      <td>North America</td>\n",
       "      <td>2016</td>\n",
       "      <td>0.435</td>\n",
       "      <td>Fifty Years Fund, Refactor Capital, Temasek</td>\n",
       "      <td>2021</td>\n",
       "      <td>2022</td>\n",
       "      <td>5</td>\n",
       "      <td>1</td>\n",
       "    </tr>\n",
       "    <tr>\n",
       "      <th>424</th>\n",
       "      <td>Uplight</td>\n",
       "      <td>2</td>\n",
       "      <td>2021-03-03</td>\n",
       "      <td>Other</td>\n",
       "      <td>Boulder</td>\n",
       "      <td>United States</td>\n",
       "      <td>North America</td>\n",
       "      <td>2019</td>\n",
       "      <td>NaN</td>\n",
       "      <td>Rubicon Technology Partners, Max Ventures, Inc...</td>\n",
       "      <td>2021</td>\n",
       "      <td>2022</td>\n",
       "      <td>2</td>\n",
       "      <td>1</td>\n",
       "    </tr>\n",
       "    <tr>\n",
       "      <th>435</th>\n",
       "      <td>ABL Space Systems</td>\n",
       "      <td>2</td>\n",
       "      <td>2021-03-25</td>\n",
       "      <td>Other</td>\n",
       "      <td>El Segundo</td>\n",
       "      <td>United States</td>\n",
       "      <td>North America</td>\n",
       "      <td>2017</td>\n",
       "      <td>0.419</td>\n",
       "      <td>T. Rowe Price, Lockheed Martin Ventures, Fidel...</td>\n",
       "      <td>2021</td>\n",
       "      <td>2022</td>\n",
       "      <td>4</td>\n",
       "      <td>1</td>\n",
       "    </tr>\n",
       "    <tr>\n",
       "      <th>460</th>\n",
       "      <td>Trader Interactive</td>\n",
       "      <td>2</td>\n",
       "      <td>2021-05-12</td>\n",
       "      <td>Other</td>\n",
       "      <td>Norfolk</td>\n",
       "      <td>United States</td>\n",
       "      <td>North America</td>\n",
       "      <td>2017</td>\n",
       "      <td>0.624</td>\n",
       "      <td>Carsales</td>\n",
       "      <td>2021</td>\n",
       "      <td>2022</td>\n",
       "      <td>4</td>\n",
       "      <td>1</td>\n",
       "    </tr>\n",
       "    <tr>\n",
       "      <th>486</th>\n",
       "      <td>Bowery Farming</td>\n",
       "      <td>2</td>\n",
       "      <td>2021-05-25</td>\n",
       "      <td>Other</td>\n",
       "      <td>New York</td>\n",
       "      <td>United States</td>\n",
       "      <td>North America</td>\n",
       "      <td>2015</td>\n",
       "      <td>0.497</td>\n",
       "      <td>Temasek, Google Ventures, General Catalyst</td>\n",
       "      <td>2021</td>\n",
       "      <td>2022</td>\n",
       "      <td>6</td>\n",
       "      <td>1</td>\n",
       "    </tr>\n",
       "    <tr>\n",
       "      <th>490</th>\n",
       "      <td>Skydance Media</td>\n",
       "      <td>2</td>\n",
       "      <td>2020-02-11</td>\n",
       "      <td>Other</td>\n",
       "      <td>Santa Monica</td>\n",
       "      <td>United States</td>\n",
       "      <td>North America</td>\n",
       "      <td>2010</td>\n",
       "      <td>0.275</td>\n",
       "      <td>RedBird Capital Partners, CJ ENM, Tencent Hold...</td>\n",
       "      <td>2020</td>\n",
       "      <td>2022</td>\n",
       "      <td>10</td>\n",
       "      <td>2</td>\n",
       "    </tr>\n",
       "    <tr>\n",
       "      <th>508</th>\n",
       "      <td>Diamond Foundry</td>\n",
       "      <td>2</td>\n",
       "      <td>2021-03-29</td>\n",
       "      <td>Other</td>\n",
       "      <td>San Francisco</td>\n",
       "      <td>United States</td>\n",
       "      <td>North America</td>\n",
       "      <td>2012</td>\n",
       "      <td>0.351</td>\n",
       "      <td>Fashion Tech Lab, Fidelity Investments, Vast V...</td>\n",
       "      <td>2021</td>\n",
       "      <td>2022</td>\n",
       "      <td>9</td>\n",
       "      <td>1</td>\n",
       "    </tr>\n",
       "    <tr>\n",
       "      <th>544</th>\n",
       "      <td>Apeel Sciences</td>\n",
       "      <td>2</td>\n",
       "      <td>2020-05-26</td>\n",
       "      <td>Other</td>\n",
       "      <td>Goleta</td>\n",
       "      <td>United States</td>\n",
       "      <td>North America</td>\n",
       "      <td>2012</td>\n",
       "      <td>0.640</td>\n",
       "      <td>Upfront Ventures, Tao Capital Partners, Andree...</td>\n",
       "      <td>2020</td>\n",
       "      <td>2022</td>\n",
       "      <td>8</td>\n",
       "      <td>2</td>\n",
       "    </tr>\n",
       "    <tr>\n",
       "      <th>719</th>\n",
       "      <td>Epirus</td>\n",
       "      <td>1</td>\n",
       "      <td>2022-02-14</td>\n",
       "      <td>Other</td>\n",
       "      <td>Hawthorne</td>\n",
       "      <td>United States</td>\n",
       "      <td>North America</td>\n",
       "      <td>2018</td>\n",
       "      <td>0.287</td>\n",
       "      <td>8VC, Bedrock Capital, Broom Ventures</td>\n",
       "      <td>2022</td>\n",
       "      <td>2022</td>\n",
       "      <td>4</td>\n",
       "      <td>0</td>\n",
       "    </tr>\n",
       "    <tr>\n",
       "      <th>731</th>\n",
       "      <td>Cava Group</td>\n",
       "      <td>1</td>\n",
       "      <td>2021-04-27</td>\n",
       "      <td>Other</td>\n",
       "      <td>Washington</td>\n",
       "      <td>United States</td>\n",
       "      <td>North America</td>\n",
       "      <td>2010</td>\n",
       "      <td>0.738</td>\n",
       "      <td>SWaN &amp; Legend Ventures, Revolution Growth, Inv...</td>\n",
       "      <td>2021</td>\n",
       "      <td>2022</td>\n",
       "      <td>11</td>\n",
       "      <td>1</td>\n",
       "    </tr>\n",
       "    <tr>\n",
       "      <th>744</th>\n",
       "      <td>The Brandtech Group</td>\n",
       "      <td>1</td>\n",
       "      <td>2019-11-19</td>\n",
       "      <td>Other</td>\n",
       "      <td>New York</td>\n",
       "      <td>United States</td>\n",
       "      <td>North America</td>\n",
       "      <td>2015</td>\n",
       "      <td>0.610</td>\n",
       "      <td>Undisclosed</td>\n",
       "      <td>2019</td>\n",
       "      <td>2022</td>\n",
       "      <td>4</td>\n",
       "      <td>3</td>\n",
       "    </tr>\n",
       "    <tr>\n",
       "      <th>774</th>\n",
       "      <td>Inari</td>\n",
       "      <td>1</td>\n",
       "      <td>2021-05-12</td>\n",
       "      <td>Other</td>\n",
       "      <td>Cambridge</td>\n",
       "      <td>United States</td>\n",
       "      <td>North America</td>\n",
       "      <td>2016</td>\n",
       "      <td>0.337</td>\n",
       "      <td>Flagship Pioneering, Alexandria Venture Invest...</td>\n",
       "      <td>2021</td>\n",
       "      <td>2022</td>\n",
       "      <td>5</td>\n",
       "      <td>1</td>\n",
       "    </tr>\n",
       "    <tr>\n",
       "      <th>812</th>\n",
       "      <td>Chief</td>\n",
       "      <td>1</td>\n",
       "      <td>2022-03-31</td>\n",
       "      <td>Other</td>\n",
       "      <td>New York</td>\n",
       "      <td>United States</td>\n",
       "      <td>North America</td>\n",
       "      <td>2019</td>\n",
       "      <td>0.140</td>\n",
       "      <td>General Catalyst, Inspired Capital, Flybridge ...</td>\n",
       "      <td>2022</td>\n",
       "      <td>2022</td>\n",
       "      <td>3</td>\n",
       "      <td>0</td>\n",
       "    </tr>\n",
       "    <tr>\n",
       "      <th>817</th>\n",
       "      <td>Firefly Aerospace</td>\n",
       "      <td>1</td>\n",
       "      <td>2021-05-04</td>\n",
       "      <td>Other</td>\n",
       "      <td>Cedar Park</td>\n",
       "      <td>United States</td>\n",
       "      <td>North America</td>\n",
       "      <td>2014</td>\n",
       "      <td>0.172</td>\n",
       "      <td>XBTO Ventures, Raven One Ventures, SK Ventures</td>\n",
       "      <td>2021</td>\n",
       "      <td>2022</td>\n",
       "      <td>7</td>\n",
       "      <td>1</td>\n",
       "    </tr>\n",
       "    <tr>\n",
       "      <th>842</th>\n",
       "      <td>Rubicon</td>\n",
       "      <td>1</td>\n",
       "      <td>2017-08-25</td>\n",
       "      <td>Other</td>\n",
       "      <td>Atlanta</td>\n",
       "      <td>United States</td>\n",
       "      <td>North America</td>\n",
       "      <td>2008</td>\n",
       "      <td>0.223</td>\n",
       "      <td>Goldman Sachs, Leonardo DiCaprio, Promecap</td>\n",
       "      <td>2017</td>\n",
       "      <td>2022</td>\n",
       "      <td>9</td>\n",
       "      <td>5</td>\n",
       "    </tr>\n",
       "    <tr>\n",
       "      <th>870</th>\n",
       "      <td>Axiom Space</td>\n",
       "      <td>1</td>\n",
       "      <td>2021-02-16</td>\n",
       "      <td>Other</td>\n",
       "      <td>Houston</td>\n",
       "      <td>United States</td>\n",
       "      <td>North America</td>\n",
       "      <td>2016</td>\n",
       "      <td>0.150</td>\n",
       "      <td>C5 Capital, Hemisphere Ventures, The Venture C...</td>\n",
       "      <td>2021</td>\n",
       "      <td>2022</td>\n",
       "      <td>5</td>\n",
       "      <td>1</td>\n",
       "    </tr>\n",
       "    <tr>\n",
       "      <th>881</th>\n",
       "      <td>Boom Supersonic</td>\n",
       "      <td>1</td>\n",
       "      <td>2020-12-16</td>\n",
       "      <td>Other</td>\n",
       "      <td>Englewood</td>\n",
       "      <td>United States</td>\n",
       "      <td>North America</td>\n",
       "      <td>2014</td>\n",
       "      <td>0.241</td>\n",
       "      <td>WRVI Capital, Caffeinated Capital, Y Combinator</td>\n",
       "      <td>2020</td>\n",
       "      <td>2022</td>\n",
       "      <td>6</td>\n",
       "      <td>2</td>\n",
       "    </tr>\n",
       "    <tr>\n",
       "      <th>976</th>\n",
       "      <td>Nature's Fynd</td>\n",
       "      <td>1</td>\n",
       "      <td>2021-07-19</td>\n",
       "      <td>Other</td>\n",
       "      <td>Chicago</td>\n",
       "      <td>United States</td>\n",
       "      <td>North America</td>\n",
       "      <td>2012</td>\n",
       "      <td>0.463</td>\n",
       "      <td>Danone Manifesto Ventures, 1955 Capital, Break...</td>\n",
       "      <td>2021</td>\n",
       "      <td>2022</td>\n",
       "      <td>9</td>\n",
       "      <td>1</td>\n",
       "    </tr>\n",
       "    <tr>\n",
       "      <th>1004</th>\n",
       "      <td>Printful</td>\n",
       "      <td>1</td>\n",
       "      <td>2021-05-24</td>\n",
       "      <td>Other</td>\n",
       "      <td>Charlotte</td>\n",
       "      <td>United States</td>\n",
       "      <td>North America</td>\n",
       "      <td>2016</td>\n",
       "      <td>0.130</td>\n",
       "      <td>Bregal Sagemount</td>\n",
       "      <td>2021</td>\n",
       "      <td>2022</td>\n",
       "      <td>5</td>\n",
       "      <td>1</td>\n",
       "    </tr>\n",
       "    <tr>\n",
       "      <th>1009</th>\n",
       "      <td>Red Ventures</td>\n",
       "      <td>1</td>\n",
       "      <td>2015-01-07</td>\n",
       "      <td>Other</td>\n",
       "      <td>Fort Mill</td>\n",
       "      <td>United States</td>\n",
       "      <td>North America</td>\n",
       "      <td>2000</td>\n",
       "      <td>0.250</td>\n",
       "      <td>Silver Lake Partners, General Atlantic</td>\n",
       "      <td>2015</td>\n",
       "      <td>2022</td>\n",
       "      <td>15</td>\n",
       "      <td>7</td>\n",
       "    </tr>\n",
       "    <tr>\n",
       "      <th>1018</th>\n",
       "      <td>Sentry</td>\n",
       "      <td>1</td>\n",
       "      <td>2021-02-18</td>\n",
       "      <td>Other</td>\n",
       "      <td>San Francisco</td>\n",
       "      <td>United States</td>\n",
       "      <td>North America</td>\n",
       "      <td>2011</td>\n",
       "      <td>0.127</td>\n",
       "      <td>New Enterprise Associates, Accel, Bond</td>\n",
       "      <td>2021</td>\n",
       "      <td>2022</td>\n",
       "      <td>10</td>\n",
       "      <td>1</td>\n",
       "    </tr>\n",
       "  </tbody>\n",
       "</table>\n",
       "</div>"
      ],
      "text/plain": [
       "                       company  valuation date_joined industry           city  \\\n",
       "1                       SpaceX        100  2012-12-01    Other      Hawthorne   \n",
       "11                  Epic Games         32  2018-10-26    Other           Cary   \n",
       "60                     Thrasio         10  2020-07-15    Other        Walpole   \n",
       "102      Black Unicorn Factory          6  2021-05-20    Other    Los Angeles   \n",
       "200          Redwood Materials          4  2021-07-28    Other    Carson City   \n",
       "212           Relativity Space          4  2020-11-23    Other      Inglewood   \n",
       "227   Farmers Business Network          4  2020-08-03    Other     San Carlos   \n",
       "255                  A24 Films          3  2022-03-09    Other       New York   \n",
       "293      Sila Nanotechnologies          3  2019-04-16    Other        Alameda   \n",
       "419                    Solugen          2  2021-09-10    Other        Houston   \n",
       "424                    Uplight          2  2021-03-03    Other        Boulder   \n",
       "435          ABL Space Systems          2  2021-03-25    Other     El Segundo   \n",
       "460         Trader Interactive          2  2021-05-12    Other        Norfolk   \n",
       "486             Bowery Farming          2  2021-05-25    Other       New York   \n",
       "490             Skydance Media          2  2020-02-11    Other   Santa Monica   \n",
       "508            Diamond Foundry          2  2021-03-29    Other  San Francisco   \n",
       "544             Apeel Sciences          2  2020-05-26    Other         Goleta   \n",
       "719                     Epirus          1  2022-02-14    Other      Hawthorne   \n",
       "731                 Cava Group          1  2021-04-27    Other     Washington   \n",
       "744        The Brandtech Group          1  2019-11-19    Other       New York   \n",
       "774                      Inari          1  2021-05-12    Other      Cambridge   \n",
       "812                      Chief          1  2022-03-31    Other       New York   \n",
       "817          Firefly Aerospace          1  2021-05-04    Other     Cedar Park   \n",
       "842                    Rubicon          1  2017-08-25    Other        Atlanta   \n",
       "870                Axiom Space          1  2021-02-16    Other        Houston   \n",
       "881            Boom Supersonic          1  2020-12-16    Other      Englewood   \n",
       "976              Nature's Fynd          1  2021-07-19    Other        Chicago   \n",
       "1004                  Printful          1  2021-05-24    Other      Charlotte   \n",
       "1009              Red Ventures          1  2015-01-07    Other      Fort Mill   \n",
       "1018                    Sentry          1  2021-02-18    Other  San Francisco   \n",
       "\n",
       "            country      continent  year_founded  funding  \\\n",
       "1     United States  North America          2002    7.000   \n",
       "11    United States  North America          1991    7.000   \n",
       "60    United States  North America          2018    2.000   \n",
       "102   United States  North America          2020    0.645   \n",
       "200   United States  North America          2017    0.792   \n",
       "212   United States  North America          2016    1.000   \n",
       "227   United States  North America          2014    0.870   \n",
       "255   United States  North America          2012    0.225   \n",
       "293   United States  North America          2011    0.880   \n",
       "419   United States  North America          2016    0.435   \n",
       "424   United States  North America          2019      NaN   \n",
       "435   United States  North America          2017    0.419   \n",
       "460   United States  North America          2017    0.624   \n",
       "486   United States  North America          2015    0.497   \n",
       "490   United States  North America          2010    0.275   \n",
       "508   United States  North America          2012    0.351   \n",
       "544   United States  North America          2012    0.640   \n",
       "719   United States  North America          2018    0.287   \n",
       "731   United States  North America          2010    0.738   \n",
       "744   United States  North America          2015    0.610   \n",
       "774   United States  North America          2016    0.337   \n",
       "812   United States  North America          2019    0.140   \n",
       "817   United States  North America          2014    0.172   \n",
       "842   United States  North America          2008    0.223   \n",
       "870   United States  North America          2016    0.150   \n",
       "881   United States  North America          2014    0.241   \n",
       "976   United States  North America          2012    0.463   \n",
       "1004  United States  North America          2016    0.130   \n",
       "1009  United States  North America          2000    0.250   \n",
       "1018  United States  North America          2011    0.127   \n",
       "\n",
       "                                       select_investors  year_joined  \\\n",
       "1     Founders Fund, Draper Fisher Jurvetson, Rothen...         2012   \n",
       "11                Tencent Holdings, KKR, Smash Ventures         2018   \n",
       "60    Upper90, RiverPark Ventures, Advent International         2020   \n",
       "102                                     Barter Ventures         2021   \n",
       "200   Breakthrough Energy Ventures, Capricorn Invest...         2021   \n",
       "212              Playground Global, Bond, Tribe Capital         2020   \n",
       "227   Blackrock, Kleiner Perkins Caulfield & Byers, ...         2020   \n",
       "255                     Stripes Group, Neuberger Berman         2022   \n",
       "293   Bessemer Venture Partners, Sutter Hill Venture...         2019   \n",
       "419         Fifty Years Fund, Refactor Capital, Temasek         2021   \n",
       "424   Rubicon Technology Partners, Max Ventures, Inc...         2021   \n",
       "435   T. Rowe Price, Lockheed Martin Ventures, Fidel...         2021   \n",
       "460                                            Carsales         2021   \n",
       "486          Temasek, Google Ventures, General Catalyst         2021   \n",
       "490   RedBird Capital Partners, CJ ENM, Tencent Hold...         2020   \n",
       "508   Fashion Tech Lab, Fidelity Investments, Vast V...         2021   \n",
       "544   Upfront Ventures, Tao Capital Partners, Andree...         2020   \n",
       "719                8VC, Bedrock Capital, Broom Ventures         2022   \n",
       "731   SWaN & Legend Ventures, Revolution Growth, Inv...         2021   \n",
       "744                                         Undisclosed         2019   \n",
       "774   Flagship Pioneering, Alexandria Venture Invest...         2021   \n",
       "812   General Catalyst, Inspired Capital, Flybridge ...         2022   \n",
       "817      XBTO Ventures, Raven One Ventures, SK Ventures         2021   \n",
       "842          Goldman Sachs, Leonardo DiCaprio, Promecap         2017   \n",
       "870   C5 Capital, Hemisphere Ventures, The Venture C...         2021   \n",
       "881     WRVI Capital, Caffeinated Capital, Y Combinator         2020   \n",
       "976   Danone Manifesto Ventures, 1955 Capital, Break...         2021   \n",
       "1004                                   Bregal Sagemount         2021   \n",
       "1009             Silver Lake Partners, General Atlantic         2015   \n",
       "1018             New Enterprise Associates, Accel, Bond         2021   \n",
       "\n",
       "      year_current  years_to_unicorn  years_joined  \n",
       "1             2022                10            10  \n",
       "11            2022                27             4  \n",
       "60            2022                 2             2  \n",
       "102           2022                 1             1  \n",
       "200           2022                 4             1  \n",
       "212           2022                 4             2  \n",
       "227           2022                 6             2  \n",
       "255           2022                10             0  \n",
       "293           2022                 8             3  \n",
       "419           2022                 5             1  \n",
       "424           2022                 2             1  \n",
       "435           2022                 4             1  \n",
       "460           2022                 4             1  \n",
       "486           2022                 6             1  \n",
       "490           2022                10             2  \n",
       "508           2022                 9             1  \n",
       "544           2022                 8             2  \n",
       "719           2022                 4             0  \n",
       "731           2022                11             1  \n",
       "744           2022                 4             3  \n",
       "774           2022                 5             1  \n",
       "812           2022                 3             0  \n",
       "817           2022                 7             1  \n",
       "842           2022                 9             5  \n",
       "870           2022                 5             1  \n",
       "881           2022                 6             2  \n",
       "976           2022                 9             1  \n",
       "1004          2022                 5             1  \n",
       "1009          2022                15             7  \n",
       "1018          2022                10             1  "
      ]
     },
     "execution_count": 119,
     "metadata": {},
     "output_type": "execute_result"
    }
   ],
   "source": [
    "unicorn2022.loc[unicorn2022.industry == 'Other'].loc[unicorn2022.country.isin([\"United States\"])] # SPACEX"
   ]
  },
  {
   "cell_type": "markdown",
   "id": "093d03ce",
   "metadata": {},
   "source": [
    "## B. Unicorn boom years"
   ]
  },
  {
   "cell_type": "code",
   "execution_count": 120,
   "id": "af12efaf",
   "metadata": {
    "scrolled": false
   },
   "outputs": [
    {
     "data": {
      "image/png": "[encoded data removed]",
      "text/plain": [
       "<Figure size 432x288 with 1 Axes>"
      ]
     },
     "metadata": {
      "needs_background": "light"
     },
     "output_type": "display_data"
    }
   ],
   "source": [
    "#plt.figure(figsize=(6,6)) \n",
    "\n",
    "unicorn2022.groupby('year_joined')['years_to_unicorn'].mean().plot(color = 'b',kind = 'barh')\n",
    "\n",
    "for index, value in enumerate(unicorn2022.groupby('year_joined')['years_to_unicorn'].mean()):\n",
    "    plt.text(value, index, str(round(value,1)))\n",
    "    \n",
    "plt.xlabel('Average years to become a unicorn')\n",
    "plt.ylabel('Year Joined')\n",
    "plt.title('Average No. of Years to Become A Unicorn by Year Joined')\n",
    "\n",
    "plt.show()"
   ]
  },
  {
   "cell_type": "code",
   "execution_count": 121,
   "id": "0ecbbbbd",
   "metadata": {
    "scrolled": true
   },
   "outputs": [
    {
     "data": {
      "image/png": "[encoded data removed]",
      "text/plain": [
       "<Figure size 432x288 with 3 Axes>"
      ]
     },
     "metadata": {
      "needs_background": "light"
     },
     "output_type": "display_data"
    }
   ],
   "source": [
    "fig, axs = plt.subplots(ncols=3 ,sharey=True)\n",
    "\n",
    "#1\n",
    "sns.countplot(y ='industry',\n",
    "              data = unicorn2022.loc[(unicorn2022['year_joined'] == 2015)], \n",
    "              ax=axs[0],\n",
    "              order=unicorn2022.industry.value_counts().index).\\\n",
    "              set(title='2015',xlabel='Count',ylabel='Industry',xlim=(0,15))\n",
    "\n",
    "\n",
    "sns.countplot(y ='industry',\n",
    "              data = unicorn2022.loc[(unicorn2022['year_joined'] == 2018) ], \n",
    "              ax=axs[1],\n",
    "              order=unicorn2022.industry.value_counts().index).\\\n",
    "              set(title='2018',xlabel='Count',ylabel='',xlim=(0,15))\n",
    "\n",
    "\n",
    "sns.countplot(y ='industry',\n",
    "              data = unicorn2022.loc[(unicorn2022['year_joined'] == 2021) ], \n",
    "              ax=axs[2],\n",
    "              order=unicorn2022.industry.value_counts().index).\\\n",
    "              set(title='2021',xlabel='Count',ylabel='')\n",
    "\n",
    "\n",
    "plt.show()"
   ]
  },
  {
   "cell_type": "code",
   "execution_count": 122,
   "id": "8a69457b",
   "metadata": {},
   "outputs": [
    {
     "data": {
      "image/png": "[encoded data removed]",
      "text/plain": [
       "<Figure size 432x288 with 1 Axes>"
      ]
     },
     "metadata": {
      "needs_background": "light"
     },
     "output_type": "display_data"
    }
   ],
   "source": [
    "#plt.figure(figsize=(10,10)) \n",
    "\n",
    "unicorn2022.loc[unicorn2022.year_joined == 2015].groupby('industry')['company'].count().sort_values().plot(color = 'b',kind = 'barh')\n",
    "\n",
    "for index, value in enumerate(unicorn2022.loc[unicorn2022.year_joined == 2015].groupby('industry')['company'].count().sort_values()):\n",
    "    plt.text(value, index, str(round(value,1)))\n",
    "    \n",
    "plt.xlabel('Count')\n",
    "plt.ylabel('Industry')\n",
    "plt.title('2015 New Joiners by Industry')\n",
    "\n",
    "plt.show()"
   ]
  },
  {
   "cell_type": "code",
   "execution_count": 123,
   "id": "84207d32",
   "metadata": {},
   "outputs": [
    {
     "data": {
      "image/png": "[encoded data removed]",
      "text/plain": [
       "<Figure size 432x288 with 1 Axes>"
      ]
     },
     "metadata": {
      "needs_background": "light"
     },
     "output_type": "display_data"
    }
   ],
   "source": [
    "#plt.figure(figsize=(10,10)) \n",
    "\n",
    "unicorn2022.loc[unicorn2022.year_joined == 2018].groupby('industry')['company'].count().sort_values().plot(color = 'b',kind = 'barh')\n",
    "\n",
    "for index, value in enumerate(unicorn2022.loc[unicorn2022.year_joined == 2018].groupby('industry')['company'].count().sort_values()):\n",
    "    plt.text(value, index, str(round(value,1)))\n",
    "    \n",
    "plt.xlabel('Count')\n",
    "plt.ylabel('Industry')\n",
    "plt.title('2018 New Joiners by Industry')\n",
    "\n",
    "plt.show()"
   ]
  },
  {
   "cell_type": "code",
   "execution_count": 124,
   "id": "6a8c1e87",
   "metadata": {},
   "outputs": [
    {
     "data": {
      "image/png": "[encoded data removed]",
      "text/plain": [
       "<Figure size 432x288 with 1 Axes>"
      ]
     },
     "metadata": {
      "needs_background": "light"
     },
     "output_type": "display_data"
    }
   ],
   "source": [
    "#plt.figure(figsize=(10,10)) \n",
    "\n",
    "unicorn2022.loc[unicorn2022.year_joined == 2021].groupby('industry')['company'].count().sort_values().plot(color = 'b',kind = 'barh')\n",
    "\n",
    "for index, value in enumerate(unicorn2022.loc[unicorn2022.year_joined == 2021].groupby('industry')['company'].count().sort_values()):\n",
    "    plt.text(value, index, str(round(value,1)))\n",
    "    \n",
    "plt.xlabel('Count')\n",
    "plt.ylabel('Industry')\n",
    "plt.title('2021 New Joiners by Industry')\n",
    "\n",
    "plt.show()"
   ]
  },
  {
   "cell_type": "markdown",
   "id": "f3c9dc56",
   "metadata": {},
   "source": [
    "**Analysis**\\\n",
    "**I.** \n",
    "* U.S is mostly concentrated in fintech and internet software & services. China is mostly concentrated in e-commerce & DTC and AI.\n",
    "* There's a major hike in U.S. in 2021. In China, the number of new joiners has decreased since 2018 and the downward trend reversed in 2021.\n",
    "* Top ranked unicorn with extrame high valuations contribute to the high average industry valuation. Excluding these compnaies, average valuation of unicorns in U.S and China are comparable to worldwide average.\n",
    "\n",
    "**II.**\n",
    "* Average number of years to become a unicorn since founded is relatively shorter in unicorn boom years.\n",
    "* The three observed unicorn booms are contributed by different indurties each year. Top contributers in each year were: e-commerce & DTC in 2015, internet software & services in 2018, and fintech in 2021."
   ]
  }
 ],
 "metadata": {
  "kernelspec": {
   "display_name": "Python 3",
   "language": "python",
   "name": "python3"
  },
  "language_info": {
   "codemirror_mode": {
    "name": "ipython",
    "version": 3
   },
   "file_extension": ".py",
   "mimetype": "text/x-python",
   "name": "python",
   "nbconvert_exporter": "python",
   "pygments_lexer": "ipython3",
   "version": "3.8.8"
  }
 },
 "nbformat": 4,
 "nbformat_minor": 5
}
